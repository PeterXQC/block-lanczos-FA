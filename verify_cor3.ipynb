{
 "cells": [
  {
   "cell_type": "code",
   "execution_count": 2,
   "id": "1a84f04f",
   "metadata": {
    "scrolled": true
   },
   "outputs": [
    {
     "name": "stdout",
     "output_type": "stream",
     "text": [
      "The autoreload extension is already loaded. To reload it, use:\n",
      "  %reload_ext autoreload\n"
     ]
    }
   ],
   "source": [
    "import block_methods as BM\n",
    "\n",
    "import numpy as np\n",
    "import scipy as sp\n",
    "import matplotlib.pyplot as plt\n",
    "from scipy import integrate\n",
    "\n",
    "plt.rcParams[\"figure.figsize\"] = (16,9)\n",
    "\n",
    "%load_ext autoreload\n",
    "%autoreload 2"
   ]
  },
  {
   "cell_type": "code",
   "execution_count": 6,
   "id": "9b59fbd8",
   "metadata": {},
   "outputs": [],
   "source": [
    "n = 1000 # matrix dimension\n",
    "b = 5 # block size\n",
    "K = 10 # max iter\n",
    "\n",
    "# set up matrix\n",
    "lam = np.linspace(1e-2,1,n)\n",
    "H = np.diag(lam)\n",
    "\n",
    "# set up vector\n",
    "V = np.random.randn(n,b)"
   ]
  },
  {
   "cell_type": "code",
   "execution_count": 7,
   "id": "c0b74eae",
   "metadata": {},
   "outputs": [],
   "source": [
    "# run Lanczos\n",
    "Q,Qkp1,A,B,B_0 = BM.block_lanczos(H, V, K, K+1)\n",
    "\n",
    "# generate tridiagonal matrix adn get eigendecomp\n",
    "T = BM.get_block_tridiag(A,B)\n",
    "Eval,Evec = np.linalg.eigh(T)"
   ]
  },
  {
   "cell_type": "code",
   "execution_count": 9,
   "id": "d17b0940",
   "metadata": {},
   "outputs": [
    {
     "data": {
      "text/plain": [
       "5"
      ]
     },
     "execution_count": 9,
     "metadata": {},
     "output_type": "execute_result"
    }
   ],
   "source": [
    "np.shape(B_0)[0]"
   ]
  },
  {
   "cell_type": "code",
   "execution_count": 7,
   "id": "52cd2f8e",
   "metadata": {},
   "outputs": [
    {
     "data": {
      "text/plain": [
       "1.2212453270876722e-15"
      ]
     },
     "execution_count": 7,
     "metadata": {},
     "output_type": "execute_result"
    }
   ],
   "source": [
    "# check orthogonality\n",
    "np.max(np.abs(Q.T@Q-np.eye(b*K)))"
   ]
  },
  {
   "cell_type": "code",
   "execution_count": 8,
   "id": "da5e052d",
   "metadata": {},
   "outputs": [
    {
     "data": {
      "text/plain": [
       "3.311051714667688e-16"
      ]
     },
     "execution_count": 8,
     "metadata": {},
     "output_type": "execute_result"
    }
   ],
   "source": [
    "# check three term recurrence\n",
    "E = H@Q-Q@T\n",
    "E[:,-b:] -= Qkp1@B[K-1]\n",
    "np.max(np.linalg.norm(E,axis=0))"
   ]
  },
  {
   "cell_type": "code",
   "execution_count": 38,
   "id": "c3e3607d",
   "metadata": {},
   "outputs": [],
   "source": [
    "z = -1\n",
    "w = 0\n",
    "\n",
    "Dzinv = np.diag(1/(Eval-z))\n",
    "Dwinv = np.diag(1/(Eval-w))\n",
    "\n",
    "# we can use (lam-z[:,None])*(block vector) instead of \n",
    "# np.diag(lam-z)@(block vector) to avoid forming an n \\times n matrix\n",
    "resz = V - (lam-z)[:,None]*(Q@Evec@Dzinv@Evec.T@BM.Ei(b*K,b,1)@B_0)\n",
    "resw = V - (lam-w)[:,None]*(Q@Evec@Dwinv@Evec.T@BM.Ei(b*K,b,1)@B_0)\n",
    "\n",
    "errz = 1/(lam-z)[:,None]*V - Q@Evec@Dzinv@Evec.T@BM.Ei(b*K,b,1)@B_0\n",
    "errw = 1/(lam-w)[:,None]*V - Q@Evec@Dwinv@Evec.T@BM.Ei(b*K,b,1)@B_0"
   ]
  },
  {
   "cell_type": "code",
   "execution_count": 36,
   "id": "8e2d3ab1",
   "metadata": {},
   "outputs": [
    {
     "data": {
      "text/plain": [
       "(6.414187565707731e-14, 1.0016405161237455e-06)"
      ]
     },
     "execution_count": 36,
     "metadata": {},
     "output_type": "execute_result"
    }
   ],
   "source": [
    "# check Lemma 1\n",
    "Cz = BM.get_Cz(Eval,Evec,z,b,B_0)\n",
    "\n",
    "np.linalg.norm(resz - Qkp1@B[K-1]@Cz),np.linalg.norm(resz)"
   ]
  },
  {
   "cell_type": "code",
   "execution_count": 39,
   "id": "f04b9d3f",
   "metadata": {},
   "outputs": [
    {
     "data": {
      "text/plain": [
       "6.414184770529834e-14"
      ]
     },
     "execution_count": 39,
     "metadata": {},
     "output_type": "execute_result"
    }
   ],
   "source": [
    "# check Corollary 1\n",
    "CwinvCz = BM.get_CwinvCz(Eval,Evec,z,w,b,B_0)\n",
    "\n",
    "np.linalg.norm(resz-resw@CwinvCz)"
   ]
  },
  {
   "cell_type": "code",
   "execution_count": 40,
   "id": "0bc6b306",
   "metadata": {},
   "outputs": [
    {
     "data": {
      "text/plain": [
       "4.09930456040736e-14"
      ]
     },
     "execution_count": 40,
     "metadata": {},
     "output_type": "execute_result"
    }
   ],
   "source": [
    "np.linalg.norm(errz-((lam-w)/(lam-z))[:,None]*(errw@CwinvCz))"
   ]
  }
 ],
 "metadata": {
  "kernelspec": {
   "display_name": "Python 3 (ipykernel)",
   "language": "python",
   "name": "python3"
  },
  "language_info": {
   "codemirror_mode": {
    "name": "ipython",
    "version": 3
   },
   "file_extension": ".py",
   "mimetype": "text/x-python",
   "name": "python",
   "nbconvert_exporter": "python",
   "pygments_lexer": "ipython3",
   "version": "3.9.12"
  }
 },
 "nbformat": 4,
 "nbformat_minor": 5
}
