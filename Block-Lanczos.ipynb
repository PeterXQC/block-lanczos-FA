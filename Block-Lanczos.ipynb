{
 "cells": [
  {
   "cell_type": "code",
   "execution_count": 1,
   "metadata": {},
   "outputs": [],
   "source": [
    "import numpy as np\n",
    "import scipy as sp"
   ]
  },
  {
   "cell_type": "code",
   "execution_count": 2,
   "metadata": {},
   "outputs": [],
   "source": [
    "# Generate random real nxn block hermitian matrix with block size b\n",
    "def randHerm(n, b = 1):\n",
    "    m = n*b\n",
    "    A = np.random.rand(m, m)\n",
    "    for i in np.arange(m):\n",
    "        for j in range(i+1, m):\n",
    "            A[i, j] = A[j, i]\n",
    "    return A"
   ]
  },
  {
   "cell_type": "code",
   "execution_count": 3,
   "metadata": {},
   "outputs": [],
   "source": [
    "def randVec(n, b = 1):\n",
    "    return np.random.rand(n*b, b)"
   ]
  },
  {
   "cell_type": "code",
   "execution_count": 116,
   "metadata": {},
   "outputs": [],
   "source": [
    "def block_lanczos(H,V,k,reorth = 0):\n",
    "    \"\"\"\n",
    "    Input\n",
    "    -----\n",
    "    \n",
    "    H    : d x d matrix\n",
    "    V    : d x b starting block\n",
    "    k    : number of iterations\n",
    "    \n",
    "    Returns\n",
    "    -------\n",
    "    Q1k  : First k blocks of Lanczos vectors\n",
    "    Qkp1 : final block of Lanczos vetors\n",
    "    A    : diagonal blocks\n",
    "    B    : off diagonal blocks (incuding block for starting with non-orthogonal block)\n",
    "    \"\"\"\n",
    "\n",
    "    Z = np.copy(V)\n",
    "    d,b = Z.shape\n",
    "    \n",
    "    A = [np.zeros((b,b),dtype=H.dtype)] * k\n",
    "    B = [np.zeros((b,b),dtype=H.dtype)] * (k+1)\n",
    "    \n",
    "    Q = np.zeros((d,b*(k+1)),dtype=H.dtype)\n",
    "\n",
    "    # B[0] accounts for non-orthogonal V and is not part of tridiagonal matrix\n",
    "    Q[:,0:b],B[0] = np.linalg.qr(Z)\n",
    "    for j in range(0,k):\n",
    "        \n",
    "#       Qj is the next column of blocks\n",
    "        Qj = Q[:,j*b:(j+1)*b]\n",
    "\n",
    "        if j == 0:\n",
    "            Z = H@Qj\n",
    "        else:\n",
    "            Qjm1 = Q[:,(j-1)*b:j*b]\n",
    "            Z = H @ Qj - Qjm1 @ (B[j].conj().T)\n",
    "        \n",
    "        # double reorthogonalization if needed\n",
    "        if reorth > j:\n",
    "            Z -= Q[:,:j * b] @ (Q[:,:j * b].conj().T @ Z)\n",
    "            Z -= Q[:,:j * b] @ (Q[:,:j * b].conj().T @ Z)\n",
    "\n",
    "        A[j] = Qj.conj().T @ Z\n",
    "        Z -= Qj @ A[j]\n",
    "        \n",
    "        Q[:,(j+1)*b:(j+2)*b],B[j + 1] = np.linalg.qr(Z)\n",
    "    \n",
    "    Q1k = Q[:,:b*k]\n",
    "    Qkp1 = Q[:,b*k:]\n",
    "\n",
    "    return Q1k, Qkp1, A, B"
   ]
  },
  {
   "cell_type": "code",
   "execution_count": 111,
   "metadata": {},
   "outputs": [],
   "source": [
    "def get_block_tridiag(A,B):\n",
    "    \"\"\"\n",
    "    Input\n",
    "    -----\n",
    "    \n",
    "    A  : diagonal blocks\n",
    "    B  : off diagonal blocks\n",
    "    \n",
    "    Returns\n",
    "    -------\n",
    "    T  : block tridiagonal matrix\n",
    "    \n",
    "    \"\"\"\n",
    "    \n",
    "    q = len(A)\n",
    "    b = len(A[0])\n",
    "    \n",
    "    T = np.zeros((q*b,q*b),dtype=A[0].dtype)\n",
    "\n",
    "    for k in range(q):\n",
    "        T[k*b:(k+1)*b,k*b:(k+1)*b] = A[k]\n",
    "\n",
    "    for k in range(q-1):\n",
    "        T[(k+1)*b:(k+2)*b,k*b:(k+1)*b] = B[k]\n",
    "        T[k*b:(k+1)*b,(k+1)*b:(k+2)*b] = B[k].conj().T\n",
    "    \n",
    "    return T"
   ]
  },
  {
   "cell_type": "code",
   "execution_count": 127,
   "metadata": {},
   "outputs": [],
   "source": [
    "# k is number of blocks, b block size, i is the position of the identity matrix\n",
    "def Ei(k, b, i):\n",
    "    \"\"\"\n",
    "    Input\n",
    "    -----\n",
    "    \n",
    "    k  : number of blocks\n",
    "    b  : block size\n",
    "    i  : position of diagonal block\n",
    "    \n",
    "    Returns\n",
    "    -------\n",
    "    Ei  : block zero vector with identity in i-th position\n",
    "    \n",
    "    \"\"\"\n",
    "        \n",
    "    Ei = np.zeros((k*b,b))\n",
    "    Ei[i*b:(i+1)*b,:] = np.identity(b)\n",
    "    \n",
    "    return Ei"
   ]
  },
  {
   "cell_type": "code",
   "execution_count": 128,
   "metadata": {},
   "outputs": [
    {
     "name": "stdout",
     "output_type": "stream",
     "text": [
      "Qk*Qk = I test passed\n",
      "three term recurrence test passed\n"
     ]
    }
   ],
   "source": [
    "# test output of Lanczos algorithm\n",
    "n = 20\n",
    "b = 2\n",
    "k = 5\n",
    "\n",
    "H = randHerm(n, b)\n",
    "V = randVec(n, b)\n",
    "Qk, Qkp1, M, B = block_lanczos(H, V, k, 1000)\n",
    "T = get_block_tridiag(M,B[1:])\n",
    "\n",
    "if (np.linalg.norm(Qk.T@Qk-np.identity(np.shape(Qk.T@Qk)[0])) <= 1e-8):\n",
    "    print(\"Qk*Qk = I test passed\")\n",
    "\n",
    "if (np.linalg.norm(Qk@T + Qkp1@B[k]@Ei(k, b, k-1).conj().T - H@Qk) <= 1e-8):\n",
    "    print(\"three term recurrence test passed\")"
   ]
  }
 ],
 "metadata": {
  "kernelspec": {
   "display_name": "Python 3",
   "language": "python",
   "name": "python3"
  },
  "language_info": {
   "codemirror_mode": {
    "name": "ipython",
    "version": 3
   },
   "file_extension": ".py",
   "mimetype": "text/x-python",
   "name": "python",
   "nbconvert_exporter": "python",
   "pygments_lexer": "ipython3",
   "version": "3.8.3"
  }
 },
 "nbformat": 4,
 "nbformat_minor": 5
}
