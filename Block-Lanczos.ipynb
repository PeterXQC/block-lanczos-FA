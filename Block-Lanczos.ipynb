{
 "cells": [
  {
   "cell_type": "code",
   "execution_count": 2,
   "id": "84a388ff",
   "metadata": {},
   "outputs": [],
   "source": [
    "import numpy as np\n",
    "import scipy as sp"
   ]
  },
  {
   "cell_type": "code",
   "execution_count": 3,
   "id": "ab64160b",
   "metadata": {},
   "outputs": [],
   "source": [
    "# Generate random real nxn block hermitian matrix with block size b\n",
    "def randHerm(n, b = 1):\n",
    "    m = n*b\n",
    "    A = np.random.rand(m, m)\n",
    "    for i in np.arange(m):\n",
    "        for j in range(i+1, m):\n",
    "            A[i, j] = A[j, i]\n",
    "    return A"
   ]
  },
  {
   "cell_type": "code",
   "execution_count": 4,
   "id": "8ea74dda",
   "metadata": {},
   "outputs": [],
   "source": [
    "def randVec(n, b = 1):\n",
    "    return np.random.rand(n*b, b)"
   ]
  },
  {
   "cell_type": "code",
   "execution_count": 214,
   "id": "c1a972c3",
   "metadata": {},
   "outputs": [],
   "source": [
    "def block_lanczos(H,V,q,reorth = 0):\n",
    "    \n",
    "#     H is dxd, V is d x b, b is block size\n",
    "#     @ is normal matrix multiplication\n",
    "#     q is the number of iterations\n",
    "    Z = np.copy(V)\n",
    "    d,b = Z.shape\n",
    "    \n",
    "    M = [np.zeros((b,b),dtype=H.dtype)] * q\n",
    "    B = [np.zeros((b,b),dtype=H.dtype)] * (q + 1)\n",
    "    \n",
    "    Q = np.zeros((d,b*(q+1)),dtype=H.dtype)\n",
    "\n",
    "#     if not assume orthogonal then use qr to orthogonalize \n",
    "    Q[:,0:b],B[0] = np.linalg.qr(Z)\n",
    "    for k in range(0,q):\n",
    "        \n",
    "#         Qk is the next column of blocks\n",
    "        Qk = Q[:,k*b:(k+1)*b]\n",
    "#         Q_k-1 = 0 when k = 0, so Z = H@Qk.\n",
    "        if k > 0:\n",
    "            Qkm1 = Q[:,(k-1)*b:k*b]\n",
    "        else:\n",
    "            Qkm1 = np.zeros((q, b))\n",
    "            \n",
    "        Z = H @ Qk - Qkm1 @ (B[k].conj().T) if k > 0 else H @ Qk\n",
    "        \n",
    "        if reorth > k:\n",
    "            Z -= Q[:,:k * b] @ (Q[:,:k * b].conj().T @ Z)\n",
    "            Z -= Q[:,:k * b] @ (Q[:,:k * b].conj().T @ Z)\n",
    "\n",
    "        M[k] = Qk.conj().T @ Z\n",
    "        Z -= Qk @ M[k]\n",
    "        \n",
    "        Q[:,(k + 1) * b:(k + 2) * b],B[k + 1] = np.linalg.qr(Z)\n",
    "    \n",
    "    Qk = Q[:, :b*q]\n",
    "    Qkp1 = Q[:, b*q:]\n",
    "\n",
    "    return Qk, Qkp1, M, B"
   ]
  },
  {
   "cell_type": "code",
   "execution_count": 215,
   "id": "f13777b1",
   "metadata": {},
   "outputs": [],
   "source": [
    "def get_block_tridiag(M,R):\n",
    "\n",
    "    q = len(M)\n",
    "    b = len(M[0])\n",
    "    \n",
    "    T = np.zeros((q*b,q*b),dtype=M[0].dtype)\n",
    "\n",
    "    for k in range(q):\n",
    "        T[k*b:(k+1)*b,k*b:(k+1)*b] = M[k]\n",
    "\n",
    "    for k in range(q-1):\n",
    "        T[(k+1)*b:(k+2)*b,k*b:(k+1)*b] = R[k]\n",
    "        T[k*b:(k+1)*b,(k+1)*b:(k+2)*b] = R[k].conj().T\n",
    "    \n",
    "#     following for loop above. yet to check if this is corrrect, but at least its bottom triag.\n",
    "    bkp1 = R[q]\n",
    "    return T, bkp1"
   ]
  },
  {
   "cell_type": "code",
   "execution_count": 216,
   "id": "b9321be2",
   "metadata": {},
   "outputs": [],
   "source": [
    "# n is size of block matrix, d block size, i is the position of the identity matrix\n",
    "def Ei(n, d, i):\n",
    "    Ei = np.zeros((n*d, d))\n",
    "    Ei[(i-1)*d:i*d, :] = np.identity(d)\n",
    "    return Ei"
   ]
  },
  {
   "cell_type": "code",
   "execution_count": 226,
   "id": "5b95ff2a",
   "metadata": {
    "scrolled": true
   },
   "outputs": [
    {
     "data": {
      "text/plain": [
       "2.3454780933085958e-15"
      ]
     },
     "execution_count": 226,
     "metadata": {},
     "output_type": "execute_result"
    }
   ],
   "source": []
  },
  {
   "cell_type": "code",
   "execution_count": 229,
   "id": "77fd1b20",
   "metadata": {},
   "outputs": [
    {
     "name": "stdout",
     "output_type": "stream",
     "text": [
      "Qk*Qk = I test passed'\n"
     ]
    },
    {
     "data": {
      "text/plain": [
       "array([[ 1.59326744e-01,  9.47228898e-01,  3.05180900e-01,\n",
       "        -2.44087093e-01,  6.58069409e-01,  5.64464383e-01,\n",
       "         5.40948982e-02,  5.72148308e-03, -8.65765826e-03,\n",
       "         4.29982411e-02],\n",
       "       [ 1.12702770e-02, -6.27762870e-02,  8.02435002e-01,\n",
       "        -1.02223370e-01, -2.31709011e-01, -3.78324878e-01,\n",
       "         2.50727024e-02,  1.10578681e-03,  1.02242141e-02,\n",
       "        -3.18178219e-02],\n",
       "       [ 5.96020190e-02,  1.99242734e-01,  1.91846378e-01,\n",
       "         2.64030909e-01, -5.07887829e-02, -1.61291431e-01,\n",
       "        -2.17578292e-01, -3.95997564e-01,  5.21570859e-04,\n",
       "        -7.69548481e-03],\n",
       "       [-3.21765954e-01, -1.31011176e+00,  3.32678595e-01,\n",
       "         8.79524493e-02, -1.49816602e-01,  6.38690839e-01,\n",
       "        -9.74331969e-02, -2.42085050e-01, -9.69504044e-03,\n",
       "        -3.83830998e-02],\n",
       "       [-4.64028176e-02,  8.38273092e-02,  1.01214031e-01,\n",
       "        -3.80177561e-01,  4.19537573e-01,  1.06152008e-01,\n",
       "         1.28674476e-01,  3.11506088e-01,  2.18115242e-02,\n",
       "         7.75140785e-02],\n",
       "       [-9.13686752e-02, -5.63609700e-01, -8.74450512e-01,\n",
       "         5.73040078e-01, -3.91796933e-01, -9.91787943e-01,\n",
       "        -7.12661676e-02, -1.54090595e-01,  1.70080670e-02,\n",
       "         1.49974763e-01],\n",
       "       [-2.54037886e-03,  9.31504197e-03, -8.29682794e-01,\n",
       "        -5.89303917e-01,  1.42100618e-02,  2.39238257e-01,\n",
       "         2.45253551e-01,  3.11596878e-01, -1.56115791e-03,\n",
       "        -7.08037682e-02],\n",
       "       [ 7.37455083e-03,  1.19316767e-02, -7.79375306e-01,\n",
       "         8.17893830e-01, -3.69285571e-02,  1.57057746e-01,\n",
       "        -1.76711315e-01, -2.61678029e-01, -3.82999951e-03,\n",
       "        -5.98538140e-02],\n",
       "       [-9.29880588e-02, -6.76279251e-01,  3.50800845e-01,\n",
       "        -8.50451152e-01, -5.51908568e-01, -4.56007285e-01,\n",
       "         2.78945002e-01,  5.63507460e-01, -7.73801326e-03,\n",
       "         8.03682366e-03],\n",
       "       [ 1.34022362e-03,  1.18422968e-01, -7.44334575e-01,\n",
       "         5.30629573e-01,  2.20016462e-01,  6.01027072e-01,\n",
       "         2.99952907e-02,  2.08907805e-01, -1.16378645e-02,\n",
       "        -5.60802878e-02]])"
      ]
     },
     "execution_count": 229,
     "metadata": {},
     "output_type": "execute_result"
    }
   ],
   "source": [
    "# test output of Lanczos algorithm\n",
    "n = 5\n",
    "b = 2\n",
    "k = 5\n",
    "\n",
    "H = randHerm(n, b)\n",
    "V = randVec(n, b)\n",
    "Qk, Qkp1, M, B = block_lanczos(H, V, k, 1000)\n",
    "T, bkp1 = get_block_tridiag(M,B)\n",
    "\n",
    "if (np.linalg.norm(Qk.T@Qk-np.identity(np.shape(Qk.T@Qk)[0])) <= 1e-8):\n",
    "    print(\"Qk*Qk = I test passed\")\n",
    "\n",
    "Qk@T + Qkp1@bkp1@Ei(n, b, k).conj().T-H@Qk"
   ]
  },
  {
   "cell_type": "code",
   "execution_count": 227,
   "id": "6d5abaf0",
   "metadata": {},
   "outputs": [
    {
     "data": {
      "text/plain": [
       "2.3454780933085958e-15"
      ]
     },
     "execution_count": 227,
     "metadata": {},
     "output_type": "execute_result"
    }
   ],
   "source": [
    "np.linalg.norm(Qk.T@Qk-np.identity(np.shape(Qk.T@Qk)[0]))"
   ]
  },
  {
   "cell_type": "code",
   "execution_count": null,
   "id": "00e649a6",
   "metadata": {},
   "outputs": [],
   "source": []
  },
  {
   "cell_type": "code",
   "execution_count": null,
   "id": "f702f880",
   "metadata": {},
   "outputs": [],
   "source": []
  }
 ],
 "metadata": {
  "kernelspec": {
   "display_name": "Python 3 (ipykernel)",
   "language": "python",
   "name": "python3"
  },
  "language_info": {
   "codemirror_mode": {
    "name": "ipython",
    "version": 3
   },
   "file_extension": ".py",
   "mimetype": "text/x-python",
   "name": "python",
   "nbconvert_exporter": "python",
   "pygments_lexer": "ipython3",
   "version": "3.9.7"
  }
 },
 "nbformat": 4,
 "nbformat_minor": 5
}
