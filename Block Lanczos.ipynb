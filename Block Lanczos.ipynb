{
 "cells": [
  {
   "cell_type": "code",
   "execution_count": 6,
   "id": "84a388ff",
   "metadata": {},
   "outputs": [],
   "source": [
    "import numpy as np\n",
    "import scipy as sp"
   ]
  },
  {
   "cell_type": "code",
   "execution_count": 12,
   "id": "c1a972c3",
   "metadata": {},
   "outputs": [],
   "source": [
    "def block_lanczos(H,V,q,reorth=0):\n",
    "    \n",
    "#     H is dxd, V is d x b, b is block size\n",
    "#     @ is normal matrix multiplication\n",
    "#     q is the number of iterations\n",
    "    Z = np.copy(V)\n",
    "    d,b = Z.shape\n",
    "    \n",
    "    M = [ np.zeros((b,b),dtype=H.dtype) ]*q\n",
    "    B = [ np.zeros((b,b),dtype=H.dtype) ]*(q+1)\n",
    "    \n",
    "    Q = np.zeros((d,b*(q+1)),dtype=H.dtype)\n",
    "\n",
    "#     if not assume orthogonal then use qr to orthogonalize \n",
    "    Q[:,0:b],B[0] = np.linalg.qr(Z)\n",
    "    for k in range(0,q):\n",
    "        \n",
    "#         Qk is the next column of blocks\n",
    "        Qk = Q[:,k*b:(k+1)*b]\n",
    "#         Q_k-1 = 0 when k = 0, so Z = H@Qk.\n",
    "        if k > 0\n",
    "            Qkm1 = Q[:,(k-1)*b:k*b]\n",
    "        else \n",
    "            Qkm1 = np.zeros((q, b))\n",
    "            \n",
    "#         why conjugate and transpose?\n",
    "        Z = H@Qk - Qkm1@(B[k].conj().T) if k > 0 else H@Qk\n",
    "        \n",
    "        if reorth>k:\n",
    "            Z -= Q[:,:k*b]@(Q[:,:k*b].conj().T@Z)\n",
    "            Z -= Q[:,:k*b]@(Q[:,:k*b].conj().T@Z)\n",
    "\n",
    "        M[k] = Qk.conj().T@Z\n",
    "        Z -= Qk@M[k]\n",
    "        \n",
    "        Q[:,(k+1)*b:(k+2)*b],B[k+1] = np.linalg.qr(Z)\n",
    "    \n",
    "    return Q,M,B"
   ]
  },
  {
   "cell_type": "code",
   "execution_count": null,
   "id": "f13777b1",
   "metadata": {},
   "outputs": [],
   "source": [
    "def get_block_tridiag(M,R):\n",
    "\n",
    "    q = len(M)\n",
    "    b = len(M[0])\n",
    "    \n",
    "    T = np.zeros((q*b,q*b),dtype=M[0].dtype)\n",
    "\n",
    "    for k in range(q):\n",
    "        T[k*b:(k+1)*b,k*b:(k+1)*b] = M[k]\n",
    "\n",
    "    for k in range(q-1):\n",
    "        T[(k+1)*b:(k+2)*b,k*b:(k+1)*b] = R[k]\n",
    "        T[k*b:(k+1)*b,(k+1)*b:(k+2)*b] = R[k].conj().T\n",
    "        \n",
    "    return T"
   ]
  },
  {
   "cell_type": "code",
   "execution_count": 39,
   "id": "83cf2a62",
   "metadata": {},
   "outputs": [],
   "source": [
    "A = np.random.rand(2, 3)\n",
    "B = np.random.rand(3, 3)\n",
    "\n",
    "A = A*10\n",
    "B = B*10"
   ]
  },
  {
   "cell_type": "code",
   "execution_count": 40,
   "id": "de5d93e1",
   "metadata": {},
   "outputs": [],
   "source": [
    "A = np.round(A)\n",
    "B = np.round(B)"
   ]
  },
  {
   "cell_type": "code",
   "execution_count": 48,
   "id": "50cf20c0",
   "metadata": {},
   "outputs": [
    {
     "data": {
      "text/plain": [
       "array([[4., 5., 2.],\n",
       "       [5., 9., 8.]])"
      ]
     },
     "execution_count": 48,
     "metadata": {},
     "output_type": "execute_result"
    }
   ],
   "source": [
    "A"
   ]
  },
  {
   "cell_type": "code",
   "execution_count": 42,
   "id": "fb1759e7",
   "metadata": {},
   "outputs": [
    {
     "data": {
      "text/plain": [
       "(3, 3)"
      ]
     },
     "execution_count": 42,
     "metadata": {},
     "output_type": "execute_result"
    }
   ],
   "source": [
    "A.shape\n",
    "B.shape"
   ]
  },
  {
   "cell_type": "code",
   "execution_count": 43,
   "id": "aeba5ab2",
   "metadata": {},
   "outputs": [
    {
     "data": {
      "text/plain": [
       "array([[ 29.,  63.,  59.],\n",
       "       [ 39., 142., 148.]])"
      ]
     },
     "execution_count": 43,
     "metadata": {},
     "output_type": "execute_result"
    }
   ],
   "source": [
    "A@B"
   ]
  },
  {
   "cell_type": "code",
   "execution_count": 45,
   "id": "a5fa4bcc",
   "metadata": {},
   "outputs": [],
   "source": [
    "Q, R = np.linalg.qr(A)"
   ]
  },
  {
   "cell_type": "code",
   "execution_count": 50,
   "id": "8318bba7",
   "metadata": {},
   "outputs": [
    {
     "data": {
      "text/plain": [
       "array([[-0.62469505, -0.78086881],\n",
       "       [-0.78086881,  0.62469505]])"
      ]
     },
     "execution_count": 50,
     "metadata": {},
     "output_type": "execute_result"
    }
   ],
   "source": [
    "Q"
   ]
  },
  {
   "cell_type": "code",
   "execution_count": null,
   "id": "2e5d36a9",
   "metadata": {},
   "outputs": [],
   "source": []
  }
 ],
 "metadata": {
  "kernelspec": {
   "display_name": "Python 3 (ipykernel)",
   "language": "python",
   "name": "python3"
  },
  "language_info": {
   "codemirror_mode": {
    "name": "ipython",
    "version": 3
   },
   "file_extension": ".py",
   "mimetype": "text/x-python",
   "name": "python",
   "nbconvert_exporter": "python",
   "pygments_lexer": "ipython3",
   "version": "3.9.7"
  }
 },
 "nbformat": 4,
 "nbformat_minor": 5
}
