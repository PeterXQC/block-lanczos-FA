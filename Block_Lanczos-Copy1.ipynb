{
 "cells": [
  {
   "cell_type": "code",
   "execution_count": 1,
   "id": "3c8a52a9",
   "metadata": {
    "scrolled": true
   },
   "outputs": [],
   "source": [
    "import block_methods as BM\n",
    "\n",
    "from Lanczos_FA.lanczos_bin import *\n",
    "\n",
    "import numpy as np\n",
    "import scipy as sp\n",
    "import matplotlib.pyplot as plt\n",
    "from scipy import integrate\n",
    "plt.rcParams[\"figure.figsize\"] = (16,9)"
   ]
  },
  {
   "cell_type": "code",
   "execution_count": 2,
   "id": "c6ee9ce6",
   "metadata": {},
   "outputs": [],
   "source": [
    "# matrix size\n",
    "n = 1000\n",
    "# block size\n",
    "bsize = 2\n",
    "# w value \n",
    "w = 0\n",
    "# how many steps to evaluate each\n",
    "step = 2\n",
    "# total iteration\n",
    "K = 200\n",
    "# how many steps to reorthogonalize\n",
    "reorth = K+1\n",
    "# define matrix A and b\n",
    "lam = np.linspace(1e-2,1e2,n)\n",
    "A = np.diag(lam)\n",
    "b = np.ones((n, bsize))"
   ]
  },
  {
   "cell_type": "code",
   "execution_count": 3,
   "id": "a2c91fb7",
   "metadata": {},
   "outputs": [],
   "source": [
    "b /= np.linalg.norm(b)\n",
    "\n",
    "# get Q and T in this block. Get also a_ and b_ for the first plot\n",
    "Q, Qkp1, A_, B_ = BM.block_lanczos(A, b, K, reorth=reorth)\n",
    "\n",
    "T = BM.get_block_tridiag(A_, B_)\n",
    "\n",
    "# Q,(a_,b_) = exact_lanczos(lam.astype(np.longdouble),b.astype(np.longdouble),K+1,reorth=reorth)\n",
    "# T = np.diag(a_.astype(np.double)) + np.diag(b_.astype(np.double), 1) + np.diag(b_.astype(np.double), -1)"
   ]
  },
  {
   "cell_type": "code",
   "execution_count": 4,
   "id": "867c5ea4",
   "metadata": {},
   "outputs": [],
   "source": [
    "lmin = np.min(lam)\n",
    "lmax = np.max(lam)\n",
    "kappa = lmax / lmin\n",
    "\n",
    "lmin_ = lmin/2\n",
    "lmax_ = 2*lmax"
   ]
  },
  {
   "cell_type": "code",
   "execution_count": 5,
   "id": "16be4ff9",
   "metadata": {
    "scrolled": true
   },
   "outputs": [],
   "source": [
    "def Gamma(t):\n",
    "    radius = lmax_ - lmin_/100\n",
    "\n",
    "    z = radius*np.exp(1j*t)+lmax_\n",
    "    dz = radius*1j*np.exp(1j*t)\n",
    "    \n",
    "    return z,dz\n",
    "\n",
    "def f(x):\n",
    "    return np.sqrt(x)"
   ]
  },
  {
   "cell_type": "code",
   "execution_count": 6,
   "id": "488b48ce",
   "metadata": {},
   "outputs": [],
   "source": [
    "# def get_a_posteriori_bound(f,gamma,endpts,a_,b_,w,lmin,lmax):\n",
    "#     \"\"\"\n",
    "#     (1/2pi) \\oint_{\\Gamma} |f(z)| |D_{k,w,z}| Q_{w,z} |dz|\n",
    "#     \"\"\"\n",
    "    \n",
    "#     theta = sp.linalg.eigvalsh_tridiagonal(a_,b_,tol=1e-30)\n",
    "\n",
    "#     def F(t):\n",
    "#         z,dz = gamma(t)\n",
    "        \n",
    "#         return (1/(2*np.pi)) * np.abs(f(z)) * np.abs(np.prod((theta-w)/(theta-z))) * Q_wz(w,z,lmin,lmax) * np.abs(dz)\n",
    "    \n",
    "#     integral = sp.integrate.quad(F,endpts[0],endpts[1],epsabs=0,limit=200) \n",
    "    \n",
    "#     return integral\n",
    "\n",
    "# # this deals with h_wz\n",
    "# fix this\n",
    "def Q_wz(w,z,lmin,lmax):\n",
    "    \"\"\"\n",
    "    max_{x\\in[lmin,lmax]} |x-w|/|z-w|\n",
    "    \"\"\"\n",
    "    \n",
    "    if np.real(z) - w != 0:\n",
    "        b_hat = ( np.abs(z)**2 - np.real(z)*w ) / (np.real(z) - w)\n",
    "    else:\n",
    "        b_hat = np.inf\n",
    "    \n",
    "    if lmin < b_hat <= lmax:\n",
    "        return np.abs((z-w)/np.imag(z))\n",
    "    else:\n",
    "        return np.max([np.abs((lmax-w)/(lmax-z)), np.abs((lmin-w)/(lmin-z))])"
   ]
  },
  {
   "cell_type": "code",
   "execution_count": 7,
   "id": "3a804143",
   "metadata": {},
   "outputs": [],
   "source": [
    "# need to approximate this without H smh\n",
    "def H_wz(w, z, H):\n",
    "    I = np.identity(np.shape(H)[0])\n",
    "    return (H-w*I)@np.inv(H-z*I)"
   ]
  },
  {
   "cell_type": "code",
   "execution_count": 8,
   "id": "17b94d63",
   "metadata": {},
   "outputs": [],
   "source": [
    "def get_cwinvcz(Eval, Evec, z, w, itr, b, B_0):\n",
    "    Dzinv = np.diag(1/(Eval-z))\n",
    "    Dwinv = np.diag(1/(Eval-w))\n",
    "    \n",
    "#     test\n",
    "    print(itr)\n",
    "    print(np.shape(Evec@Dzinv@Evec.T))\n",
    "    print(np.shape(BM.Ei(itr, b, 1)))\n",
    "    print(np.shape(B_0))\n",
    "    print(-BM.Ei(itr, b, int(itr/b)).T@Evec@Dwinv@Evec.T@BM.Ei(itr, b, 1)@B_0)\n",
    "        \n",
    "    if b == 1:\n",
    "        Cz = Evec@Dzinv@Evec.T@BM.Ei(itr, 1, 1)*B_0\n",
    "        Cwinv = np.linalg.solve(-BM.Ei(itr, 1, itr).T@Evec@Dwinv@Evec.T@BM.Ei(itr, 1, 1)*B_0, -BM.Ei(itr, 1, itr).T)\n",
    "    else:\n",
    "        Cz = -BM.Ei(itr, b, int(itr/b)).T@Evec@Dzinv@Evec.T@BM.Ei(itr, b, 1)@B_0\n",
    "        Cwinv = np.linalg.inv(-BM.Ei(itr, b, int(itr/b)).T@Evec@Dwinv@Evec.T@BM.Ei(itr, b, 1)@B_0)\n",
    "    \n",
    "    return Cwinv@Cz\n",
    "\n",
    "\n",
    "def block_a_posteriori_bound(f,gamma,endpts,T,w,lmin,lmax, itr, b, B_0):\n",
    "    \"\"\"\n",
    "    (1/2pi) \\oint_{\\Gamma} |f(z)| |D_{k,w,z}| Q_{w,z} |dz|\n",
    "    \"\"\"\n",
    "    Eval, Evec = np.linalg.eigh(T)\n",
    "    def F(t):\n",
    "        z,dz = gamma(t)\n",
    "        \n",
    "        return (1/(2*np.pi)) * np.abs(f(z)) * np.linalg.norm(get_cwinvcz(Eval, Evec, z, w, itr, b, B_0)) * H_wz(w,z,H) * np.abs(dz)\n",
    "    \n",
    "    integral = sp.integrate.quad(F,endpts[0],endpts[1],epsabs=0,limit=200) \n",
    "    \n",
    "    return integral"
   ]
  },
  {
   "cell_type": "code",
   "execution_count": 9,
   "id": "df8182bd",
   "metadata": {},
   "outputs": [],
   "source": [
    "# def get_cwinvcz(Eval, Evec, z, w, itr, b, B_0):\n",
    "#     Dzinv = np.diag(1/(Eval-z))\n",
    "#     Dwinv = np.diag(1/(Eval-w))\n",
    "        \n",
    "#     if b == 1:\n",
    "#         Cz = (Evec@Dzinv@Evec.T)[:, :b]*B_0\n",
    "#         Cwinv = np.linalg.solve(-BM.Ei(itr*b, b, itr).T@Evec@Dwinv@Evec.T@BM.Ei(itr*b, b, 1)*B_0, -BM.Ei(itr*b, b, itr).T)\n",
    "#     else:\n",
    "#         Cz = (Evec@Dzinv@Evec.T)[:, :b]@B_0\n",
    "#         Twinv = Evec@Dwinv@Evec.T\n",
    "#         print(Twinv)\n",
    "#         print(B_0)\n",
    "        \n",
    "# #         maybe optimize this later\n",
    "#         Cwinv = np.linalg.inv(-Twinv[np.shape(Twinv)[0]-b:, :b]@B_0)\n",
    "    \n",
    "#     return Cwinv@Cz\n",
    "\n",
    "\n",
    "# def block_a_posteriori_bound(f,gamma,endpts,T,w,lmin,lmax, itr, b, B_0):\n",
    "#     \"\"\"\n",
    "#     (1/2pi) \\oint_{\\Gamma} |f(z)| |D_{k,w,z}| Q_{w,z} |dz|\n",
    "#     \"\"\"\n",
    "#     Eval, Evec = np.linalg.eigh(T)\n",
    "#     def F(t):\n",
    "#         z,dz = gamma(t)\n",
    "        \n",
    "#         return (1/(2*np.pi)) * np.abs(f(z)) * np.linalg.norm(get_cwinvcz(Eval, Evec, z, w, itr, b, B_0)) * Q_wz(w,z,lmin,lmax) * np.abs(dz)\n",
    "    \n",
    "#     integral = sp.integrate.quad(F,endpts[0],endpts[1],epsabs=0,limit=200) \n",
    "    \n",
    "#     return integral"
   ]
  },
  {
   "cell_type": "markdown",
   "id": "a6f4db86",
   "metadata": {},
   "source": [
    "# Nolonger able to perform next block due to mismatch block size (bsize > 1 vs. bsize = 1)."
   ]
  },
  {
   "cell_type": "code",
   "execution_count": 10,
   "id": "1333b655",
   "metadata": {},
   "outputs": [],
   "source": [
    "# def comparison(w, z, T, a_, b_, itr, B_0):\n",
    "#     Eval, Evec = np.linalg.eigh(T)\n",
    "    \n",
    "#     theta = sp.linalg.eigvalsh_tridiagonal(a_,b_,tol=1e-30)\n",
    "    \n",
    "#     return (np.abs(np.linalg.norm(get_cwinvcz(Eval, Evec, z, w, itr, 1, B_0)) - np.abs(np.prod((theta-w)/(theta-z)))), np.linalg.norm(get_cwinvcz(Eval, Evec, z, w, itr, 1, B_0)))\n",
    "\n",
    "# term_error = np.full(K,np.inf)\n",
    "# term = np.full(K,np.inf)\n",
    "# block_bound = np.full(K,np.inf)\n",
    "# old_bound = np.full(K,np.inf)\n",
    "\n",
    "\n",
    "# for k in range(1,int((K+1)/step)):\n",
    "#     B_0 = 1\n",
    "#     k = step*k\n",
    "#     term_error[int((k-1)/step)] = comparison(w, 1, T[:k, :k], a_[:k], b_[:k-1], k, B_0)[0]\n",
    "#     term[int((k-1)/step)] = comparison(w, 1, T[:k, :k], a_[:k], b_[:k-1], k, B_0)[1]\n",
    "#     block_bound[int((k-1)/step)] = block_a_posteriori_bound(f,Gamma,[0,np.pi],T[:k, :k],w,lmin_,lmax_, k, 1, B_0)[0]\n",
    "#     old_bound[int((k-1)/step)] = get_a_posteriori_bound(f,Gamma,[0,np.pi],a_[:k],b_[:k-1],w,lmin_,lmax_)[0]\n",
    "\n",
    "# x = np.linspace(1, K, 200)\n",
    "# # plt.plot(x, a_posteriori_bound_circle_approx_spectrum, c='red')\n",
    "# # plt.plot(x, compare, c='green')\n",
    "# plt.plot(x*step, np.abs(block_bound-old_bound), label = \"Total absolute difference\")\n",
    "# plt.plot(x*step, np.abs(block_bound-old_bound)/block_bound, label = \"Total relative difference\")\n",
    "# plt.plot(x*step, term_error, label = \"New term absolute difference\")\n",
    "# plt.plot(x*step, term_error/term, label = \"New term relative difference\")\n",
    "# plt.yscale('log')\n",
    "# plt.xlabel(\"k\")\n",
    "# plt.ylabel(\"error\")\n",
    "# plt.legend()\n",
    "# plt.show"
   ]
  },
  {
   "cell_type": "code",
   "execution_count": 11,
   "id": "249fc82e",
   "metadata": {},
   "outputs": [],
   "source": [
    "def block_a_posteriori_bound_mid(f, gamma, endpts, T, Q, A, b, B_0, bsize):\n",
    "    \"\"\"\n",
    "    (1/2pi) \\oint_{\\Gamma} |f(z)| |D_{k,w,z}| Q_{w,z} |dz|\n",
    "    \"\"\"\n",
    "\n",
    "    Eval, Evec = np.linalg.eigh(T)\n",
    "    def F(t):\n",
    "        z,dz = gamma(t)\n",
    "        \n",
    "        return (1/(2*np.pi)) * np.linalg.norm(f(z)* exact_err(z, A, b, Q, T, B_0, bsize)) * np.abs(dz)\n",
    "    \n",
    "    integral = sp.integrate.quad(F,endpts[0],endpts[1],epsabs=0,limit=200) \n",
    "    \n",
    "    return integral"
   ]
  },
  {
   "cell_type": "code",
   "execution_count": 12,
   "id": "b796a92e",
   "metadata": {},
   "outputs": [],
   "source": [
    "def block_a_posteriori_bound_exact(f, H, V, Q, T, B_0, b):\n",
    "# This integrand is a vector.SP seems to be not happy about that, so compute with the first line (f(H).....) instead\n",
    "    EvalH, EvecH = np.linalg.eigh(H)\n",
    "    fEvalH = f(EvalH)\n",
    "    fH = EvecH@np.diag(fEvalH)@EvecH.conj().T\n",
    "    \n",
    "    EvalT, EvecT = np.linalg.eigh(T)\n",
    "    fEvalT = f(EvalT)\n",
    "    fT = EvecT@np.diag(fEvalT)@EvecT.conj().T\n",
    "    \n",
    "    if b == 1:\n",
    "        return np.linalg.norm(fH@V-(Q@fT)[:, 0]*B_0)\n",
    "    \n",
    "    return np.linalg.norm(fH@V-(Q@fT)[:, :b]@B_0)"
   ]
  },
  {
   "cell_type": "code",
   "execution_count": 13,
   "id": "001ed48a",
   "metadata": {},
   "outputs": [],
   "source": [
    "# use linear solver as oppose to get inverse\n",
    "def exact_err(z, H, V, Q, T, B_0, b):\n",
    "    \n",
    "#     cannot do this when bsize > 1\n",
    "#     Hinv = 1/(np.diag(H)-z)\n",
    "#     HinvV = Hinv@V\n",
    "    \n",
    "    HinvV = np.linalg.solve((H-z*np.eye(H.shape[0])), V)\n",
    "    E1 = BM.Ei(np.shape(T)[0], b, 1)\n",
    "    \n",
    "#     don't need this when bsize > 1\n",
    "#     E1_array = np.reshape(E1, len(E1))\n",
    "    TinvE = np.linalg.solve((T-z*np.eye(T.shape[0])), E1)\n",
    "\n",
    "    return HinvV - Q@TinvE@B_0"
   ]
  },
  {
   "cell_type": "code",
   "execution_count": 14,
   "id": "1f3bd2d4",
   "metadata": {},
   "outputs": [],
   "source": [
    "z = 1\n",
    "k = 100\n",
    "\n",
    "HinvV = np.linalg.solve((A-z*np.eye(A.shape[0])), b)\n",
    "    \n",
    "E1 = BM.Ei(np.shape(T[:k, :k])[0], bsize, 1)\n",
    "TinvE = np.linalg.solve((T[:k, :k]-z*np.eye(T[:k, :k].shape[0])), E1)\n"
   ]
  },
  {
   "cell_type": "code",
   "execution_count": 15,
   "id": "678a83f9",
   "metadata": {},
   "outputs": [
    {
     "data": {
      "text/plain": [
       "(1000, 2)"
      ]
     },
     "execution_count": 15,
     "metadata": {},
     "output_type": "execute_result"
    }
   ],
   "source": [
    "np.shape(HinvV-Q[:, :k]@TinvE@B_[0])"
   ]
  },
  {
   "cell_type": "code",
   "execution_count": 16,
   "id": "eb9e85a4",
   "metadata": {
    "scrolled": true
   },
   "outputs": [
    {
     "name": "stdout",
     "output_type": "stream",
     "text": [
      "4\n",
      "(4, 4)\n",
      "(4, 2)\n",
      "(2, 2)\n",
      "[[-0.47447194 -0.47447194]\n",
      " [ 0.00403771  0.00403771]]\n"
     ]
    },
    {
     "ename": "LinAlgError",
     "evalue": "Singular matrix",
     "output_type": "error",
     "traceback": [
      "\u001b[1;31m---------------------------------------------------------------------------\u001b[0m",
      "\u001b[1;31mLinAlgError\u001b[0m                               Traceback (most recent call last)",
      "Input \u001b[1;32mIn [16]\u001b[0m, in \u001b[0;36m<cell line: 5>\u001b[1;34m()\u001b[0m\n\u001b[0;32m      9\u001b[0m block_mid[\u001b[38;5;28mint\u001b[39m((k\u001b[38;5;241m-\u001b[39m\u001b[38;5;241m1\u001b[39m)\u001b[38;5;241m/\u001b[39mstep)] \u001b[38;5;241m=\u001b[39m block_a_posteriori_bound_mid(f,Gamma,[\u001b[38;5;241m0\u001b[39m,np\u001b[38;5;241m.\u001b[39mpi],T[:width, :width], Q[:, :width], A, b, B_0, bsize)[\u001b[38;5;241m0\u001b[39m]\n\u001b[0;32m     10\u001b[0m block_exact[\u001b[38;5;28mint\u001b[39m((k\u001b[38;5;241m-\u001b[39m\u001b[38;5;241m1\u001b[39m)\u001b[38;5;241m/\u001b[39mstep)] \u001b[38;5;241m=\u001b[39m block_a_posteriori_bound_exact(f, A, b, Q[:, :width], T[:width, :width], B_0, bsize)\n\u001b[1;32m---> 11\u001b[0m full_block_bound[\u001b[38;5;28mint\u001b[39m((k\u001b[38;5;241m-\u001b[39m\u001b[38;5;241m1\u001b[39m)\u001b[38;5;241m/\u001b[39mstep)] \u001b[38;5;241m=\u001b[39m \u001b[43mblock_a_posteriori_bound\u001b[49m\u001b[43m(\u001b[49m\u001b[43mf\u001b[49m\u001b[43m,\u001b[49m\u001b[43mGamma\u001b[49m\u001b[43m,\u001b[49m\u001b[43m[\u001b[49m\u001b[38;5;241;43m0\u001b[39;49m\u001b[43m,\u001b[49m\u001b[43mnp\u001b[49m\u001b[38;5;241;43m.\u001b[39;49m\u001b[43mpi\u001b[49m\u001b[43m]\u001b[49m\u001b[43m,\u001b[49m\u001b[43mT\u001b[49m\u001b[43m[\u001b[49m\u001b[43m:\u001b[49m\u001b[43mwidth\u001b[49m\u001b[43m,\u001b[49m\u001b[43m \u001b[49m\u001b[43m:\u001b[49m\u001b[43mwidth\u001b[49m\u001b[43m]\u001b[49m\u001b[43m,\u001b[49m\u001b[43mw\u001b[49m\u001b[43m,\u001b[49m\u001b[43mlmin_\u001b[49m\u001b[43m,\u001b[49m\u001b[43mlmax_\u001b[49m\u001b[43m,\u001b[49m\u001b[43m \u001b[49m\u001b[43mwidth\u001b[49m\u001b[43m,\u001b[49m\u001b[43m \u001b[49m\u001b[38;5;241;43m2\u001b[39;49m\u001b[43m,\u001b[49m\u001b[43m \u001b[49m\u001b[43mB_0\u001b[49m\u001b[43m)\u001b[49m[\u001b[38;5;241m0\u001b[39m]\u001b[38;5;241m*\u001b[39mnp\u001b[38;5;241m.\u001b[39mlinalg\u001b[38;5;241m.\u001b[39mnorm(exact_err(w, A, b, Q[:, :width], T[:width, :width], B_0, bsize))\n",
      "Input \u001b[1;32mIn [8]\u001b[0m, in \u001b[0;36mblock_a_posteriori_bound\u001b[1;34m(f, gamma, endpts, T, w, lmin, lmax, itr, b, B_0)\u001b[0m\n\u001b[0;32m     28\u001b[0m     z,dz \u001b[38;5;241m=\u001b[39m gamma(t)\n\u001b[0;32m     30\u001b[0m     \u001b[38;5;28;01mreturn\u001b[39;00m (\u001b[38;5;241m1\u001b[39m\u001b[38;5;241m/\u001b[39m(\u001b[38;5;241m2\u001b[39m\u001b[38;5;241m*\u001b[39mnp\u001b[38;5;241m.\u001b[39mpi)) \u001b[38;5;241m*\u001b[39m np\u001b[38;5;241m.\u001b[39mabs(f(z)) \u001b[38;5;241m*\u001b[39m np\u001b[38;5;241m.\u001b[39mlinalg\u001b[38;5;241m.\u001b[39mnorm(get_cwinvcz(Eval, Evec, z, w, itr, b, B_0)) \u001b[38;5;241m*\u001b[39m H_wz(w,z,H) \u001b[38;5;241m*\u001b[39m np\u001b[38;5;241m.\u001b[39mabs(dz)\n\u001b[1;32m---> 32\u001b[0m integral \u001b[38;5;241m=\u001b[39m \u001b[43msp\u001b[49m\u001b[38;5;241;43m.\u001b[39;49m\u001b[43mintegrate\u001b[49m\u001b[38;5;241;43m.\u001b[39;49m\u001b[43mquad\u001b[49m\u001b[43m(\u001b[49m\u001b[43mF\u001b[49m\u001b[43m,\u001b[49m\u001b[43mendpts\u001b[49m\u001b[43m[\u001b[49m\u001b[38;5;241;43m0\u001b[39;49m\u001b[43m]\u001b[49m\u001b[43m,\u001b[49m\u001b[43mendpts\u001b[49m\u001b[43m[\u001b[49m\u001b[38;5;241;43m1\u001b[39;49m\u001b[43m]\u001b[49m\u001b[43m,\u001b[49m\u001b[43mepsabs\u001b[49m\u001b[38;5;241;43m=\u001b[39;49m\u001b[38;5;241;43m0\u001b[39;49m\u001b[43m,\u001b[49m\u001b[43mlimit\u001b[49m\u001b[38;5;241;43m=\u001b[39;49m\u001b[38;5;241;43m200\u001b[39;49m\u001b[43m)\u001b[49m \n\u001b[0;32m     34\u001b[0m \u001b[38;5;28;01mreturn\u001b[39;00m integral\n",
      "File \u001b[1;32mD:\\Anaconda\\lib\\site-packages\\scipy\\integrate\\quadpack.py:351\u001b[0m, in \u001b[0;36mquad\u001b[1;34m(func, a, b, args, full_output, epsabs, epsrel, limit, points, weight, wvar, wopts, maxp1, limlst)\u001b[0m\n\u001b[0;32m    348\u001b[0m flip, a, b \u001b[38;5;241m=\u001b[39m b \u001b[38;5;241m<\u001b[39m a, \u001b[38;5;28mmin\u001b[39m(a, b), \u001b[38;5;28mmax\u001b[39m(a, b)\n\u001b[0;32m    350\u001b[0m \u001b[38;5;28;01mif\u001b[39;00m weight \u001b[38;5;129;01mis\u001b[39;00m \u001b[38;5;28;01mNone\u001b[39;00m:\n\u001b[1;32m--> 351\u001b[0m     retval \u001b[38;5;241m=\u001b[39m \u001b[43m_quad\u001b[49m\u001b[43m(\u001b[49m\u001b[43mfunc\u001b[49m\u001b[43m,\u001b[49m\u001b[43m \u001b[49m\u001b[43ma\u001b[49m\u001b[43m,\u001b[49m\u001b[43m \u001b[49m\u001b[43mb\u001b[49m\u001b[43m,\u001b[49m\u001b[43m \u001b[49m\u001b[43margs\u001b[49m\u001b[43m,\u001b[49m\u001b[43m \u001b[49m\u001b[43mfull_output\u001b[49m\u001b[43m,\u001b[49m\u001b[43m \u001b[49m\u001b[43mepsabs\u001b[49m\u001b[43m,\u001b[49m\u001b[43m \u001b[49m\u001b[43mepsrel\u001b[49m\u001b[43m,\u001b[49m\u001b[43m \u001b[49m\u001b[43mlimit\u001b[49m\u001b[43m,\u001b[49m\n\u001b[0;32m    352\u001b[0m \u001b[43m                   \u001b[49m\u001b[43mpoints\u001b[49m\u001b[43m)\u001b[49m\n\u001b[0;32m    353\u001b[0m \u001b[38;5;28;01melse\u001b[39;00m:\n\u001b[0;32m    354\u001b[0m     \u001b[38;5;28;01mif\u001b[39;00m points \u001b[38;5;129;01mis\u001b[39;00m \u001b[38;5;129;01mnot\u001b[39;00m \u001b[38;5;28;01mNone\u001b[39;00m:\n",
      "File \u001b[1;32mD:\\Anaconda\\lib\\site-packages\\scipy\\integrate\\quadpack.py:463\u001b[0m, in \u001b[0;36m_quad\u001b[1;34m(func, a, b, args, full_output, epsabs, epsrel, limit, points)\u001b[0m\n\u001b[0;32m    461\u001b[0m \u001b[38;5;28;01mif\u001b[39;00m points \u001b[38;5;129;01mis\u001b[39;00m \u001b[38;5;28;01mNone\u001b[39;00m:\n\u001b[0;32m    462\u001b[0m     \u001b[38;5;28;01mif\u001b[39;00m infbounds \u001b[38;5;241m==\u001b[39m \u001b[38;5;241m0\u001b[39m:\n\u001b[1;32m--> 463\u001b[0m         \u001b[38;5;28;01mreturn\u001b[39;00m \u001b[43m_quadpack\u001b[49m\u001b[38;5;241;43m.\u001b[39;49m\u001b[43m_qagse\u001b[49m\u001b[43m(\u001b[49m\u001b[43mfunc\u001b[49m\u001b[43m,\u001b[49m\u001b[43ma\u001b[49m\u001b[43m,\u001b[49m\u001b[43mb\u001b[49m\u001b[43m,\u001b[49m\u001b[43margs\u001b[49m\u001b[43m,\u001b[49m\u001b[43mfull_output\u001b[49m\u001b[43m,\u001b[49m\u001b[43mepsabs\u001b[49m\u001b[43m,\u001b[49m\u001b[43mepsrel\u001b[49m\u001b[43m,\u001b[49m\u001b[43mlimit\u001b[49m\u001b[43m)\u001b[49m\n\u001b[0;32m    464\u001b[0m     \u001b[38;5;28;01melse\u001b[39;00m:\n\u001b[0;32m    465\u001b[0m         \u001b[38;5;28;01mreturn\u001b[39;00m _quadpack\u001b[38;5;241m.\u001b[39m_qagie(func,bound,infbounds,args,full_output,epsabs,epsrel,limit)\n",
      "Input \u001b[1;32mIn [8]\u001b[0m, in \u001b[0;36mblock_a_posteriori_bound.<locals>.F\u001b[1;34m(t)\u001b[0m\n\u001b[0;32m     27\u001b[0m \u001b[38;5;28;01mdef\u001b[39;00m \u001b[38;5;21mF\u001b[39m(t):\n\u001b[0;32m     28\u001b[0m     z,dz \u001b[38;5;241m=\u001b[39m gamma(t)\n\u001b[1;32m---> 30\u001b[0m     \u001b[38;5;28;01mreturn\u001b[39;00m (\u001b[38;5;241m1\u001b[39m\u001b[38;5;241m/\u001b[39m(\u001b[38;5;241m2\u001b[39m\u001b[38;5;241m*\u001b[39mnp\u001b[38;5;241m.\u001b[39mpi)) \u001b[38;5;241m*\u001b[39m np\u001b[38;5;241m.\u001b[39mabs(f(z)) \u001b[38;5;241m*\u001b[39m np\u001b[38;5;241m.\u001b[39mlinalg\u001b[38;5;241m.\u001b[39mnorm(\u001b[43mget_cwinvcz\u001b[49m\u001b[43m(\u001b[49m\u001b[43mEval\u001b[49m\u001b[43m,\u001b[49m\u001b[43m \u001b[49m\u001b[43mEvec\u001b[49m\u001b[43m,\u001b[49m\u001b[43m \u001b[49m\u001b[43mz\u001b[49m\u001b[43m,\u001b[49m\u001b[43m \u001b[49m\u001b[43mw\u001b[49m\u001b[43m,\u001b[49m\u001b[43m \u001b[49m\u001b[43mitr\u001b[49m\u001b[43m,\u001b[49m\u001b[43m \u001b[49m\u001b[43mb\u001b[49m\u001b[43m,\u001b[49m\u001b[43m \u001b[49m\u001b[43mB_0\u001b[49m\u001b[43m)\u001b[49m) \u001b[38;5;241m*\u001b[39m H_wz(w,z,H) \u001b[38;5;241m*\u001b[39m np\u001b[38;5;241m.\u001b[39mabs(dz)\n",
      "Input \u001b[1;32mIn [8]\u001b[0m, in \u001b[0;36mget_cwinvcz\u001b[1;34m(Eval, Evec, z, w, itr, b, B_0)\u001b[0m\n\u001b[0;32m     15\u001b[0m \u001b[38;5;28;01melse\u001b[39;00m:\n\u001b[0;32m     16\u001b[0m     Cz \u001b[38;5;241m=\u001b[39m \u001b[38;5;241m-\u001b[39mBM\u001b[38;5;241m.\u001b[39mEi(itr, b, \u001b[38;5;28mint\u001b[39m(itr\u001b[38;5;241m/\u001b[39mb))\u001b[38;5;241m.\u001b[39mT\u001b[38;5;129m@Evec\u001b[39m\u001b[38;5;129m@Dzinv\u001b[39m\u001b[38;5;129m@Evec\u001b[39m\u001b[38;5;241m.\u001b[39mT\u001b[38;5;129m@BM\u001b[39m\u001b[38;5;241m.\u001b[39mEi(itr, b, \u001b[38;5;241m1\u001b[39m)\u001b[38;5;129m@B_0\u001b[39m\n\u001b[1;32m---> 17\u001b[0m     Cwinv \u001b[38;5;241m=\u001b[39m \u001b[43mnp\u001b[49m\u001b[38;5;241;43m.\u001b[39;49m\u001b[43mlinalg\u001b[49m\u001b[38;5;241;43m.\u001b[39;49m\u001b[43minv\u001b[49m\u001b[43m(\u001b[49m\u001b[38;5;241;43m-\u001b[39;49m\u001b[43mBM\u001b[49m\u001b[38;5;241;43m.\u001b[39;49m\u001b[43mEi\u001b[49m\u001b[43m(\u001b[49m\u001b[43mitr\u001b[49m\u001b[43m,\u001b[49m\u001b[43m \u001b[49m\u001b[43mb\u001b[49m\u001b[43m,\u001b[49m\u001b[43m \u001b[49m\u001b[38;5;28;43mint\u001b[39;49m\u001b[43m(\u001b[49m\u001b[43mitr\u001b[49m\u001b[38;5;241;43m/\u001b[39;49m\u001b[43mb\u001b[49m\u001b[43m)\u001b[49m\u001b[43m)\u001b[49m\u001b[38;5;241;43m.\u001b[39;49m\u001b[43mT\u001b[49m\u001b[38;5;129;43m@Evec\u001b[39;49m\u001b[38;5;129;43m@Dwinv\u001b[39;49m\u001b[38;5;129;43m@Evec\u001b[39;49m\u001b[38;5;241;43m.\u001b[39;49m\u001b[43mT\u001b[49m\u001b[38;5;129;43m@BM\u001b[39;49m\u001b[38;5;241;43m.\u001b[39;49m\u001b[43mEi\u001b[49m\u001b[43m(\u001b[49m\u001b[43mitr\u001b[49m\u001b[43m,\u001b[49m\u001b[43m \u001b[49m\u001b[43mb\u001b[49m\u001b[43m,\u001b[49m\u001b[43m \u001b[49m\u001b[38;5;241;43m1\u001b[39;49m\u001b[43m)\u001b[49m\u001b[38;5;129;43m@B_0\u001b[39;49m\u001b[43m)\u001b[49m\n\u001b[0;32m     19\u001b[0m \u001b[38;5;28;01mreturn\u001b[39;00m Cwinv\u001b[38;5;129m@Cz\u001b[39m\n",
      "File \u001b[1;32m<__array_function__ internals>:5\u001b[0m, in \u001b[0;36minv\u001b[1;34m(*args, **kwargs)\u001b[0m\n",
      "File \u001b[1;32mD:\\Anaconda\\lib\\site-packages\\numpy\\linalg\\linalg.py:545\u001b[0m, in \u001b[0;36minv\u001b[1;34m(a)\u001b[0m\n\u001b[0;32m    543\u001b[0m signature \u001b[38;5;241m=\u001b[39m \u001b[38;5;124m'\u001b[39m\u001b[38;5;124mD->D\u001b[39m\u001b[38;5;124m'\u001b[39m \u001b[38;5;28;01mif\u001b[39;00m isComplexType(t) \u001b[38;5;28;01melse\u001b[39;00m \u001b[38;5;124m'\u001b[39m\u001b[38;5;124md->d\u001b[39m\u001b[38;5;124m'\u001b[39m\n\u001b[0;32m    544\u001b[0m extobj \u001b[38;5;241m=\u001b[39m get_linalg_error_extobj(_raise_linalgerror_singular)\n\u001b[1;32m--> 545\u001b[0m ainv \u001b[38;5;241m=\u001b[39m \u001b[43m_umath_linalg\u001b[49m\u001b[38;5;241;43m.\u001b[39;49m\u001b[43minv\u001b[49m\u001b[43m(\u001b[49m\u001b[43ma\u001b[49m\u001b[43m,\u001b[49m\u001b[43m \u001b[49m\u001b[43msignature\u001b[49m\u001b[38;5;241;43m=\u001b[39;49m\u001b[43msignature\u001b[49m\u001b[43m,\u001b[49m\u001b[43m \u001b[49m\u001b[43mextobj\u001b[49m\u001b[38;5;241;43m=\u001b[39;49m\u001b[43mextobj\u001b[49m\u001b[43m)\u001b[49m\n\u001b[0;32m    546\u001b[0m \u001b[38;5;28;01mreturn\u001b[39;00m wrap(ainv\u001b[38;5;241m.\u001b[39mastype(result_t, copy\u001b[38;5;241m=\u001b[39m\u001b[38;5;28;01mFalse\u001b[39;00m))\n",
      "File \u001b[1;32mD:\\Anaconda\\lib\\site-packages\\numpy\\linalg\\linalg.py:88\u001b[0m, in \u001b[0;36m_raise_linalgerror_singular\u001b[1;34m(err, flag)\u001b[0m\n\u001b[0;32m     87\u001b[0m \u001b[38;5;28;01mdef\u001b[39;00m \u001b[38;5;21m_raise_linalgerror_singular\u001b[39m(err, flag):\n\u001b[1;32m---> 88\u001b[0m     \u001b[38;5;28;01mraise\u001b[39;00m LinAlgError(\u001b[38;5;124m\"\u001b[39m\u001b[38;5;124mSingular matrix\u001b[39m\u001b[38;5;124m\"\u001b[39m)\n",
      "\u001b[1;31mLinAlgError\u001b[0m: Singular matrix"
     ]
    }
   ],
   "source": [
    "block_mid = np.full(K,np.inf)\n",
    "block_exact = np.full(K,np.inf)\n",
    "full_block_bound = np.full(K,np.inf)\n",
    "\n",
    "for k in range(1,int((K+1)/step)):\n",
    "    k = step*k\n",
    "    B_0 = B_[0]\n",
    "    width = bsize*k\n",
    "    block_mid[int((k-1)/step)] = block_a_posteriori_bound_mid(f,Gamma,[0,np.pi],T[:width, :width], Q[:, :width], A, b, B_0, bsize)[0]\n",
    "    block_exact[int((k-1)/step)] = block_a_posteriori_bound_exact(f, A, b, Q[:, :width], T[:width, :width], B_0, bsize)\n",
    "    full_block_bound[int((k-1)/step)] = block_a_posteriori_bound(f,Gamma,[0,np.pi],T[:width, :width],w,lmin_,lmax_, width, 2, B_0)[0]*np.linalg.norm(exact_err(w, A, b, Q[:, :width], T[:width, :width], B_0, bsize))"
   ]
  },
  {
   "cell_type": "code",
   "execution_count": null,
   "id": "3e485871",
   "metadata": {},
   "outputs": [],
   "source": [
    "k"
   ]
  },
  {
   "cell_type": "code",
   "execution_count": null,
   "id": "d55451ad",
   "metadata": {},
   "outputs": [],
   "source": [
    "# full_block_bound = np.full(K,np.inf)\n",
    "\n",
    "# for k in range(1,int((K+1)/step)):\n",
    "#     k = step*k\n",
    "#     full_block_bound[int((k-1)/step)] = block_bound[int((k-1)/step)]*np.linalg.norm(exact_err(w, A, b, Q[:, :k], T[:k, :k], 1))"
   ]
  },
  {
   "cell_type": "code",
   "execution_count": null,
   "id": "ed3f342a",
   "metadata": {},
   "outputs": [],
   "source": [
    "x = np.linspace(1, K, 200)\n",
    "\n",
    "plt.plot(x*step, np.abs(full_block_bound), label = \"Actual bound\")\n",
    "plt.plot(x*step, np.abs(block_mid), label = \"First step bound\")\n",
    "plt.plot(x*step, np.abs(block_exact), label = \"exact error\")\n",
    "\n",
    "\n",
    "plt.yscale('log')\n",
    "plt.xlabel(\"k\")\n",
    "plt.ylabel(\"error\")\n",
    "plt.legend()\n",
    "plt.show"
   ]
  },
  {
   "cell_type": "code",
   "execution_count": null,
   "id": "fe213c5c",
   "metadata": {},
   "outputs": [],
   "source": []
  },
  {
   "cell_type": "code",
   "execution_count": null,
   "id": "e8600aab",
   "metadata": {},
   "outputs": [],
   "source": []
  }
 ],
 "metadata": {
  "kernelspec": {
   "display_name": "Python 3 (ipykernel)",
   "language": "python",
   "name": "python3"
  },
  "language_info": {
   "codemirror_mode": {
    "name": "ipython",
    "version": 3
   },
   "file_extension": ".py",
   "mimetype": "text/x-python",
   "name": "python",
   "nbconvert_exporter": "python",
   "pygments_lexer": "ipython3",
   "version": "3.9.12"
  }
 },
 "nbformat": 4,
 "nbformat_minor": 5
}
