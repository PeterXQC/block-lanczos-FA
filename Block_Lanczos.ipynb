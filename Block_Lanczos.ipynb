{
 "cells": [
  {
   "cell_type": "code",
   "execution_count": 1,
   "id": "3c8a52a9",
   "metadata": {
    "scrolled": true
   },
   "outputs": [],
   "source": [
    "import block_methods as BM\n",
    "\n",
    "from Lanczos_FA.lanczos_bin import *\n",
    "\n",
    "import numpy as np\n",
    "import scipy as sp\n",
    "import matplotlib.pyplot as plt\n",
    "from scipy import integrate\n",
    "plt.rcParams[\"figure.figsize\"] = (16,9)"
   ]
  },
  {
   "cell_type": "code",
   "execution_count": 2,
   "id": "c6ee9ce6",
   "metadata": {},
   "outputs": [],
   "source": [
    "n = 1000\n",
    "w = 0\n",
    "bsize = 1\n",
    "step = 10\n",
    "K = 200\n",
    "lam = np.linspace(1e-2,1e2,n)\n",
    "b = np.ones(n,dtype=np.longdouble)\n",
    "b /= np.linalg.norm(b)"
   ]
  },
  {
   "cell_type": "code",
   "execution_count": 3,
   "id": "16be4ff9",
   "metadata": {
    "scrolled": true
   },
   "outputs": [],
   "source": [
    "def Gamma(t):\n",
    "    radius = lmax_ - lmin_/100\n",
    "\n",
    "    z = radius*np.exp(1j*t)+lmax_\n",
    "    dz = radius*1j*np.exp(1j*t)\n",
    "    \n",
    "    return z,dz\n",
    "\n",
    "def f(x):\n",
    "    return np.sqrt(x)"
   ]
  },
  {
   "cell_type": "code",
   "execution_count": 4,
   "id": "488b48ce",
   "metadata": {},
   "outputs": [],
   "source": [
    "def get_a_posteriori_bound(f,gamma,endpts,a_,b_,w,lmin,lmax):\n",
    "    \"\"\"\n",
    "    (1/2pi) \\oint_{\\Gamma} |f(z)| |D_{k,w,z}| Q_{w,z} |dz|\n",
    "    \"\"\"\n",
    "    \n",
    "    theta = sp.linalg.eigvalsh_tridiagonal(a_,b_,tol=1e-30)\n",
    "\n",
    "    def F(t):\n",
    "        z,dz = gamma(t)\n",
    "        \n",
    "        return (1/(2*np.pi)) * np.abs(f(z)) * np.abs(np.prod((theta-w)/(theta-z))) * Q_wz(w,z,lmin,lmax) * np.abs(dz)\n",
    "    \n",
    "    integral = sp.integrate.quad(F,endpts[0],endpts[1],epsabs=0,limit=200) \n",
    "    \n",
    "    return integral\n",
    "\n",
    "# this deals with h_wz\n",
    "def Q_wz(w,z,lmin,lmax):\n",
    "    \"\"\"\n",
    "    max_{x\\in[lmin,lmax]} |x-w|/|z-w|\n",
    "    \"\"\"\n",
    "    \n",
    "    if np.real(z) - w != 0:\n",
    "        b_hat = ( np.abs(z)**2 - np.real(z)*w ) / (np.real(z) - w)\n",
    "    else:\n",
    "        b_hat = np.inf\n",
    "    \n",
    "    if lmin < b_hat <= lmax:\n",
    "        return np.abs((z-w)/np.imag(z))\n",
    "    else:\n",
    "        return np.max([np.abs((lmax-w)/(lmax-z)), np.abs((lmin-w)/(lmin-z))])"
   ]
  },
  {
   "cell_type": "code",
   "execution_count": 5,
   "id": "df8182bd",
   "metadata": {},
   "outputs": [],
   "source": [
    "def get_cwinvcz(Eval, Evec, z, w, itr, b, B_0):\n",
    "    Dzinv = np.diag(1/(Eval-z))\n",
    "    Dwinv = np.diag(1/(Eval-w))\n",
    "        \n",
    "    if b == 1:\n",
    "        Cz = Evec@Dzinv@Evec.T@BM.Ei(itr*b, b, 1)*B_0\n",
    "        Cwinv = np.linalg.solve(-BM.Ei(itr*b, b, itr).T@Evec@Dwinv@Evec.T@BM.Ei(itr*b, b, 1)*B_0, -BM.Ei(itr*b, b, itr).T)\n",
    "    else:\n",
    "        Cz = Evec@Dzinv@Evec.T@BM.Ei(itr*b, b, 1)@B_0\n",
    "        Cwinv = np.linalg.solve(-BM.Ei(itr*b, b, itr).T@Evec@Dwinv@Evec.T@BM.Ei(itr*b, b, 1)@B_0, -BM.Ei(itr*b, b, itr).T)\n",
    "    \n",
    "    return Cwinv@Cz\n",
    "\n",
    "\n",
    "def block_a_posteriori_bound(f,gamma,endpts,a_,b_,w,lmin,lmax, itr, b, B_0):\n",
    "    \"\"\"\n",
    "    (1/2pi) \\oint_{\\Gamma} |f(z)| |D_{k,w,z}| Q_{w,z} |dz|\n",
    "    \"\"\"\n",
    "#     make T matrix\n",
    "    T = np.diag(a_.astype(np.double)) + np.diag(b_.astype(np.double), 1) + np.diag(b_.astype(np.double), -1)\n",
    "    Eval, Evec = np.linalg.eigh(T)\n",
    "    def F(t):\n",
    "        z,dz = gamma(t)\n",
    "        \n",
    "        return (1/(2*np.pi)) * np.abs(f(z)) * np.linalg.norm(get_cwinvcz(Eval, Evec, z, w, itr, b, B_0)) * Q_wz(w,z,lmin,lmax) * np.abs(dz)\n",
    "    \n",
    "    integral = sp.integrate.quad(F,endpts[0],endpts[1],epsabs=0,limit=200) \n",
    "    \n",
    "    return integral"
   ]
  },
  {
   "cell_type": "code",
   "execution_count": 6,
   "id": "a0f556f4",
   "metadata": {},
   "outputs": [],
   "source": [
    "# def comparison(w, z, a_, b_, itr, B_0):\n",
    "#     T = np.diag(a_.astype(np.double)) + np.diag(b_.astype(np.double), 1) + np.diag(b_.astype(np.double), -1)\n",
    "#     Eval, Evec = np.linalg.eigh(T)\n",
    "    \n",
    "#     theta = sp.linalg.eigvalsh_tridiagonal(a_,b_,tol=1e-30)\n",
    "    \n",
    "#     return (np.abs(np.linalg.norm(get_cwinvcz(Eval, Evec, z, w, itr, 1, B_0)) - np.abs(np.prod((theta-w)/(theta-z)))), np.linalg.norm(get_cwinvcz(Eval, Evec, z, w, itr, 1, B_0)))"
   ]
  },
  {
   "cell_type": "code",
   "execution_count": 7,
   "id": "c43c7fdd",
   "metadata": {},
   "outputs": [],
   "source": [
    "lmin = np.min(lam).astype(np.double)\n",
    "lmax = np.max(lam).astype(np.double)\n",
    "kappa = lmax / lmin\n",
    "\n",
    "lmin_ = lmin/2\n",
    "lmax_ = 2*lmax\n",
    "\n",
    "# norm to measure function approximation and linear system errors\n",
    "B = lam\n",
    "\n",
    "A = np.diag(lam.astype(np.longdouble))\n",
    "Q,(a_,b_) = exact_lanczos(lam.astype(np.longdouble),b.astype(np.longdouble),K+1,reorth=reorth)\n",
    "\n",
    "e1 = np.zeros(K+1)\n",
    "e1[0] = 1"
   ]
  },
  {
   "cell_type": "code",
   "execution_count": 8,
   "id": "d01b72f5",
   "metadata": {},
   "outputs": [],
   "source": [
    "# term_error = np.full(K,np.inf)\n",
    "# term = np.full(K,np.inf)\n",
    "# block_bound = np.full(K,np.inf)\n",
    "# old_bound = np.full(K,np.inf)\n",
    "\n",
    "\n",
    "# for k in range(1,int((K+1)/step)):\n",
    "#     B_0 = 1\n",
    "#     k = step*k\n",
    "#     term_error[int((k-1)/step)] = comparison(w, 1, a_[:k], b_[:k-1], k, B_0)[0]\n",
    "#     term[int((k-1)/step)] = comparison(w, 1, a_[:k], b_[:k-1], k, B_0)[1]\n",
    "#     block_bound[int((k-1)/step)] = block_a_posteriori_bound(f,Gamma,[0,np.pi],a_[:k],b_[:k-1],w,lmin_,lmax_, k, 1, B_0)[0]\n",
    "#     old_bound[int((k-1)/step)] = get_a_posteriori_bound(f,Gamma,[0,np.pi],a_[:k],b_[:k-1],w,lmin_,lmax_)[0]"
   ]
  },
  {
   "cell_type": "code",
   "execution_count": 9,
   "id": "1333b655",
   "metadata": {},
   "outputs": [],
   "source": [
    "# x = np.linspace(1, K, 200)\n",
    "# # plt.plot(x, a_posteriori_bound_circle_approx_spectrum, c='red')\n",
    "# # plt.plot(x, compare, c='green')\n",
    "# plt.plot(x*step, np.abs(block_bound-old_bound), label = \"Total absolute difference\")\n",
    "# plt.plot(x*step, np.abs(block_bound-old_bound)/block_bound, label = \"Total relative difference\")\n",
    "# plt.plot(x*step, term_error, label = \"New term absolute difference\")\n",
    "# plt.plot(x*step, term_error/term, label = \"New term relative difference\")\n",
    "# plt.yscale('log')\n",
    "# plt.xlabel(\"k\")\n",
    "# plt.ylabel(\"error\")\n",
    "# plt.legend()\n",
    "# plt.show"
   ]
  },
  {
   "cell_type": "code",
   "execution_count": 10,
   "id": "249fc82e",
   "metadata": {},
   "outputs": [],
   "source": [
    "def block_a_posteriori_bound_mid(f, gamma, endpts, a_, b_, Q, A, b, B_0):\n",
    "    \"\"\"\n",
    "    (1/2pi) \\oint_{\\Gamma} |f(z)| |D_{k,w,z}| Q_{w,z} |dz|\n",
    "    \"\"\"\n",
    "#     make T matrix\n",
    "    T = np.diag(a_.astype(np.double)) + np.diag(b_.astype(np.double), 1) + np.diag(b_.astype(np.double), -1)\n",
    "    Eval, Evec = np.linalg.eigh(T)\n",
    "    def F(t):\n",
    "        z,dz = gamma(t)\n",
    "        \n",
    "        return (1/(2*np.pi)) * np.linalg.norm(f(z)* exact_err(z, A, b, Q, T, B_0)) * np.abs(dz)\n",
    "    \n",
    "    integral = sp.integrate.quad(F,endpts[0],endpts[1],epsabs=0,limit=200) \n",
    "    \n",
    "    return integral"
   ]
  },
  {
   "cell_type": "code",
   "execution_count": 11,
   "id": "b796a92e",
   "metadata": {},
   "outputs": [],
   "source": [
    "def block_a_posteriori_bound_exact(f, H, V, Q, a_, b_, B_0, b):\n",
    "# This integrand is a vector.SP seems to be not happy about that, so compute with the first line (f(H).....) instead\n",
    "    EvalH, EvecH = np.linalg.eigh(H)\n",
    "    fEvalH = f(EvalH)\n",
    "    fH = EvecH@np.diag(fEvalH)@EvecH.conj().T\n",
    "    \n",
    "    T = np.diag(a_.astype(np.double)) + np.diag(b_.astype(np.double), 1) + np.diag(b_.astype(np.double), -1)\n",
    "    EvalT, EvecT = np.linalg.eigh(T)\n",
    "    fEvalT = f(EvalT)\n",
    "    fT = EvecT@np.diag(fEvalT)@EvecT.conj().T\n",
    "    \n",
    "    if b == 1:\n",
    "        return np.linalg.norm(fH@V-(Q@fT)[:, 0]*B_0)\n",
    "    \n",
    "    return np.linalg.norm(fH@V-(Q@fT)[:, 0]@B_0)"
   ]
  },
  {
   "cell_type": "code",
   "execution_count": 12,
   "id": "001ed48a",
   "metadata": {},
   "outputs": [],
   "source": [
    "# use linear solver as oppose to get inverse\n",
    "def exact_err(z, H, V, Q, T, B_0):\n",
    "    Hinv = 1/(np.diag(H)-z)\n",
    "    HinvV = Hinv*V\n",
    "    \n",
    "#     HinvV = np.linalg.solve((H-z*np.eye(H.shape[0])), V)\n",
    "    E1 = BM.Ei(np.shape(T)[0], 1, 1)\n",
    "    E1_array = np.reshape(E1, len(E1))\n",
    "    TinvE = np.linalg.solve((T-z*np.eye(T.shape[0])), E1_array)\n",
    "\n",
    "    return HinvV - Q@TinvE*B_0"
   ]
  },
  {
   "cell_type": "code",
   "execution_count": 15,
   "id": "eb9e85a4",
   "metadata": {
    "scrolled": true
   },
   "outputs": [
    {
     "name": "stderr",
     "output_type": "stream",
     "text": [
      "C:\\Users\\qcx\\AppData\\Local\\Temp\\ipykernel_4944\\162586358.py:13: IntegrationWarning: The integral is probably divergent, or slowly convergent.\n",
      "  integral = sp.integrate.quad(F,endpts[0],endpts[1],epsabs=0,limit=200)\n",
      "C:\\Users\\qcx\\AppData\\Local\\Temp\\ipykernel_4944\\3993440139.py:27: IntegrationWarning: The integral is probably divergent, or slowly convergent.\n",
      "  integral = sp.integrate.quad(F,endpts[0],endpts[1],epsabs=0,limit=200)\n",
      "C:\\Users\\qcx\\AppData\\Local\\Temp\\ipykernel_4944\\3993440139.py:27: IntegrationWarning: The maximum number of subdivisions (200) has been achieved.\n",
      "  If increasing the limit yields no improvement it is advised to analyze \n",
      "  the integrand in order to determine the difficulties.  If the position of a \n",
      "  local difficulty can be determined (singularity, discontinuity) one will \n",
      "  probably gain from splitting up the interval and calling the integrator \n",
      "  on the subranges.  Perhaps a special-purpose integrator should be used.\n",
      "  integral = sp.integrate.quad(F,endpts[0],endpts[1],epsabs=0,limit=200)\n"
     ]
    }
   ],
   "source": [
    "block_mid = np.full(K,np.inf)\n",
    "block_exact = np.full(K,np.inf)\n",
    "block_bound = np.full(K,np.inf)\n",
    "err = np.full(K,np.inf)\n",
    "\n",
    "for k in range(1,int((K+1)/step)):\n",
    "    k = step*k\n",
    "    B_0 = 1\n",
    "    block_mid[int((k-1)/step)] = block_a_posteriori_bound_mid(f,Gamma,[0,np.pi],a_[:k],b_[:k-1], Q[:, :k], A, b.astype(np.double), B_0)[0]\n",
    "    block_exact[int((k-1)/step)] = block_a_posteriori_bound_exact(f,A.astype(np.double), b.astype(np.double),Q[:, :k],a_[:k],b_[:k-1], B_0, bsize)\n",
    "    block_bound[int((k-1)/step)] = block_a_posteriori_bound(f,Gamma,[0,np.pi],a_[:k],b_[:k-1],w,lmin_,lmax_, k, bsize, B_0)[0]\n",
    "    err[int((k-1)/step)] = np.linalg.norm(exact_err(w, A, b, Q[:, :k], T[:k, :k], B_0))"
   ]
  },
  {
   "cell_type": "code",
   "execution_count": 16,
   "id": "d55451ad",
   "metadata": {},
   "outputs": [],
   "source": [
    "full_block_bound = np.full(K,np.inf)\n",
    "\n",
    "T = np.diag(a_.astype(np.double)) + np.diag(b_.astype(np.double), 1) + np.diag(b_.astype(np.double), -1)\n",
    "for k in range(1,int((K+1)/step)):\n",
    "    k = step*k\n",
    "    full_block_bound[int((k-1)/step)] = block_bound[int((k-1)/step)]*np.linalg.norm(exact_err(w, A, b, Q[:, :k], T[:k, :k], 1))"
   ]
  },
  {
   "cell_type": "code",
   "execution_count": 17,
   "id": "ed3f342a",
   "metadata": {},
   "outputs": [
    {
     "data": {
      "text/plain": [
       "<function matplotlib.pyplot.show(close=None, block=None)>"
      ]
     },
     "execution_count": 17,
     "metadata": {},
     "output_type": "execute_result"
    },
    {
     "data": {
      "image/png": "[encoded data removed]",
      "text/plain": [
       "<Figure size 1152x648 with 1 Axes>"
      ]
     },
     "metadata": {
      "needs_background": "light"
     },
     "output_type": "display_data"
    }
   ],
   "source": [
    "x = np.linspace(1, K, 200)\n",
    "\n",
    "plt.plot(x*step, np.abs(full_block_bound), label = \"Actual bound\")\n",
    "plt.plot(x*step, np.abs(block_mid), label = \"First step bound\")\n",
    "plt.plot(x*step, np.abs(block_exact), label = \"exact error\")\n",
    "\n",
    "\n",
    "plt.yscale('log')\n",
    "plt.xlabel(\"k\")\n",
    "plt.ylabel(\"error\")\n",
    "plt.legend()\n",
    "plt.show"
   ]
  }
 ],
 "metadata": {
  "kernelspec": {
   "display_name": "Python 3 (ipykernel)",
   "language": "python",
   "name": "python3"
  },
  "language_info": {
   "codemirror_mode": {
    "name": "ipython",
    "version": 3
   },
   "file_extension": ".py",
   "mimetype": "text/x-python",
   "name": "python",
   "nbconvert_exporter": "python",
   "pygments_lexer": "ipython3",
   "version": "3.9.12"
  }
 },
 "nbformat": 4,
 "nbformat_minor": 5
}
