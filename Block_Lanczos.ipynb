{
 "cells": [
  {
   "cell_type": "code",
   "execution_count": 1,
   "id": "3c8a52a9",
   "metadata": {
    "scrolled": true
   },
   "outputs": [],
   "source": [
    "import block_methods as BM\n",
    "\n",
    "from Lanczos_FA.lanczos_bin import *\n",
    "\n",
    "import numpy as np\n",
    "import scipy as sp\n",
    "import matplotlib.pyplot as plt\n",
    "from scipy import integrate"
   ]
  },
  {
   "cell_type": "code",
   "execution_count": 2,
   "id": "16be4ff9",
   "metadata": {
    "scrolled": true
   },
   "outputs": [
    {
     "data": {
      "image/png": "[encoded data removed]",
      "text/plain": [
       "<Figure size 432x288 with 1 Axes>"
      ]
     },
     "metadata": {
      "needs_background": "light"
     },
     "output_type": "display_data"
    }
   ],
   "source": [
    "k = 100\n",
    "b = 2\n",
    "n = k*b\n",
    "itr = 70\n",
    "\n",
    "H = BM.randHerm(n, 1)\n",
    "V = BM.randVec(n, b)\n",
    "    \n",
    "error = BM.mkplt(H, V, itr, b, BM.exp)"
   ]
  },
  {
   "cell_type": "code",
   "execution_count": 3,
   "id": "488b48ce",
   "metadata": {},
   "outputs": [],
   "source": [
    "def get_a_posteriori_bound(f,gamma,endpts,a_,b_,w,lmin,lmax):\n",
    "    \"\"\"\n",
    "    (1/2pi) \\oint_{\\Gamma} |f(z)| |D_{k,w,z}| Q_{w,z} |dz|\n",
    "    \"\"\"\n",
    "    \n",
    "    theta = sp.linalg.eigvalsh_tridiagonal(a_,b_,tol=1e-30)\n",
    "\n",
    "    def F(t):\n",
    "        z,dz = gamma(t)\n",
    "        \n",
    "        return (1/(2*np.pi)) * np.abs(f(z)) * np.abs(np.prod((theta-w)/(theta-z))) * Q_wz(w,z,lmin,lmax) * np.abs(dz)\n",
    "    \n",
    "    integral = sp.integrate.quad(F,endpts[0],endpts[1],epsabs=0,limit=200) \n",
    "    \n",
    "    return integral\n",
    "\n",
    "def Q_wz(w,z,lmin,lmax):\n",
    "    \"\"\"\n",
    "    max_{x\\in[lmin,lmax]} |x-w|/|z-w|\n",
    "    \"\"\"\n",
    "    \n",
    "    if np.real(z) - w != 0:\n",
    "        b_hat = ( np.abs(z)**2 - np.real(z)*w ) / (np.real(z) - w)\n",
    "    else:\n",
    "        b_hat = np.inf\n",
    "        \n",
    "    if lmin < b_hat <= lmax:\n",
    "        return np.abs((z-w)/np.imag(z))\n",
    "    else:\n",
    "        return np.max([np.abs((lmax-w)/(lmax-z)), np.abs((lmin-w)/(lmin-z))])"
   ]
  },
  {
   "cell_type": "code",
   "execution_count": 4,
   "id": "df8182bd",
   "metadata": {},
   "outputs": [],
   "source": [
    "# def const(t):\n",
    "#     return 1\n",
    "# # take eval and evec as input for less work\n",
    "# def a_posteriori(f, z, b, itr, h, T, w, B):\n",
    "    \n",
    "#     \"\"\"\n",
    "#     Input\n",
    "#     -----\n",
    "    \n",
    "#     f  : function to integrate over\n",
    "#     n  : matrix size\n",
    "#     b  : block size\n",
    "#     itr  : number of iteration\n",
    "#     h  : bound of h_(w,z)(H)\n",
    "    \n",
    "#     Returns\n",
    "#     -------\n",
    "#     value of the contour integral\n",
    "    \n",
    "#     \"\"\"\n",
    "#     Eval, Evec = np.linalg.eigh(T)\n",
    "#     Dz = np.diag(Eval-z)\n",
    "#     Dwinv = np.diag(1/(Eval-w))\n",
    "#     if b == 1:\n",
    "#         Cz = -BM.Ei(itr*b, b, itr).T@Evec@Dz@Evec.T@BM.Ei(itr*b, b, 1)*B[0]\n",
    "#         Cwinv = np.linalg.inv(-BM.Ei(itr*b, b, itr).T@Evec@Dwinv@Evec.T@BM.Ei(itr*b, b, 1)*B[0]) \n",
    "#     else:get_cwinvcz(Eval, Evec, z, w, itr, b, B)\n",
    "#         Cz = -BM.Ei(itr*b, b, itr).T@Evec@Dz@Evec.T@BM.Ei(itr*b, b, 1)@B[0]\n",
    "#         Cwinv = np.linalg.inv(-BM.Ei(itr*b, b, itr).T@Evec@Dwinv@Evec.T@BM.Ei(itr*b, b, 1)@B[0])\n",
    "    \n",
    "# #     print(np.shape(BM.Ei(n, b, k)))\n",
    "    \n",
    "#     return np.abs(f(z)) * np.abs(h(z)) * np.abs(np.linalg.norm(Cwinv@Cz))\n",
    "# def contour_eval(f, contour, endpts, b, itr, h, T, w, B):\n",
    "    \n",
    "#     \"\"\"\n",
    "#     Input\n",
    "#     -----\n",
    "    \n",
    "#     f  : function to integrate over\n",
    "#     contour  : a already defined contour\n",
    "#     endpts  : array of two endpoints for the integral\n",
    "    \n",
    "#     Returns\n",
    "#     -------\n",
    "#     value of the contour integral\n",
    "    \n",
    "#     \"\"\"\n",
    "        \n",
    "#     def F(t):\n",
    "#         z,dz = contour(t)\n",
    "#         return a_posteriori(f, z, b, itr, h, T, w, B) * np.abs(dz)\n",
    "    \n",
    "    \n",
    "#     integral = sp.integrate.quad(F, endpts[0], endpts[1], epsabs=0)[0]\n",
    "#     return (1/(2*np.pi))*integral\n",
    "# def u_disks(t):\n",
    "#     z = np.exp(t*1j)\n",
    "#     dz = 1j*np.exp(t*1j)\n",
    "#     return z, dz"
   ]
  },
  {
   "cell_type": "code",
   "execution_count": 7,
   "id": "c43c7fdd",
   "metadata": {},
   "outputs": [],
   "source": [
    "# test case\n",
    "n = 1000\n",
    "lam = np.linspace(1e-2,1e2,n)\n",
    "b = np.ones(n,dtype=np.longdouble)\n",
    "b /= np.linalg.norm(b)\n",
    "\n",
    "lmin = np.min(lam).astype(np.double)\n",
    "lmax = np.max(lam).astype(np.double)\n",
    "kappa = lmax / lmin\n",
    "\n",
    "lmin_ = lmin/2\n",
    "lmax_ = 2*lmax\n",
    "\n",
    "w = 0\n",
    "\n",
    "# norm to measure function approximation and linear system errors\n",
    "B = lam\n",
    "\n",
    "K = 200\n",
    "reorth=True\n",
    "Q,(a_,b_) = exact_lanczos(lam.astype(np.longdouble),b.astype(np.longdouble),K+1,reorth=reorth)\n",
    "\n",
    "e1 = np.zeros(K+1)\n",
    "e1[0] = 1\n",
    "\n",
    "a_posteriori_bound_circle_approx_spectrum = np.full(K,np.inf)\n",
    "    \n",
    "def Gamma(t):\n",
    "\n",
    "\n",
    "    radius = lmax_ - lmin_/100\n",
    "\n",
    "    z = radius*np.exp(1j*t)+lmax_\n",
    "    dz = radius*1j*np.exp(1j*t)\n",
    "    \n",
    "    return z,dz\n",
    "\n",
    "def f(x):\n",
    "    return np.sqrt(x)\n",
    "\n",
    "contour_eval(f, Gamma1, [0,np.pi/2], 1, k, const, T[:k, :k], w, b_)\n",
    "fAb = f(lam)*b\n",
    "\n",
    "for k in range(1,K):\n",
    "    a_posteriori_bound_circle_approx_spectrum[k-1] = 2*get_a_posteriori_bound(f,Gamma,[0,np.pi],a_[:k],b_[:k-1],w,lmin_,lmax_)[0]"
   ]
  },
  {
   "cell_type": "code",
   "execution_count": 8,
   "id": "2aadd198",
   "metadata": {},
   "outputs": [],
   "source": [
    "def get_cwinvcz(Eval, Evec, z, w, itr, b, B):\n",
    "    Dzinv = np.diag(1/(Eval-z))\n",
    "    Dwinv = np.diag(1/(Eval-w))\n",
    "    if b == 1:\n",
    "        Cz = -BM.Ei(itr*b, b, itr).T@Evec@Dzinv@Evec.T@BM.Ei(itr*b, b, 1)*B[0]\n",
    "        Cwinv = np.linalg.inv(-BM.Ei(itr*b, b, itr).T@Evec@Dwinv@Evec.T@BM.Ei(itr*b, b, 1)*B[0]) \n",
    "    else:\n",
    "        Cz = -BM.Ei(itr*b, b, itr).T@Evec@Dzinv@Evec.T@BM.Ei(itr*b, b, 1)@B[0]\n",
    "        Cwinv = np.linalg.inv(-BM.Ei(itr*b, b, itr).T@Evec@Dwinv@Evec.T@BM.Ei(itr*b, b, 1)@B[0])\n",
    "    \n",
    "    return np.linalg.norm(Cwinv@Cz)\n",
    "def block_a_posteriori_bound(f,gamma,endpts,a_,b_,w,lmin,lmax, itr, b, B):\n",
    "    \"\"\"\n",
    "    (1/2pi) \\oint_{\\Gamma} |f(z)| |D_{k,w,z}| Q_{w,z} |dz|\n",
    "    \"\"\"\n",
    "    \n",
    "#     make T matrix\n",
    "    T = np.diag(a_.astype(np.double)) + np.diag(b_.astype(np.double), 1) + np.diag(b_.astype(np.double), -1)\n",
    "    \n",
    "    Eval, Evec = np.linalg.eigh(T)\n",
    "\n",
    "    def F(t):\n",
    "        z,dz = gamma(t)\n",
    "        \n",
    "        return (1/(2*np.pi)) * np.abs(f(z)) * get_cwinvcz(Eval, Evec, z, w, itr, b, B) * Q_wz(w,z,lmin,lmax) * np.abs(dz)\n",
    "    \n",
    "    integral = sp.integrate.quad(F,endpts[0],endpts[1],epsabs=0,limit=200) \n",
    "    \n",
    "    return integral"
   ]
  },
  {
   "cell_type": "code",
   "execution_count": 9,
   "id": "f770bfaf",
   "metadata": {},
   "outputs": [],
   "source": [
    "# use linear solver as oppose to get inverse\n",
    "def exact_err(w, H, V, Q, T, B):\n",
    "    return np.linalg.inv(H-w*np.eye(A.shape[0]))@b-(Q@np.linalg.inv(T-w*np.eye(T.shape[0]))@BM.Ei(K+1, 1, 1)*b_[0]).T"
   ]
  },
  {
   "cell_type": "code",
   "execution_count": 10,
   "id": "51f17431",
   "metadata": {},
   "outputs": [
    {
     "name": "stderr",
     "output_type": "stream",
     "text": [
      "/tmp/ipykernel_592178/3137018363.py:27: IntegrationWarning: The integral is probably divergent, or slowly convergent.\n",
      "  integral = sp.integrate.quad(F,endpts[0],endpts[1],epsabs=0,limit=200)\n",
      "/tmp/ipykernel_592178/3137018363.py:27: IntegrationWarning: The maximum number of subdivisions (200) has been achieved.\n",
      "  If increasing the limit yields no improvement it is advised to analyze \n",
      "  the integrand in order to determine the difficulties.  If the position of a \n",
      "  local difficulty can be determined (singularity, discontinuity) one will \n",
      "  probably gain from splitting up the interval and calling the integrator \n",
      "  on the subranges.  Perhaps a special-purpose integrator should be used.\n",
      "  integral = sp.integrate.quad(F,endpts[0],endpts[1],epsabs=0,limit=200)\n"
     ]
    }
   ],
   "source": [
    "compare = np.full(K,np.inf)\n",
    "\n",
    "for k in range(1,K):\n",
    "    compare[k-1] = 2*block_a_posteriori_bound(f,Gamma,[0,np.pi],a_[:k],b_[:k-1],w,lmin_,lmax_, k, 1, b_[:k])[0]\n",
    "#     *np.linalg.norm(exact_err(w, A, b, Q, T, b_))"
   ]
  },
  {
   "cell_type": "code",
   "execution_count": 12,
   "id": "6051c697",
   "metadata": {},
   "outputs": [
    {
     "name": "stderr",
     "output_type": "stream",
     "text": [
      "/tmp/ipykernel_592178/3442352566.py:1: RuntimeWarning: invalid value encountered in subtract\n",
      "  compare-a_posteriori_bound_circle_approx_spectrum\n"
     ]
    },
    {
     "data": {
      "text/plain": [
       "array([ 1.13686838e-13, -2.84217094e-14, -5.32907052e-13, -1.98951966e-13,\n",
       "       -3.14415161e-13, -8.26005930e-14, -1.63424829e-13, -1.70086167e-13,\n",
       "       -1.40776280e-13, -1.07247544e-13, -5.70654635e-14, -2.02060590e-14,\n",
       "        4.54081217e-14,  1.69864123e-14,  7.32747196e-15,  1.76247905e-13,\n",
       "        9.74775816e-14,  7.28306304e-14,  2.66342504e-13,  1.45133905e-13,\n",
       "        7.06379399e-14,  9.74220704e-14,  1.86906046e-13,  5.20139487e-14,\n",
       "        2.07153739e-13,  9.12048215e-14,  2.08721929e-14,  4.43811654e-14,\n",
       "        3.45140583e-14,  3.74353326e-14,  4.16056078e-14,  4.33403313e-14,\n",
       "        5.07163755e-14,  2.16354712e-14,  1.10564335e-13,  1.14075416e-14,\n",
       "        3.10619586e-14,  2.15938378e-14,  7.99985078e-14,  5.10216869e-14,\n",
       "        4.33472702e-14,  1.05592618e-13,  4.97102359e-14,  9.09845116e-14,\n",
       "        2.89403917e-14,  2.03413675e-14,  3.55670354e-14,  3.80129955e-14,\n",
       "        5.97629585e-14,  4.62060945e-14,  7.51655682e-14,  3.74526798e-14,\n",
       "        3.22389684e-14,  9.25631100e-14,  4.62251765e-14,  8.43361839e-14,\n",
       "        6.58344906e-14,  8.17401702e-14,  5.00927425e-14,  7.01608910e-14,\n",
       "        1.20094906e-13,  7.29104277e-14,  3.71352255e-14,  2.83896170e-14,\n",
       "        2.61431501e-14,  8.18282074e-14,  2.44452895e-14,  5.58472539e-14,\n",
       "        6.75180398e-14,  1.17540960e-13,  1.68906122e-13,  4.51496479e-14,\n",
       "        3.00423748e-14,  1.56642060e-13,  9.17542951e-14,  9.10027262e-14,\n",
       "        8.42485803e-14,  4.23862334e-14,  1.85207318e-13,  2.91455662e-13,\n",
       "        9.47540657e-14,  5.63511911e-14,  4.46504812e-14,  6.79170262e-14,\n",
       "        8.30720041e-14,  4.82582724e-14,  2.83266466e-13,  8.94852768e-14,\n",
       "        1.66427636e-13,  1.56918315e-13,  1.26273124e-13,  1.14333022e-13,\n",
       "        1.48315388e-13,  1.61389131e-13,  1.81583915e-13,  1.70671637e-13,\n",
       "        3.33971132e-13,  2.83143300e-13,  1.36231955e-13,  3.57574647e-13,\n",
       "        7.61368399e-13,  4.12677488e-13,  5.45987734e-13,  2.37873740e-13,\n",
       "        3.18709035e-13,  7.17423733e-13,  1.03371825e-12,  4.12640191e-13,\n",
       "        8.29423336e-13,  4.00017476e-13,  1.24431433e-12,  4.14771733e-13,\n",
       "        1.20489491e-12,  1.01465906e-12,  1.37265199e-12,  9.32263598e-13,\n",
       "        2.22682745e-12,  2.78185504e-12,  1.54783066e-12,  8.29796518e-13,\n",
       "        1.32689476e-12,  2.81067444e-12,  3.58277318e-12,  3.28856668e-12,\n",
       "        6.38138761e-12,  1.91082285e-12,  4.40470620e-12,  2.08711824e-12,\n",
       "        1.16261636e-11,  5.83014518e-12,  4.91714265e-12,  5.97264187e-12,\n",
       "        7.84175632e-12,  4.08610537e-12,  6.49065415e-12,  5.72312315e-11,\n",
       "        1.00152742e-11,  2.49161878e-11,  3.93011110e-11,  4.02008364e-11,\n",
       "        6.36850004e-11,  1.29271351e-11,  5.34674729e-11,  7.09447893e-11,\n",
       "        4.92515180e-11,  1.41536043e-10,  2.14657606e-11,  1.36998448e-10,\n",
       "        6.11628959e-11,  1.78528169e-10,  1.02251533e-10,  7.12248734e-11,\n",
       "        1.34984438e-04,  1.34943733e-04,  1.34904286e-04,  1.34865400e-04,\n",
       "        1.34827809e-04,  1.34791179e-04,  1.34755598e-04,  1.34720704e-04,\n",
       "        1.34687414e-04,  1.34653623e-04,  1.34622358e-04,  1.34589648e-04,\n",
       "        1.34560475e-04,  1.34529738e-04,  1.34500450e-04,  1.34472452e-04,\n",
       "        1.34443077e-04,  6.40394801e-06,  1.34390068e-04,  1.34363882e-04,\n",
       "        6.40265759e-06,  1.34313983e-04,  6.40729340e-06,  1.34264478e-04,\n",
       "        1.34254555e-04,  1.34222111e-04,  1.34202285e-04,  1.34180970e-04,\n",
       "        1.34148780e-04,  1.34149831e-04,  1.34147558e-04,  1.34094285e-04,\n",
       "        6.41745196e-06,  6.43321454e-06,  1.34121536e-04,  1.34047961e-04,\n",
       "        1.34085618e-04,  1.34003547e-04,  1.33986465e-04,  6.53376825e-06,\n",
       "        1.34140617e-04,  1.33993641e-04,  1.33922665e-04,  1.33973562e-04,\n",
       "        6.55412019e-06,  6.72680385e-06,  6.58387648e-06,             nan])"
      ]
     },
     "execution_count": 12,
     "metadata": {},
     "output_type": "execute_result"
    }
   ],
   "source": [
    "compare-a_posteriori_bound_circle_approx_spectrum"
   ]
  },
  {
   "cell_type": "code",
   "execution_count": 13,
   "id": "60525353",
   "metadata": {},
   "outputs": [
    {
     "ename": "NameError",
     "evalue": "name 'Eval' is not defined",
     "output_type": "error",
     "traceback": [
      "\u001b[0;31m---------------------------------------------------------------------------\u001b[0m",
      "\u001b[0;31mNameError\u001b[0m                                 Traceback (most recent call last)",
      "\u001b[0;32m/tmp/ipykernel_592178/3015952614.py\u001b[0m in \u001b[0;36m<module>\u001b[0;34m\u001b[0m\n\u001b[0;32m----> 1\u001b[0;31m \u001b[0mget_cwinvcz\u001b[0m\u001b[0;34m(\u001b[0m\u001b[0mEval\u001b[0m\u001b[0;34m,\u001b[0m \u001b[0mEvec\u001b[0m\u001b[0;34m,\u001b[0m \u001b[0mz\u001b[0m\u001b[0;34m,\u001b[0m \u001b[0mw\u001b[0m\u001b[0;34m,\u001b[0m \u001b[0mitr\u001b[0m\u001b[0;34m,\u001b[0m \u001b[0mb\u001b[0m\u001b[0;34m,\u001b[0m \u001b[0mB\u001b[0m\u001b[0;34m)\u001b[0m\u001b[0;34m\u001b[0m\u001b[0;34m\u001b[0m\u001b[0m\n\u001b[0m",
      "\u001b[0;31mNameError\u001b[0m: name 'Eval' is not defined"
     ]
    }
   ],
   "source": [
    "get_cwinvcz(Eval, Evec, z, w, itr, b, B)"
   ]
  },
  {
   "cell_type": "code",
   "execution_count": null,
   "id": "a36c8df6",
   "metadata": {},
   "outputs": [],
   "source": [
    "np.abs(np.prod((theta-w)/(theta-z)))"
   ]
  },
  {
   "cell_type": "code",
   "execution_count": null,
   "id": "d99f42f4",
   "metadata": {},
   "outputs": [],
   "source": []
  }
 ],
 "metadata": {
  "kernelspec": {
   "display_name": "Python 3 (ipykernel)",
   "language": "python",
   "name": "python3"
  },
  "language_info": {
   "codemirror_mode": {
    "name": "ipython",
    "version": 3
   },
   "file_extension": ".py",
   "mimetype": "text/x-python",
   "name": "python",
   "nbconvert_exporter": "python",
   "pygments_lexer": "ipython3",
   "version": "3.9.7"
  }
 },
 "nbformat": 4,
 "nbformat_minor": 5
}
