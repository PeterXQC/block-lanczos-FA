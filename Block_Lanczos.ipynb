{
 "cells": [
  {
   "cell_type": "code",
   "execution_count": 1,
   "id": "3c8a52a9",
   "metadata": {
    "scrolled": true
   },
   "outputs": [],
   "source": [
    "import block_methods as BM\n",
    "\n",
    "from Lanczos_FA.lanczos_bin import *\n",
    "\n",
    "import numpy as np\n",
    "import scipy as sp\n",
    "import matplotlib.pyplot as plt\n",
    "from scipy import integrate\n",
    "import matplotlib.pyplot as plt"
   ]
  },
  {
   "cell_type": "code",
   "execution_count": 2,
   "id": "16be4ff9",
   "metadata": {
    "scrolled": true
   },
   "outputs": [],
   "source": [
    "# k = 100\n",
    "# b = 2\n",
    "# n = k*b\n",
    "# itr = 70\n",
    "\n",
    "# H = BM.randHerm(n, 1)\n",
    "# V = BM.randVec(n, b)\n",
    "    \n",
    "# error = BM.mkplt(H, V, itr, b, BM.exp)"
   ]
  },
  {
   "cell_type": "code",
   "execution_count": 3,
   "id": "488b48ce",
   "metadata": {},
   "outputs": [],
   "source": [
    "def get_a_posteriori_bound(f,gamma,endpts,a_,b_,w,lmin,lmax):\n",
    "    \"\"\"\n",
    "    (1/2pi) \\oint_{\\Gamma} |f(z)| |D_{k,w,z}| Q_{w,z} |dz|\n",
    "    \"\"\"\n",
    "    \n",
    "    theta = sp.linalg.eigvalsh_tridiagonal(a_,b_,tol=1e-30)\n",
    "\n",
    "    def F(t):\n",
    "        z,dz = gamma(t)\n",
    "        \n",
    "        return (1/(2*np.pi)) * np.abs(f(z)) * np.abs(np.prod((theta-w)/(theta-z))) * Q_wz(w,z,lmin,lmax) * np.abs(dz)\n",
    "    \n",
    "    integral = sp.integrate.quad(F,endpts[0],endpts[1],epsabs=0,limit=200) \n",
    "    \n",
    "    return integral\n",
    "\n",
    "# this deals with h_wz\n",
    "def Q_wz(w,z,lmin,lmax):\n",
    "    \"\"\"\n",
    "    max_{x\\in[lmin,lmax]} |x-w|/|z-w|\n",
    "    \"\"\"\n",
    "    \n",
    "    if np.real(z) - w != 0:\n",
    "        b_hat = ( np.abs(z)**2 - np.real(z)*w ) / (np.real(z) - w)\n",
    "    else:\n",
    "        b_hat = np.inf\n",
    "    \n",
    "    if lmin < b_hat <= lmax:\n",
    "        return np.abs((z-w)/np.imag(z))\n",
    "    else:\n",
    "        return np.max([np.abs((lmax-w)/(lmax-z)), np.abs((lmin-w)/(lmin-z))])"
   ]
  },
  {
   "cell_type": "code",
   "execution_count": 4,
   "id": "df8182bd",
   "metadata": {},
   "outputs": [],
   "source": [
    "def get_cwinvcz(Eval, Evec, z, w, itr, b, B_0):\n",
    "    Dzinv = np.diag(1/(Eval-z))\n",
    "    Dwinv = np.diag(1/(Eval-w))\n",
    "        \n",
    "    if b == 1:\n",
    "        Cz = Evec@Dzinv@Evec.T@BM.Ei(itr*b, b, 1)*B_0\n",
    "        Cwinv = np.linalg.solve(-BM.Ei(itr*b, b, itr).T@Evec@Dwinv@Evec.T@BM.Ei(itr*b, b, 1)*B_0, -BM.Ei(itr*b, b, itr).T)\n",
    "    else:\n",
    "        Cz = Evec@Dzinv@Evec.T@BM.Ei(itr*b, b, 1)@B_0\n",
    "        Cwinv = np.linalg.solve(-BM.Ei(itr*b, b, itr).T@Evec@Dwinv@Evec.T@BM.Ei(itr*b, b, 1)@B_0, -BM.Ei(itr*b, b, itr).T)\n",
    "    \n",
    "    return Cwinv@Cz\n",
    "\n",
    "\n",
    "def block_a_posteriori_bound(f,gamma,endpts,a_,b_,w,lmin,lmax, itr, b, B_0):\n",
    "    \"\"\"\n",
    "    (1/2pi) \\oint_{\\Gamma} |f(z)| |D_{k,w,z}| Q_{w,z} |dz|\n",
    "    \"\"\"\n",
    "#     make T matrix\n",
    "    T = np.diag(a_.astype(np.double)) + np.diag(b_.astype(np.double), 1) + np.diag(b_.astype(np.double), -1)\n",
    "    Eval, Evec = np.linalg.eigh(T)\n",
    "    def F(t):\n",
    "        z,dz = gamma(t)\n",
    "        \n",
    "        return (1/(2*np.pi)) * np.abs(f(z)) * np.linalg.norm(get_cwinvcz(Eval, Evec, z, w, itr, b, B_0)) * Q_wz(w,z,lmin,lmax) * np.abs(dz)\n",
    "    \n",
    "    integral = sp.integrate.quad(F,endpts[0],endpts[1],epsabs=0,limit=200) \n",
    "    \n",
    "    return integral"
   ]
  },
  {
   "cell_type": "code",
   "execution_count": 5,
   "id": "a0f556f4",
   "metadata": {},
   "outputs": [],
   "source": [
    "def comparison(w, z, a_, b_, itr, B_0):\n",
    "    T = np.diag(a_.astype(np.double)) + np.diag(b_.astype(np.double), 1) + np.diag(b_.astype(np.double), -1)\n",
    "    Eval, Evec = np.linalg.eigh(T)\n",
    "    \n",
    "    theta = sp.linalg.eigvalsh_tridiagonal(a_,b_,tol=1e-30)\n",
    "    \n",
    "    return np.abs(np.linalg.norm(get_cwinvcz(Eval, Evec, z, w, itr, 1, B_0)) - np.abs(np.prod((theta-w)/(theta-z))))"
   ]
  },
  {
   "cell_type": "code",
   "execution_count": 6,
   "id": "c43c7fdd",
   "metadata": {},
   "outputs": [],
   "source": [
    "# test case\n",
    "n = 1000\n",
    "lam = np.linspace(1e-2,1e2,n)\n",
    "b = np.ones(n,dtype=np.longdouble)\n",
    "b /= np.linalg.norm(b)\n",
    "\n",
    "lmin = np.min(lam).astype(np.double)\n",
    "lmax = np.max(lam).astype(np.double)\n",
    "kappa = lmax / lmin\n",
    "\n",
    "lmin_ = lmin/2\n",
    "lmax_ = 2*lmax\n",
    "\n",
    "w = 0\n",
    "\n",
    "# norm to measure function approximation and linear system errors\n",
    "B = lam\n",
    "\n",
    "K = 200\n",
    "reorth=True\n",
    "\n",
    "A = np.diag(lam.astype(np.longdouble))\n",
    "Q,(a_,b_) = exact_lanczos(lam.astype(np.longdouble),b.astype(np.longdouble),K+1,reorth=reorth)\n",
    "\n",
    "e1 = np.zeros(K+1)\n",
    "e1[0] = 1\n",
    "\n",
    "a_posteriori_bound_circle_approx_spectrum = np.full(K,np.inf)\n",
    "    \n",
    "def Gamma(t):\n",
    "    radius = lmax_ - lmin_/100\n",
    "\n",
    "    z = radius*np.exp(1j*t)+lmax_\n",
    "    dz = radius*1j*np.exp(1j*t)\n",
    "    \n",
    "    return z,dz\n",
    "\n",
    "def f(x):\n",
    "    return np.sqrt(x)\n",
    "\n",
    "for k in range(1,K+1):\n",
    "    a_posteriori_bound_circle_approx_spectrum[k-1] = get_a_posteriori_bound(f,Gamma,[0,np.pi],a_[:k],b_[:k-1],w,lmin_,lmax_)[0]"
   ]
  },
  {
   "cell_type": "code",
   "execution_count": 7,
   "id": "d01b72f5",
   "metadata": {},
   "outputs": [],
   "source": [
    "compare_term = np.full(K,np.inf)\n",
    "\n",
    "for k in range(1,K+1):\n",
    "    compare_term[k-1] = comparison(w, 1, a_[:k], b_[:k-1], k, np.linalg.norm(b_[:k]))\n",
    "#     *np.linalg.norm(exact_err(w, A, b, Q, T, b_))"
   ]
  },
  {
   "cell_type": "code",
   "execution_count": null,
   "id": "51f17431",
   "metadata": {},
   "outputs": [],
   "source": [
    "compare = np.full(K,np.inf)\n",
    "\n",
    "for k in range(1,K+1):\n",
    "    B_0 = np.linalg.norm(b_[:k-1])\n",
    "    compare[k-1] = block_a_posteriori_bound(f,Gamma,[0,np.pi],a_[:k],b_[:k-1],w,lmin_,lmax_, k, 1, np.linalg.norm(b_[:k]))[0]\n",
    "#     *np.linalg.norm(exact_err(w, A, b, Q, T, b_))"
   ]
  },
  {
   "cell_type": "code",
   "execution_count": null,
   "id": "1333b655",
   "metadata": {},
   "outputs": [],
   "source": [
    "x = np.linspace(1, K, 200)\n",
    "# plt.plot(x, a_posteriori_bound_circle_approx_spectrum, c='red')\n",
    "# plt.plot(x, compare, c='green')\n",
    "plt.plot(x, compare_term)\n",
    "plt.yscale('log')\n",
    "plt.title(\"New Term Error\")\n",
    "plt.xlabel(\"k\")\n",
    "plt.ylabel(\"error\")\n",
    "plt.show"
   ]
  },
  {
   "cell_type": "code",
   "execution_count": null,
   "id": "ed5c799c",
   "metadata": {},
   "outputs": [],
   "source": [
    "x = np.linspace(1, K, 200)\n",
    "# plt.plot(x, a_posteriori_bound_circle_approx_spectrum, c='red')\n",
    "# plt.plot(x, compare, c='green')\n",
    "plt.plot(x, np.abs(compare - a_posteriori_bound_circle_approx_spectrum))\n",
    "plt.yscale('log')\n",
    "plt.title(\"Total Error\")\n",
    "plt.xlabel(\"k\")\n",
    "plt.ylabel(\"error\")\n",
    "plt.show"
   ]
  },
  {
   "cell_type": "code",
   "execution_count": null,
   "id": "249fc82e",
   "metadata": {},
   "outputs": [],
   "source": [
    "def block_a_posteriori_bound_mid(f, gamma, endpts, a_, b_, Q, A, b, B_0):\n",
    "    \"\"\"\n",
    "    (1/2pi) \\oint_{\\Gamma} |f(z)| |D_{k,w,z}| Q_{w,z} |dz|\n",
    "    \"\"\"\n",
    "#     make T matrix\n",
    "    T = np.diag(a_.astype(np.double)) + np.diag(b_.astype(np.double), 1) + np.diag(b_.astype(np.double), -1)\n",
    "    Eval, Evec = np.linalg.eigh(T)\n",
    "    def F(t):\n",
    "        z,dz = gamma(t)\n",
    "        \n",
    "        return (1/(2*np.pi)) * np.linalg.norm(f(z)* exact_err(z, A, b, Q, T, B_0)) * np.abs(dz)\n",
    "    \n",
    "    integral = sp.integrate.quad(F,endpts[0],endpts[1],epsabs=0,limit=200) \n",
    "    \n",
    "    return integral"
   ]
  },
  {
   "cell_type": "code",
   "execution_count": null,
   "id": "001ed48a",
   "metadata": {},
   "outputs": [],
   "source": [
    "# use linear solver as oppose to get inverse\n",
    "def exact_err(z, H, V, Q, T, B_0):\n",
    "    HinvV = np.linalg.solve((H-z*np.eye(H.shape[0])), V)\n",
    "    E1 = BM.Ei(np.shape(T)[0], 1, 1)\n",
    "    E1_array = np.reshape(E1, len(E1))\n",
    "    TinvE = np.linalg.solve((T-z*np.eye(T.shape[0])), E1_array)\n",
    "    print(np.shape(Q@TinvE*B_0))\n",
    "    print(np.shape(HinvV))\n",
    "    return HinvV - Q@TinvE*B_0"
   ]
  },
  {
   "cell_type": "code",
   "execution_count": null,
   "id": "eb9e85a4",
   "metadata": {},
   "outputs": [],
   "source": [
    "compare_mid = np.full(K,np.inf)\n",
    "\n",
    "for k in range(1,K+1):\n",
    "    B_0 = np.linalg.norm(b_[:k-1])\n",
    "    compare_mid[k-1] = block_a_posteriori_bound_mid(f,Gamma,[0,np.pi],a_[:k],b_[:k-1], Q[:k, :k], A, b.astype(np.double), B_0)[0]"
   ]
  },
  {
   "cell_type": "code",
   "execution_count": null,
   "id": "c191b90c",
   "metadata": {},
   "outputs": [],
   "source": [
    "T = np.diag(a_.astype(np.double)) + np.diag(b_.astype(np.double), 1) + np.diag(b_.astype(np.double), -1)\n",
    "np.shape(T-1*np.eye(T.shape[0]))"
   ]
  },
  {
   "cell_type": "code",
   "execution_count": null,
   "id": "b2d0608c",
   "metadata": {},
   "outputs": [],
   "source": [
    "np.shape(BM.Ei(K+1, 1, 1))"
   ]
  },
  {
   "cell_type": "code",
   "execution_count": null,
   "id": "36ae589a",
   "metadata": {},
   "outputs": [],
   "source": [
    "E1 = "
   ]
  },
  {
   "cell_type": "code",
   "execution_count": null,
   "id": "e195d14c",
   "metadata": {},
   "outputs": [],
   "source": [
    "def exact_err(w, H, V, Q, T, B):\n",
    "    return np.linalg.inv(H-w*np.eye(A.shape[0]))@b-(Q@np.linalg.inv(T-w*np.eye(T.shape[0]))@BM.Ei(K+1, 1, 1)*b_[0]).T"
   ]
  },
  {
   "cell_type": "code",
   "execution_count": null,
   "id": "a253aead",
   "metadata": {},
   "outputs": [],
   "source": [
    "compare_mid = np.full(K,np.inf)\n",
    "\n",
    "for k in range(1,K+1):\n",
    "    B_0 = np.linalg.norm(b_[:k-1])\n",
    "    compare_mid[k-1] = exact_err(f,Gamma,[0,np.pi],a_[:k],b_[:k-1], Q[:k, :k], A, b.astype(np.double), B_0)[0]"
   ]
  }
 ],
 "metadata": {
  "kernelspec": {
   "display_name": "Python 3 (ipykernel)",
   "language": "python",
   "name": "python3"
  },
  "language_info": {
   "codemirror_mode": {
    "name": "ipython",
    "version": 3
   },
   "file_extension": ".py",
   "mimetype": "text/x-python",
   "name": "python",
   "nbconvert_exporter": "python",
   "pygments_lexer": "ipython3",
   "version": "3.9.12"
  }
 },
 "nbformat": 4,
 "nbformat_minor": 5
}
