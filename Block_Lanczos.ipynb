{
 "cells": [
  {
   "cell_type": "code",
   "execution_count": 1,
   "id": "3c8a52a9",
   "metadata": {
    "scrolled": true
   },
   "outputs": [],
   "source": [
    "import block_methods as BM\n",
    "\n",
    "from Lanczos_FA.lanczos_bin import *\n",
    "\n",
    "import numpy as np\n",
    "import scipy as sp\n",
    "import matplotlib.pyplot as plt\n",
    "from scipy import integrate"
   ]
  },
  {
   "cell_type": "code",
   "execution_count": 2,
   "id": "16be4ff9",
   "metadata": {
    "scrolled": true
   },
   "outputs": [
    {
     "data": {
      "image/png": "[encoded data removed]",
      "text/plain": [
       "<Figure size 432x288 with 1 Axes>"
      ]
     },
     "metadata": {
      "needs_background": "light"
     },
     "output_type": "display_data"
    }
   ],
   "source": [
    "k = 100\n",
    "b = 2\n",
    "n = k*b\n",
    "itr = 70\n",
    "\n",
    "H = BM.randHerm(n, 1)\n",
    "V = BM.randVec(n, b)\n",
    "    \n",
    "error = BM.mkplt(H, V, itr, b, BM.exp)"
   ]
  },
  {
   "cell_type": "code",
   "execution_count": 3,
   "id": "488b48ce",
   "metadata": {},
   "outputs": [],
   "source": [
    "def const(t):\n",
    "    return 1"
   ]
  },
  {
   "cell_type": "code",
   "execution_count": 4,
   "id": "3eb01d5e",
   "metadata": {},
   "outputs": [],
   "source": [
    "def a_posteriori(f, z, b, itr, h, T, w, B):\n",
    "    \n",
    "    \"\"\"\n",
    "    Input\n",
    "    -----\n",
    "    \n",
    "    f  : function to integrate over\n",
    "    n  : matrix size\n",
    "    b  : block size\n",
    "    itr  : number of iteration\n",
    "    h  : bound of h_(w,z)(H)\n",
    "    \n",
    "    Returns\n",
    "    -------\n",
    "    value of the contour integral\n",
    "    \n",
    "    \"\"\"\n",
    "    Eval, Evec = np.linalg.eigh(T)\n",
    "    Dzinv = np.diag(1/(Eval-z))\n",
    "    Dwinv = np.diag(1/(Eval-w))\n",
    "    if b == 1:\n",
    "        Cz = -BM.Ei(itr*b, b, itr).T@Evec@Dzinv@Evec.T@BM.Ei(itr*b, b, 1)*B[0]\n",
    "        Cwinv = np.linalg.inv(-BM.Ei(itr*b, b, itr).T@Evec@Dwinv@Evec.T@BM.Ei(itr*b, b, 1)*B[0]) \n",
    "    else:\n",
    "        Cz = -BM.Ei(itr*b, b, itr).T@Evec@Dzinv@Evec.T@BM.Ei(itr*b, b, 1)@B[0]\n",
    "        Cwinv = np.linalg.inv(-BM.Ei(itr*b, b, itr).T@Evec@Dwinv@Evec.T@BM.Ei(itr*b, b, 1)@B[0])\n",
    "    \n",
    "#     print(np.shape(BM.Ei(n, b, k)))\n",
    "    \n",
    "    return np.abs(f(z)) * h(z) * np.linalg.norm(Cwinv@Cz)"
   ]
  },
  {
   "cell_type": "code",
   "execution_count": 5,
   "id": "df8182bd",
   "metadata": {},
   "outputs": [],
   "source": [
    "def contour_eval(f, contour, endpts, b, itr, h, T, w, B):\n",
    "    \n",
    "    \"\"\"\n",
    "    Input\n",
    "    -----\n",
    "    \n",
    "    f  : function to integrate over\n",
    "    contour  : a already defined contour\n",
    "    endpts  : array of two endpoints for the integral\n",
    "    \n",
    "    Returns\n",
    "    -------\n",
    "    value of the contour integral\n",
    "    \n",
    "    \"\"\"\n",
    "        \n",
    "    def F(t):\n",
    "        z,dz = contour(t)\n",
    "        return a_posteriori(f, z, b, itr, h, T, w, B) * dz\n",
    "    \n",
    "    \n",
    "    integral = sp.integrate.quad(F, endpts[0], endpts[1], epsabs=0)[0]\n",
    "    return (1/(2*np.pi))*integral"
   ]
  },
  {
   "cell_type": "code",
   "execution_count": 6,
   "id": "13fdf834",
   "metadata": {},
   "outputs": [],
   "source": [
    "def u_disks(t):\n",
    "    z = np.exp(t*1j)\n",
    "    dz = 1j*np.exp(t*1j)\n",
    "    return z, dz"
   ]
  },
  {
   "cell_type": "code",
   "execution_count": 7,
   "id": "b2b96b57",
   "metadata": {},
   "outputs": [],
   "source": [
    "k = 100\n",
    "b = 1\n",
    "n = k*b\n",
    "itr = 6\n",
    "\n",
    "H = BM.randHerm(n,b)\n",
    "V = BM.randVec(n, b)"
   ]
  },
  {
   "cell_type": "code",
   "execution_count": 8,
   "id": "5d1ba0c0",
   "metadata": {},
   "outputs": [],
   "source": [
    "Q1k, Qkp1, A, B = BM.block_lanczos(H, V, itr, itr + 1)\n",
    "T = BM.get_block_tridiag(A,B)"
   ]
  },
  {
   "cell_type": "code",
   "execution_count": 9,
   "id": "180ff8d3",
   "metadata": {},
   "outputs": [
    {
     "name": "stdout",
     "output_type": "stream",
     "text": [
      "-1.1530248209059148\n"
     ]
    },
    {
     "name": "stderr",
     "output_type": "stream",
     "text": [
      "E:\\Anaconda\\lib\\site-packages\\scipy\\integrate\\quadpack.py:463: ComplexWarning: Casting complex values to real discards the imaginary part\n",
      "  return _quadpack._qagse(func,a,b,args,full_output,epsabs,epsrel,limit)\n"
     ]
    }
   ],
   "source": [
    "print(contour_eval(const, u_disks, [0, np.pi], b, itr, const, T, 5, B))"
   ]
  },
  {
   "cell_type": "code",
   "execution_count": 10,
   "id": "c43c7fdd",
   "metadata": {},
   "outputs": [],
   "source": [
    "n = 3000\n",
    "m = 2*n\n",
    "X = np.random.randn(n,m)/np.sqrt(2*n)\n",
    "A = X@X.T\n",
    "lam = np.linalg.eigvalsh(A)\n",
    "#lam = np.load('matrices/Erdos992_eigs.npy')\n",
    "#lam /= np.min(np.abs(lam))\n",
    "n = len(lam)\n",
    "\n",
    "b = np.ones(n,dtype=np.longdouble)\n",
    "b /= np.linalg.norm(b)\n",
    "\n",
    "lmin = np.min(lam).astype(np.double)\n",
    "lmax = np.max(lam).astype(np.double)\n",
    "kappa = lmax / lmin\n",
    "\n",
    "w = 0\n",
    "\n",
    "# norm to measure function approximation and linear system errors\n",
    "B = np.ones(n)\n",
    "\n",
    "K = 40\n",
    "reorth=True\n",
    "Q,(a_,b_) = exact_lanczos(lam.astype(np.longdouble),b.astype(np.longdouble),K+1,reorth=reorth)\n",
    "\n",
    "e1 = np.zeros(K+1)\n",
    "e1[0] = 1\n",
    "def get_a_posteriori_bound_Qz(f,gamma,endpts,a_,b_,w,lmin,lmax):\n",
    "    \"\"\"\n",
    "    (1/2pi) \\oint_{\\Gamma} |f(z)| |D_{k,z}| Q_{w,z} |dz|\n",
    "    \"\"\"\n",
    "    \n",
    "    theta = sp.linalg.eigvalsh_tridiagonal(a_,b_,tol=1e-30)\n",
    "\n",
    "    def F(t):\n",
    "        z,dz = gamma(t)\n",
    "        \n",
    "        return (1/(2*np.pi)) * np.abs(f(z)) * np.abs(np.prod((theta-w)/(theta-z)))**2 * Q_z(z,lmin,lmax) * np.abs(dz)\n",
    "    \n",
    "    integral = sp.integrate.quad(F,endpts[0],endpts[1],epsabs=0,limit=200) \n",
    "    \n",
    "    return integral\n",
    "\n",
    "a_posteriori_bound = np.full(K,np.inf)\n",
    "\n",
    "def Gamma1(t):\n",
    "    z = lmin/100*(np.cos(t)+np.sin(t)*1j)\n",
    "    dz = lmin/100*(-np.sin(t)+np.cos(t)*1j)\n",
    "    \n",
    "    return z,dz\n",
    "\n",
    "def Gamma2(t):\n",
    "    z = lmin/100*1j*t\n",
    "    dz = lmin/100*1j\n",
    "    \n",
    "    return z,dz\n",
    "\n",
    "def f(x):\n",
    "    return np.log(x)\n",
    "\n",
    "fAb = f(lam)*b\n",
    "\n",
    "for k in range(1,K):\n",
    "    a_posteriori_bound[k-1] = get_a_posteriori_bound_Qz(f,Gamma1,[0,np.pi/2],a_[:k],b_[:k-1],w,lmin,lmax)[0]"
   ]
  },
  {
   "cell_type": "code",
   "execution_count": 11,
   "id": "47d991b4",
   "metadata": {},
   "outputs": [
    {
     "data": {
      "text/plain": [
       "array([0.01792265, 0.01795208, 0.01798647, 0.01802334, 0.01806156,\n",
       "       0.01810059, 0.01814005, 0.0181797 , 0.01821956, 0.01825948,\n",
       "       0.01829949, 0.01833962, 0.01838   , 0.01842053, 0.01846123,\n",
       "       0.01850218, 0.01854336, 0.01858479, 0.01862639, 0.01866807,\n",
       "       0.01870984, 0.01875174, 0.01879388, 0.01883618, 0.0188785 ,\n",
       "       0.01892095, 0.01896343, 0.01900603, 0.01904885, 0.01909172,\n",
       "       0.01913474, 0.01917772, 0.01922076, 0.01926402, 0.0193074 ,\n",
       "       0.01935076, 0.01939433, 0.01943809, 0.01948184,        inf])"
      ]
     },
     "execution_count": 11,
     "metadata": {},
     "output_type": "execute_result"
    }
   ],
   "source": [
    "a_posteriori_bound"
   ]
  },
  {
   "cell_type": "code",
   "execution_count": 12,
   "id": "f770bfaf",
   "metadata": {},
   "outputs": [],
   "source": [
    "def exact_err(w, H, V, Q, T, B):\n",
    "    return np.linalg.inv(H-w*np.eye(A.shape[0]))@b-(Q@np.linalg.inv(T-w*np.eye(T.shape[0]))@BM.Ei(K+1, 1, 1)*b_[0]).T"
   ]
  },
  {
   "cell_type": "code",
   "execution_count": 13,
   "id": "51f17431",
   "metadata": {},
   "outputs": [],
   "source": [
    "compare = np.full(K,np.inf)\n",
    "T = np.diag(a_.astype(np.double)) + np.diag(b_.astype(np.double), 1) + np.diag(b_.astype(np.double), -1)\n",
    "\n",
    "for k in range(1,K):\n",
    "    compare[k-1] = contour_eval(f, Gamma1, [0,np.pi/2], 1, k, const, T[:k, :k], w, b_)*np.linalg.norm(exact_err(w, A, b, Q, T, b_))"
   ]
  },
  {
   "cell_type": "code",
   "execution_count": 14,
   "id": "6051c697",
   "metadata": {},
   "outputs": [
    {
     "data": {
      "text/plain": [
       "array([-0.00243115, -0.00243271, -0.00243453, -0.00243649, -0.0024385 ,\n",
       "       -0.00244056, -0.00244264, -0.00244473, -0.00244682, -0.00244891,\n",
       "       -0.002451  , -0.0024531 , -0.0024552 , -0.00245732, -0.00245943,\n",
       "       -0.00246156, -0.00246369, -0.00246584, -0.00246799, -0.00247014,\n",
       "       -0.00247229, -0.00247444, -0.0024766 , -0.00247877, -0.00248094,\n",
       "       -0.00248311, -0.00248528, -0.00248744, -0.00248962, -0.0024918 ,\n",
       "       -0.00249398, -0.00249615, -0.00249833, -0.00250051, -0.0025027 ,\n",
       "       -0.00250488, -0.00250707, -0.00250926, -0.00251145,         inf])"
      ]
     },
     "execution_count": 14,
     "metadata": {},
     "output_type": "execute_result"
    }
   ],
   "source": [
    "compare"
   ]
  },
  {
   "cell_type": "code",
   "execution_count": null,
   "id": "8420fd7f",
   "metadata": {},
   "outputs": [],
   "source": []
  },
  {
   "cell_type": "code",
   "execution_count": null,
   "id": "8437c106",
   "metadata": {},
   "outputs": [],
   "source": []
  }
 ],
 "metadata": {
  "kernelspec": {
   "display_name": "Python 3 (ipykernel)",
   "language": "python",
   "name": "python3"
  },
  "language_info": {
   "codemirror_mode": {
    "name": "ipython",
    "version": 3
   },
   "file_extension": ".py",
   "mimetype": "text/x-python",
   "name": "python",
   "nbconvert_exporter": "python",
   "pygments_lexer": "ipython3",
   "version": "3.9.12"
  }
 },
 "nbformat": 4,
 "nbformat_minor": 5
}
