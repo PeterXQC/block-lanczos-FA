{
 "cells": [
  {
   "cell_type": "code",
   "execution_count": 1,
   "metadata": {
    "scrolled": true
   },
   "outputs": [],
   "source": [
    "# these are for implementing a progress bar to watch when waiting\n",
    "from IPython.display import clear_output"
   ]
  },
  {
   "cell_type": "code",
   "execution_count": 2,
   "metadata": {},
   "outputs": [],
   "source": [
    "import block_methods as BM\n",
    "\n",
    "from Lanczos_FA.lanczos_bin import *\n",
    "\n",
    "import numpy as np\n",
    "# import scipy as sp\n",
    "import matplotlib.pyplot as plt\n",
    "from scipy import integrate\n",
    "import warnings\n",
    "\n",
    "plt.rcParams[\"figure.figsize\"] = (16,9)\n",
    "warnings.filterwarnings(\"ignore\")\n",
    "\n",
    "# for reproducibility on V\n",
    "np.random.seed(0)"
   ]
  },
  {
   "cell_type": "code",
   "execution_count": 3,
   "metadata": {},
   "outputs": [],
   "source": [
    "n = 1000 # matrix dimension\n",
    "b = 2 # block size\n",
    "K = 200 # max iter\n",
    "thresh = 1e-10 # goal error\n",
    "\n",
    "saveFig = False # whether to save generated figure or not\n",
    "\n",
    "# set up matrix\n",
    "lam = np.linspace(1e-2,1,n)\n",
    "H = np.diag(lam)\n",
    "\n",
    "# set up vector\n",
    "V = np.random.randn(n,b)\n",
    "\n",
    "# w value\n",
    "w = -2-2*1j\n",
    "\n",
    "# how many iterations per sample for plotting\n",
    "step = 4"
   ]
  },
  {
   "cell_type": "code",
   "execution_count": 4,
   "metadata": {},
   "outputs": [],
   "source": [
    "def oscTest(H, w):\n",
    "    HwI = H-w*np.identity(np.shape(H)[0])\n",
    "    EvalH, EvecH = np.linalg.eigh(H)\n",
    "    \n",
    "    for i in np.arange(len(EvalH)):\n",
    "        if EvalH[i] <= 0:\n",
    "            print(\"Oscilitory behavior is expected for this pair of H and w.\")\n",
    "            return False\n",
    "    \n",
    "    return True"
   ]
  },
  {
   "cell_type": "code",
   "execution_count": 5,
   "metadata": {},
   "outputs": [],
   "source": [
    "oscTest(H, w)\n",
    "Q,Qkp1,A,B,B_0 = BM.block_lanczos(H, V, K, K+1)\n",
    "\n",
    "# generate tridiagonal matrix and get eigendecomp\n",
    "T = BM.get_block_tridiag(A,B)\n",
    "EvalT, EvecT = np.linalg.eigh(T)"
   ]
  },
  {
   "cell_type": "code",
   "execution_count": 6,
   "metadata": {},
   "outputs": [],
   "source": [
    "lmin = np.min(lam)\n",
    "lmax = np.max(lam)\n",
    "kappa = lmax / lmin\n",
    "\n",
    "lmin = lmin/2\n",
    "lmax = 2*lmax\n",
    "\n",
    "funcName = \"sqrt\"\n",
    "# define function\n",
    "def f(x):\n",
    "    return np.sqrt(x)\n",
    "\n",
    "contourName = \"circle centered at \" +str(lmax) + \" with radius \" + str(lmax - lmin/100)\n",
    "# define contour\n",
    "def Gamma(t):\n",
    "    radius = lmax - lmin/100\n",
    "\n",
    "    z = radius*np.exp(1j*t)+lmax\n",
    "    dz = radius*1j*np.exp(1j*t)\n",
    "    \n",
    "    return z,dz"
   ]
  },
  {
   "cell_type": "code",
   "execution_count": 7,
   "metadata": {},
   "outputs": [],
   "source": [
    "def Q_wz(w,z,lmin,lmax):\n",
    "    \"\"\"\n",
    "    max_{x\\in[lmin,lmax]} |x-w|/|z-w|\n",
    "    \"\"\"\n",
    "    \n",
    "    if np.real(z) - w != 0:\n",
    "        b_hat = ( np.abs(z)**2 - np.real(z)*w ) / (np.real(z) - w)\n",
    "    else:\n",
    "        b_hat = np.inf\n",
    "    \n",
    "    if lmin < b_hat <= lmax:\n",
    "        return np.abs((z-w)/np.imag(z))\n",
    "    else:\n",
    "        return np.max([np.abs((lmax-w)/(lmax-z)), np.abs((lmin-w)/(lmin-z))])"
   ]
  },
  {
   "cell_type": "code",
   "execution_count": 8,
   "metadata": {},
   "outputs": [],
   "source": [
    "def block_a_posteriori_bound(T, f,gamma,endpts,w,lmin,lmax, k, B_0):\n",
    "    \"\"\"\n",
    "    (1/2pi) \\oint_{\\Gamma} |f(z)| |D_{k,w,z}| Q_{w,z} |dz|\n",
    "    \"\"\"\n",
    "    Eval, Evec = np.linalg.eigh(T)\n",
    "    def F(t):\n",
    "        z,dz = gamma(t)\n",
    "        \n",
    "        return (1/(2*np.pi)) * np.abs(f(z)) * np.linalg.norm(BM.get_CwinvCz(Eval,Evec,z,w,np.shape(B_0)[0],B_0), ord = 2) * Q_wz(w,z,lmin,lmax) * np.abs(dz)\n",
    "    \n",
    "    integral = sp.integrate.quad(F,endpts[0],endpts[1],epsabs=0,limit=200) \n",
    "    \n",
    "    return integral[0]*np.linalg.norm(exact_err(w, H, V, Q[:, :unit], T[:unit, :unit], B_0), ord = 2)"
   ]
  },
  {
   "cell_type": "code",
   "execution_count": 9,
   "metadata": {},
   "outputs": [],
   "source": [
    "def block_a_posteriori_bound_mid(T, f, gamma, endpts, Q, H, V, B_0):\n",
    "    \"\"\"\n",
    "    (1/2pi) \\oint_{\\Gamma} |f(z)| |D_{k,w,z}| Q_{w,z} |dz|\n",
    "    \"\"\"\n",
    "    \n",
    "    Eval, Evec = np.linalg.eigh(T)\n",
    "    def F(t):\n",
    "        z,dz = gamma(t)\n",
    "        \n",
    "        return (1/(2*np.pi)) * np.linalg.norm(f(z)* exact_err(z, H, V, Q, T, B_0), ord = 2) * np.abs(dz)\n",
    "    \n",
    "    integral = sp.integrate.quad(F,endpts[0],endpts[1],epsabs=0,limit=200)\n",
    "    \n",
    "    return integral[0]"
   ]
  },
  {
   "cell_type": "code",
   "execution_count": 10,
   "metadata": {},
   "outputs": [],
   "source": [
    "def block_a_posteriori_bound_exact(T, f, H, V, Q, B_0, b):\n",
    "    EvalH, EvecH = np.linalg.eigh(H)\n",
    "    fEvalH = f(EvalH)\n",
    "    fH = EvecH@np.diag(fEvalH)@EvecH.conj().T\n",
    "    \n",
    "    fHV = fH@V\n",
    "    \n",
    "    EvalT, EvecT = np.linalg.eigh(T)\n",
    "#     EvalT may be negative, and np.sqrt only let imaginary output when input is complex\n",
    "#     thus, we make first element of EvalT complex first. \n",
    "    EvalT = EvalT.astype(complex)\n",
    "    EvalT[0] = EvalT[0]+0j\n",
    "    \n",
    "    fEvalT = f(EvalT)\n",
    "    fT = EvecT@np.diag(fEvalT)@EvecT.conj().T\n",
    "    \n",
    "    return np.linalg.norm(fHV-(Q@fT)[:, :b]@B_0, ord = 2)"
   ]
  },
  {
   "cell_type": "code",
   "execution_count": 11,
   "metadata": {},
   "outputs": [],
   "source": [
    "# use linear solver as oppose to get inverse\n",
    "def exact_err(z, H, V, Q, T, B_0):\n",
    "    Hinv = 1/(np.diag(H)-z)\n",
    "#     HinvV2 = Hinv*V\n",
    "    \n",
    "#     NOTE: apparently this implementation further tanks performance as its nolonger \"vectorized\".\n",
    "#     Below is the new way of computing HinvV for better compatibility with block size larger than 1.\n",
    "#     Above commented out was the old code that only works with block size 1\n",
    "#     this if statement checks if V is 1d, aka block size = 1. If true, reshape to 2D format for compatibility\n",
    "    this_V = V\n",
    "    if (np.shape(np.shape(this_V))[0] == 1): \n",
    "        this_V = np.reshape(this_V, (len(this_V), 1))\n",
    "        \n",
    "    HinvV = np.zeros(np.shape(this_V),dtype = 'complex_')\n",
    "    for i in np.arange(np.shape(this_V)[1]):\n",
    "        HinvV[:, i] = Hinv*this_V[:, i]\n",
    "    \n",
    "#     due to mismatched shape, we do transpose\n",
    "    HinvV = HinvV.T\n",
    "\n",
    "    E1 = BM.Ei(np.shape(T)[0], np.shape(B_0)[0], 1)\n",
    "    TinvE = np.linalg.solve((T-z*np.eye(T.shape[0])), E1)\n",
    "\n",
    "    return HinvV.T - Q@TinvE@B_0"
   ]
  },
  {
   "cell_type": "code",
   "execution_count": 12,
   "metadata": {},
   "outputs": [],
   "source": [
    "# block_bound = block_a_posteriori_bound(T, f,Gamma,[0,np.pi],w,lmin,lmax, k, B_0)\n",
    "# block_mid = block_a_posteriori_bound_mid(T, f,Gamma,[0,np.pi], Q, H, V, B_0)\n",
    "# print(np.abs(block_bound-block_mid))"
   ]
  },
  {
   "cell_type": "code",
   "execution_count": 13,
   "metadata": {},
   "outputs": [],
   "source": [
    "# block_mid = np.full(K,np.inf)\n",
    "# block_exact = np.full(K,np.inf)\n",
    "# block_bound = np.full(K,np.inf)\n",
    "# breakval = int((K+1)/step)\n",
    "\n",
    "# for k in range(1,int((K+1)/step)):\n",
    "#     k = step*k\n",
    "# #     unit is the number of rows/cols of Q and T to pass to the bound-finding-methods.\n",
    "#     unit = k*b\n",
    "    \n",
    "#     block_mid[int((k-1)/step)] = block_a_posteriori_bound_mid(T[:unit, :unit], f,Gamma,[0,np.pi], Q[:, :unit], H, V, B_0)\n",
    "#     block_exact[int((k-1)/step)] = block_a_posteriori_bound_exact(T[:unit, :unit], f,H, V,Q[:, :unit], B_0, b)\n",
    "#     block_bound[int((k-1)/step)] = block_a_posteriori_bound(T[:unit, :unit], f,Gamma,[0,np.pi],w,lmin,lmax, k, B_0)\n",
    "    \n",
    "# #     stop the algorithm once the error reaches a satisfying level. \n",
    "#     if block_bound[int((k-1)/step)] < thresh:\n",
    "#         breakval = int((k-1)/step)\n",
    "#         break\n",
    "\n",
    "# x = np.linspace(1, K, K)\n",
    "# plt.plot(x*step, np.abs(block_bound), label = \"Actual bound\")\n",
    "# plt.plot(x*step, np.abs(block_mid), label = \"First step bound\")\n",
    "# plt.plot(x*step, np.abs(block_exact), label = \"exact error\")\n",
    "\n",
    "# title = \"Function = \" + funcName + \", contour = \" + contourName + \", b = \" + str(b) + \", w = \" + str(w)\n",
    "# plt.title(title)\n",
    "# plt.yscale('log')\n",
    "# plt.xlabel(\"k\")\n",
    "# plt.ylabel(\"error\")\n",
    "# plt.legend()\n",
    "\n",
    "# if saveFig:\n",
    "#     plt.savefig('figure/' + title + \".png\")\n",
    "# plt.show()"
   ]
  },
  {
   "cell_type": "markdown",
   "metadata": {},
   "source": [
    "# Below is a script that plots a set of plots defined above for a set of different functions."
   ]
  },
  {
   "cell_type": "code",
   "execution_count": 14,
   "metadata": {},
   "outputs": [],
   "source": [
    "# def inverse(x):\n",
    "#     return 1/x\n",
    "# def sqrt(x):\n",
    "#     return np.sqrt(x)\n",
    "# def exponential(x):\n",
    "#     return np.exp(x)\n",
    "\n",
    "# functions = [inverse, sqrt, exponential]\n",
    "# funcNames = [\"inverse\", \"sqrt\", \"exponential\"]\n",
    "# saveFig = True\n",
    "# for b in [1, 2, 4]:\n",
    "#     V = np.random.randn(n,b)\n",
    "    \n",
    "#     Q,Qkp1,A,B,B_0 = BM.block_lanczos(H, V, K, K+1)\n",
    "\n",
    "#     T = BM.get_block_tridiag(A,B)\n",
    "#     EvalT, EvecT = np.linalg.eigh(T)\n",
    "\n",
    "#     for i in np.arange(len(functions)):\n",
    "#         f = functions[i]\n",
    "#         funcName = funcNames[i]\n",
    "    \n",
    "#         block_mid = np.full(K,np.inf)\n",
    "#         block_exact = np.full(K,np.inf)\n",
    "#         block_bound = np.full(K,np.inf)\n",
    "\n",
    "#         for k in range(1,int((K+1)/step)):\n",
    "#             k = step*k\n",
    "#             unit = k*b\n",
    "\n",
    "#             block_mid[int((k-1)/step)] = block_a_posteriori_bound_mid(T[:unit, :unit], f,Gamma,[0,np.pi], Q[:, :unit], H, V, B_0)\n",
    "#             block_exact[int((k-1)/step)] = block_a_posteriori_bound_exact(T[:unit, :unit], f,H, V,Q[:, :unit], B_0, b)\n",
    "#             block_bound[int((k-1)/step)] = block_a_posteriori_bound(T[:unit, :unit], f,Gamma,[0,np.pi],w,lmin,lmax, k, B_0)\n",
    "\n",
    "#             if block_bound[int((k-1)/step)] < thresh:\n",
    "#                 break\n",
    "                \n",
    "#         x = np.linspace(1, K, K)\n",
    "\n",
    "#         plt.plot(x*step, np.abs(block_bound), label = \"Actual bound\")\n",
    "#         plt.plot(x*step, np.abs(block_mid), label = \"First step bound\")\n",
    "#         plt.plot(x*step, np.abs(block_exact), label = \"exact error\")\n",
    "\n",
    "#         title = \"Function = \" + funcName + \", contour = \" + contourName + \", b = \" + str(b) + \", w = \" + str(w)\n",
    "#         plt.title(title)\n",
    "#         plt.yscale('log')\n",
    "#         plt.xlabel(\"k\")\n",
    "#         plt.ylabel(\"error\")\n",
    "#         plt.legend()\n",
    "\n",
    "#         if saveFig:\n",
    "#             plt.savefig('figure/' + title + \".png\")\n",
    "#         plt.clf()"
   ]
  },
  {
   "cell_type": "markdown",
   "metadata": {},
   "source": [
    "# Below is a script that (after fixing) finds the bests w values given a contour."
   ]
  },
  {
   "cell_type": "code",
   "execution_count": 15,
   "metadata": {},
   "outputs": [],
   "source": [
    "# # To be optimized\n",
    "# def Hwz(w, z, H):\n",
    "#     Hw = H - w*np.identity(np.shape(H)[0])\n",
    "#     Hz = H - z*np.identity(np.shape(H)[0])\n",
    "#     return Hw@np.inv(Hz)"
   ]
  },
  {
   "cell_type": "code",
   "execution_count": 16,
   "metadata": {},
   "outputs": [],
   "source": [
    "# # w plane\n",
    "# x =  np.linspace(lmin-2, lmax+2, 20)\n",
    "# y =  np.linspace(-2, +2, 20)\n",
    "# X, Y = np.meshgrid(x, y)"
   ]
  },
  {
   "cell_type": "code",
   "execution_count": 17,
   "metadata": {},
   "outputs": [],
   "source": [
    "# w = np.zeros((len(x), len(y)))\n",
    "# for m in range(len(x)):\n",
    "#     for n in range(len(y)):\n",
    "#         clear_output(wait=True)\n",
    "#         this_w = x[m]+y[n]*1j\n",
    "\n",
    "#         w[m, n] = Hwz(this_w, z, H)\n",
    "#         w[m, n] /= Q_wz(this_w,z,lmin,lmax)\n",
    "        \n",
    "# #         progress indication\n",
    "#         print(str(len(x)*m+n+1) + \"/\" + str(len(x)*len(y)))"
   ]
  },
  {
   "cell_type": "code",
   "execution_count": 18,
   "metadata": {},
   "outputs": [],
   "source": [
    "# fig,ax=plt.subplots(1,1)\n",
    "# cp = ax.contourf(X, Y, w)\n",
    "# fig.colorbar(cp)"
   ]
  },
  {
   "cell_type": "markdown",
   "metadata": {},
   "source": [
    "# Below is the script that may suggest how to choose a contour given w."
   ]
  },
  {
   "cell_type": "code",
   "execution_count": 19,
   "metadata": {},
   "outputs": [],
   "source": [
    "w = 0\n",
    "\n",
    "# z plane\n",
    "# maybe have grid change with w?\n",
    "x =  np.linspace(lmin-2, lmax+2, 20)\n",
    "y =  np.linspace(-2, +2, 20)\n",
    "X, Y = np.meshgrid(x, y)"
   ]
  },
  {
   "cell_type": "code",
   "execution_count": 20,
   "metadata": {},
   "outputs": [
    {
     "name": "stdout",
     "output_type": "stream",
     "text": [
      "400/400\n"
     ]
    }
   ],
   "source": [
    "z = np.zeros((len(x), len(y)), dtype = \"complex\")\n",
    "for m in range(len(x)):\n",
    "    for n in range(len(y)):\n",
    "        clear_output(wait=True)\n",
    "        this_z = x[m]+y[n]*1j\n",
    "        \n",
    "        z[m, n] = np.abs(f(this_z)) * np.linalg.norm(BM.get_CwinvCz(EvalT,EvecT,this_z,w,np.shape(B_0)[0],B_0), ord = 2) * Q_wz(w,this_z,lmin,lmax)*np.linalg.norm(exact_err(w, H, V, Q, T, B_0), ord = 2)\n",
    "        z[m, n] /= np.linalg.norm(f(this_z)* exact_err(this_z, H, V, Q, T, B_0), ord = 2)\n",
    "        \n",
    "#         progress indication\n",
    "        print(str(len(x)*m+n+1) + \"/\" + str(len(x)*len(y)))"
   ]
  },
  {
   "cell_type": "code",
   "execution_count": 21,
   "metadata": {},
   "outputs": [
    {
     "data": {
      "text/plain": [
       "<matplotlib.colorbar.Colorbar at 0x153e78b33e48>"
      ]
     },
     "execution_count": 21,
     "metadata": {},
     "output_type": "execute_result"
    },
    {
     "data": {
      "image/png": "[encoded data removed]",
      "text/plain": [
       "<Figure size 432x288 with 2 Axes>"
      ]
     },
     "metadata": {},
     "output_type": "display_data"
    }
   ],
   "source": [
    "fig,ax=plt.subplots(1,1)\n",
    "cp = ax.contourf(X, Y, z)\n",
    "rim = ax.contour(X, Y, z, colors = 'black')\n",
    "# ax.clabel(rim, rim.levels, inline=True, fontsize=10)\n",
    "fig.colorbar(cp)"
   ]
  },
  {
   "cell_type": "code",
   "execution_count": 22,
   "metadata": {},
   "outputs": [],
   "source": [
    "# errors = np.zeros(14)\n",
    "# for b in [2, 4]:\n",
    "#     V = np.random.randn(n,b)\n",
    "    \n",
    "#     Q,Qkp1,A,B,B_0 = BM.block_lanczos(H, V, K, K+1)\n",
    "\n",
    "#     T = BM.get_block_tridiag(A,B)\n",
    "#     EvalT, EvecT = np.linalg.eigh(T)\n",
    "    \n",
    "#     Toriginal = T\n",
    "\n",
    "#     for i in np.arange(len(ws)):\n",
    "#         w = ws[i]\n",
    "    \n",
    "#         print(\"Function = \" + funcName + \", contour = \" + contourName + \", b = \" + str(b) + \", w = \" + str(w))\n",
    "    \n",
    "#         block_mid = np.full(K,np.inf)\n",
    "#         block_exact = np.full(K,np.inf)\n",
    "#         block_bound = np.full(K,np.inf)\n",
    "#         breakval = int((K+1)/step)\n",
    "\n",
    "#         for k in range(1,int((K+1)/step)):\n",
    "#             k = step*k\n",
    "#         #     unit is the number of rows/cols of Q and T to pass to the bound-finding-methods.\n",
    "#             unit = k*b\n",
    "\n",
    "#             block_mid[int((k-1)/step)] = block_a_posteriori_bound_mid(T[:unit, :unit], f, Gamma,[0,np.pi], Q[:, :unit], H, V, B_0)\n",
    "#             block_exact[int((k-1)/step)] = block_a_posteriori_bound_exact(T[:unit, :unit], f, H, V, Q[:, :unit], B_0, b)\n",
    "#             block_bound[int((k-1)/step)] = block_a_posteriori_bound(T[:unit, :unit], f, Gamma, [0,np.pi], w, lmin, lmax, k, B_0)\n",
    "\n",
    "#         #     stop the algorithm once the error reaches a satisfying level. \n",
    "#             if block_bound[int((k-1)/step)] < thresh:\n",
    "#                 breakval = int((k-1)/step)\n",
    "#                 break\n",
    "                \n",
    "#         print(np.abs(np.mean((block_mid-block_bound)[:breakval])))\n",
    "#         errors[i] = np.abs(np.mean(((block_mid-block_bound)/block_bound)[:breakval]))"
   ]
  },
  {
   "cell_type": "code",
   "execution_count": null,
   "metadata": {},
   "outputs": [],
   "source": []
  }
 ],
 "metadata": {
  "kernelspec": {
   "display_name": "Python 3",
   "language": "python",
   "name": "python3"
  },
  "language_info": {
   "codemirror_mode": {
    "name": "ipython",
    "version": 3
   },
   "file_extension": ".py",
   "mimetype": "text/x-python",
   "name": "python",
   "nbconvert_exporter": "python",
   "pygments_lexer": "ipython3",
   "version": "3.6.5"
  }
 },
 "nbformat": 4,
 "nbformat_minor": 5
}
