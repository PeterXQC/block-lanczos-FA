{
 "cells": [
  {
   "cell_type": "code",
   "execution_count": 1,
   "id": "3c8a52a9",
   "metadata": {
    "scrolled": true
   },
   "outputs": [],
   "source": [
    "import block_methods as BM\n",
    "\n",
    "from Lanczos_FA.lanczos_bin import *\n",
    "\n",
    "import numpy as np\n",
    "import scipy as sp\n",
    "import matplotlib.pyplot as plt\n",
    "from scipy import integrate\n",
    "plt.rcParams[\"figure.figsize\"] = (16,9)"
   ]
  },
  {
   "cell_type": "code",
   "execution_count": 2,
   "id": "c6ee9ce6",
   "metadata": {},
   "outputs": [],
   "source": [
    "n = 1000\n",
    "bsize = 2\n",
    "w = 0\n",
    "step = 10\n",
    "K = 3\n",
    "lam = np.linspace(1e-2,1e2,n)\n",
    "\n",
    "A = np.diag(lam)\n",
    "\n",
    "b = np.ones((n, bsize))\n",
    "b /= np.linalg.norm(b)"
   ]
  },
  {
   "cell_type": "code",
   "execution_count": 3,
   "id": "48e19c13",
   "metadata": {},
   "outputs": [],
   "source": [
    "lmin = np.min(lam).astype(np.double)\n",
    "lmax = np.max(lam).astype(np.double)\n",
    "kappa = lmax / lmin\n",
    "\n",
    "lmin_ = lmin/2\n",
    "lmax_ = 2*lmax\n",
    "\n",
    "# norm to measure function approximation and linear system errors\n",
    "B = lam\n",
    "\n",
    "\n",
    "Q, Qkp1, a_, b_ = BM.block_lanczos(A, b, K, K+1)\n",
    "\n",
    "T = BM.get_block_tridiag(a_, b_[1:])\n",
    "\n",
    "B_0 = b_[0]\n",
    "\n",
    "# e1 = np.zeros(K+1)\n",
    "# e1[0] = 1"
   ]
  },
  {
   "cell_type": "code",
   "execution_count": 4,
   "id": "16be4ff9",
   "metadata": {
    "scrolled": true
   },
   "outputs": [],
   "source": [
    "def Gamma(t):\n",
    "    radius = lmax_ - lmin_/100\n",
    "\n",
    "    z = radius*np.exp(1j*t)+lmax_\n",
    "    dz = radius*1j*np.exp(1j*t)\n",
    "    \n",
    "    return z,dz\n",
    "\n",
    "def f(x):\n",
    "    return np.sqrt(x)"
   ]
  },
  {
   "cell_type": "code",
   "execution_count": 5,
   "id": "488b48ce",
   "metadata": {},
   "outputs": [],
   "source": [
    "# def get_a_posteriori_bound(f,gamma,endpts,a_,b_,w,lmin,lmax):\n",
    "#     \"\"\"\n",
    "#     (1/2pi) \\oint_{\\Gamma} |f(z)| |D_{k,w,z}| Q_{w,z} |dz|\n",
    "#     \"\"\"\n",
    "    \n",
    "#     theta = sp.linalg.eigvalsh_tridiagonal(a_,b_,tol=1e-30)\n",
    "\n",
    "#     def F(t):\n",
    "#         z,dz = gamma(t)\n",
    "        \n",
    "#         return (1/(2*np.pi)) * np.abs(f(z)) * np.abs(np.prod((theta-w)/(theta-z))) * Q_wz(w,z,lmin,lmax) * np.abs(dz)\n",
    "    \n",
    "#     integral = sp.integrate.quad(F,endpts[0],endpts[1],epsabs=0,limit=200) \n",
    "    \n",
    "#     return integral\n",
    "\n",
    "# this deals with h_wz\n",
    "def Q_wz(w,z,lmin,lmax):\n",
    "    \"\"\"\n",
    "    max_{x\\in[lmin,lmax]} |x-w|/|z-w|\n",
    "    \"\"\"\n",
    "    \n",
    "    if np.real(z) - w != 0:\n",
    "        b_hat = ( np.abs(z)**2 - np.real(z)*w ) / (np.real(z) - w)\n",
    "    else:\n",
    "        b_hat = np.inf\n",
    "    \n",
    "    if lmin < b_hat <= lmax:\n",
    "        return np.abs((z-w)/np.imag(z))\n",
    "    else:\n",
    "        return np.max([np.abs((lmax-w)/(lmax-z)), np.abs((lmin-w)/(lmin-z))])"
   ]
  },
  {
   "cell_type": "code",
   "execution_count": 6,
   "id": "df8182bd",
   "metadata": {},
   "outputs": [],
   "source": [
    "def get_cwinvcz(Eval, Evec, z, w, itr, b, B_0):\n",
    "    Dzinv = np.diag(1/(Eval-z))\n",
    "    Dwinv = np.diag(1/(Eval-w))\n",
    "        \n",
    "    if b == 1:\n",
    "        Cz = Evec@Dzinv@Evec.T@BM.Ei(itr, b, 1)*B_0\n",
    "        Cwinv = np.linalg.solve(-BM.Ei(itr, b, itr).T@Evec@Dwinv@Evec.T@BM.Ei(itr, b, 1)*B_0, -BM.Ei(itr, b, itr).T)\n",
    "    else:\n",
    "        Cz = Evec@Dzinv@Evec.T@BM.Ei(itr, b, 1)@B_0\n",
    "        Cwinv = np.linalg.solve(-BM.Ei(itr, b, itr//b).T@Evec@Dwinv@Evec.T@BM.Ei(itr, b, 1)@B_0, -BM.Ei(itr, b, itr//b).T)\n",
    "    \n",
    "    return Cwinv@Cz\n",
    "\n",
    "\n",
    "def block_a_posteriori_bound(T, f,gamma,endpts,w,lmin,lmax, itr, B_0):\n",
    "    \"\"\"\n",
    "    (1/2pi) \\oint_{\\Gamma} |f(z)| |D_{k,w,z}| Q_{w,z} |dz|\n",
    "    \"\"\"\n",
    "    Eval, Evec = np.linalg.eigh(T)\n",
    "    def F(t):\n",
    "        z,dz = gamma(t)\n",
    "        \n",
    "        return (1/(2*np.pi)) * np.abs(f(z)) * np.linalg.norm(get_cwinvcz(Eval, Evec, z, w, itr, np.shape(B_0)[0], B_0)) * Q_wz(w,z,lmin,lmax) * np.abs(dz)\n",
    "    \n",
    "    integral = sp.integrate.quad(F,endpts[0],endpts[1],epsabs=0,limit=200) \n",
    "    \n",
    "    return integral"
   ]
  },
  {
   "cell_type": "code",
   "execution_count": 7,
   "id": "a0f556f4",
   "metadata": {},
   "outputs": [],
   "source": [
    "# def comparison(w, z, a_, b_, itr, B_0):\n",
    "#     T = np.diag(a_.astype(np.double)) + np.diag(b_.astype(np.double), 1) + np.diag(b_.astype(np.double), -1)\n",
    "#     Eval, Evec = np.linalg.eigh(T)\n",
    "    \n",
    "#     theta = sp.linalg.eigvalsh_tridiagonal(a_,b_,tol=1e-30)\n",
    "    \n",
    "#     return (np.abs(np.linalg.norm(get_cwinvcz(Eval, Evec, z, w, itr, 1, B_0)) - np.abs(np.prod((theta-w)/(theta-z)))), np.linalg.norm(get_cwinvcz(Eval, Evec, z, w, itr, 1, B_0)))"
   ]
  },
  {
   "cell_type": "code",
   "execution_count": 8,
   "id": "d01b72f5",
   "metadata": {},
   "outputs": [],
   "source": [
    "# term_error = np.full(K,np.inf)\n",
    "# term = np.full(K,np.inf)\n",
    "# block_bound = np.full(K,np.inf)\n",
    "# old_bound = np.full(K,np.inf)\n",
    "\n",
    "\n",
    "# for k in range(1,int((K+1)/step)):\n",
    "#     B_0 = 1\n",
    "#     k = step*k\n",
    "#     term_error[int((k-1)/step)] = comparison(w, 1, a_[:k], b_[:k-1], k, B_0)[0]\n",
    "#     term[int((k-1)/step)] = comparison(w, 1, a_[:k], b_[:k-1], k, B_0)[1]\n",
    "#     block_bound[int((k-1)/step)] = block_a_posteriori_bound(f,Gamma,[0,np.pi],a_[:k],b_[:k-1],w,lmin_,lmax_, k, 1, B_0)[0]\n",
    "#     old_bound[int((k-1)/step)] = get_a_posteriori_bound(f,Gamma,[0,np.pi],a_[:k],b_[:k-1],w,lmin_,lmax_)[0]"
   ]
  },
  {
   "cell_type": "code",
   "execution_count": 9,
   "id": "1333b655",
   "metadata": {},
   "outputs": [],
   "source": [
    "# x = np.linspace(1, K, 200)\n",
    "# # plt.plot(x, a_posteriori_bound_circle_approx_spectrum, c='red')\n",
    "# # plt.plot(x, compare, c='green')\n",
    "# plt.plot(x*step, np.abs(block_bound-old_bound), label = \"Total absolute difference\")\n",
    "# plt.plot(x*step, np.abs(block_bound-old_bound)/block_bound, label = \"Total relative difference\")\n",
    "# plt.plot(x*step, term_error, label = \"New term absolute difference\")\n",
    "# plt.plot(x*step, term_error/term, label = \"New term relative difference\")\n",
    "# plt.yscale('log')\n",
    "# plt.xlabel(\"k\")\n",
    "# plt.ylabel(\"error\")\n",
    "# plt.legend()\n",
    "# plt.show"
   ]
  },
  {
   "cell_type": "code",
   "execution_count": 10,
   "id": "249fc82e",
   "metadata": {},
   "outputs": [],
   "source": [
    "def block_a_posteriori_bound_mid(T, f, gamma, endpts, Q, A, b, B_0):\n",
    "    \"\"\"\n",
    "    (1/2pi) \\oint_{\\Gamma} |f(z)| |D_{k,w,z}| Q_{w,z} |dz|\n",
    "    \"\"\"\n",
    "    \n",
    "    Eval, Evec = np.linalg.eigh(T)\n",
    "    def F(t):\n",
    "        z,dz = gamma(t)\n",
    "        \n",
    "        return (1/(2*np.pi)) * np.linalg.norm(f(z)* exact_err(z, A, b, Q, T, B_0)) * np.abs(dz)\n",
    "    \n",
    "    integral = sp.integrate.quad(F,endpts[0],endpts[1],epsabs=0,limit=200)\n",
    "    \n",
    "    return integral"
   ]
  },
  {
   "cell_type": "code",
   "execution_count": 11,
   "id": "b796a92e",
   "metadata": {},
   "outputs": [],
   "source": [
    "def block_a_posteriori_bound_exact(T, f, H, V, Q, B_0, bsize):\n",
    "    EvalH, EvecH = np.linalg.eigh(H)\n",
    "    fEvalH = f(EvalH)\n",
    "    fH = EvecH@np.diag(fEvalH)@EvecH.conj().T\n",
    "    \n",
    "    EvalT, EvecT = np.linalg.eigh(T)\n",
    "#     EvalT may be negative, and np.sqrt only let imaginary output when input is complex\n",
    "#     thus, we make first element of EvalT complex first. \n",
    "    EvalT = EvalT.astype(complex)\n",
    "    EvalT[0] = EvalT[0]+0j\n",
    "    \n",
    "    fEvalT = f(EvalT)\n",
    "    fT = EvecT@np.diag(fEvalT)@EvecT.conj().T\n",
    "    \n",
    "#     changed the line below, was:\n",
    "#   return np.linalg.norm(fH@V-(Q@fT)[:, 0]@B_0)\n",
    "#   reason: should keep the first column of block, as opposed to first col.\n",
    "    return np.linalg.norm(np.reshape(fH@V, (n, bsize)).T-((Q@fT)[:, :bsize]@B_0).T)"
   ]
  },
  {
   "cell_type": "code",
   "execution_count": 12,
   "id": "001ed48a",
   "metadata": {},
   "outputs": [],
   "source": [
    "# use linear solver as oppose to get inverse\n",
    "def exact_err(z, H, V, Q, T, B_0):\n",
    "    Hinv = 1/(np.diag(H)-z)\n",
    "#     HinvV2 = Hinv*V\n",
    "    \n",
    "#     NOTE: apparently this implementation further tanks performance as its nolonger \"vectorized\".\n",
    "#     Below is the new way of computing HinvV for better compatibility with block size larger than 1.\n",
    "#     Above commented out was the old code that only works with block size 1\n",
    "#     this if statement checks if V is 1d, aka block size = 1. If true, reshape to 2D format for compatibility\n",
    "    if (np.shape(np.shape(V))[0] == 1): \n",
    "        V = np.reshape(V, (len(V), 1))\n",
    "        \n",
    "    HinvV = np.zeros(np.shape(V),dtype = 'complex_')\n",
    "    for i in np.arange(np.shape(V)[1]):\n",
    "        HinvV[:, i] = Hinv*V[:, i]\n",
    "    \n",
    "#     due to mismatched shape, we do transpose\n",
    "    HinvV = HinvV.T\n",
    "    \n",
    "#     print(np.linalg.norm(HinvV-HinvV2))\n",
    "\n",
    "    E1 = BM.Ei(np.shape(T)[0], np.shape(B_0)[0], 1)`\n",
    "#     E1_array = np.reshape(E1, len(E1))\n",
    "    TinvE = np.linalg.solve((T-z*np.eye(T.shape[0])), E1)\n",
    "#     This line below is changed\n",
    "    return HinvV.T - Q@TinvE@B_0"
   ]
  },
  {
   "cell_type": "code",
   "execution_count": 13,
   "id": "07c6af8f",
   "metadata": {},
   "outputs": [],
   "source": [
    "# k = 60\n",
    "# TinvE = np.linalg.solve((T[:, :k]-z*np.eye(T.shape[0])), E1_array)\n",
    "# Q@TinvE"
   ]
  },
  {
   "cell_type": "code",
   "execution_count": 14,
   "id": "71eeeefe",
   "metadata": {},
   "outputs": [],
   "source": [
    "def res(H, V, z, Q, T, B_0):\n",
    "    HzI = H-z*np.eye(H.shape[0])\n",
    "    return HzI@exact_err(z, H, V, Q, T, B_0)"
   ]
  },
  {
   "cell_type": "code",
   "execution_count": 15,
   "id": "eae5b15e",
   "metadata": {},
   "outputs": [],
   "source": [
    "z = 1\n",
    "w = 2\n",
    "resz = res(A, b, z, Q, T, B_0)\n",
    "Eval, Evec = np.linalg.eigh(T)\n",
    "compare = res(A, b, w, Q, T, B_0)@get_cwinvcz(Eval, Evec, z, w, K*bsize, bsize, B_0)"
   ]
  },
  {
   "cell_type": "code",
   "execution_count": 16,
   "id": "7393a3ce",
   "metadata": {},
   "outputs": [
    {
     "data": {
      "text/plain": [
       "0.459939685164267"
      ]
     },
     "execution_count": 16,
     "metadata": {},
     "output_type": "execute_result"
    }
   ],
   "source": [
    "np.linalg.norm(compare-resz)"
   ]
  },
  {
   "cell_type": "code",
   "execution_count": 17,
   "id": "3cfb2ac5",
   "metadata": {},
   "outputs": [
    {
     "data": {
      "text/plain": [
       "1.0859156410954267"
      ]
     },
     "execution_count": 17,
     "metadata": {},
     "output_type": "execute_result"
    }
   ],
   "source": [
    "np.linalg.norm(compare-resz)/np.linalg.norm(resz)"
   ]
  },
  {
   "cell_type": "code",
   "execution_count": 18,
   "id": "9a4002dd",
   "metadata": {},
   "outputs": [],
   "source": [
    "block_mid = np.full(K,np.inf)\n",
    "block_exact = np.full(K,np.inf)\n",
    "block_bound = np.full(K,np.inf)\n",
    "\n",
    "for k in range(1,int((K+1)/step)):\n",
    "    k = step*k\n",
    "    block_mid[int((k-1)/step)] = block_a_posteriori_bound_mid(T[:k, :k], f,Gamma,[0,np.pi], Q[:, :k], A, b.astype(np.double), B_0)[0]\n",
    "    block_exact[int((k-1)/step)] = block_a_posteriori_bound_exact(T[:k, :k], f,A.astype(np.double), b.astype(np.double),Q[:, :k], B_0, bsize)\n",
    "    block_bound[int((k-1)/step)] = block_a_posteriori_bound(T[:k, :k], f,Gamma,[0,np.pi],w,lmin_,lmax_, k, B_0)[0]"
   ]
  },
  {
   "cell_type": "code",
   "execution_count": 19,
   "id": "d55451ad",
   "metadata": {},
   "outputs": [],
   "source": [
    "full_block_bound = np.full(K,np.inf)\n",
    "\n",
    "for k in range(1,int((K+1)/step)):\n",
    "    k = step*k\n",
    "    full_block_bound[int((k-1)/step)] = block_bound[int((k-1)/step)]*np.linalg.norm(exact_err(w, A, b, Q[:, :k], T[:k, :k], B_0))"
   ]
  },
  {
   "cell_type": "code",
   "execution_count": 20,
   "id": "ed3f342a",
   "metadata": {},
   "outputs": [
    {
     "ename": "ValueError",
     "evalue": "x and y must have same first dimension, but have shapes (200,) and (3,)",
     "output_type": "error",
     "traceback": [
      "\u001b[1;31m---------------------------------------------------------------------------\u001b[0m",
      "\u001b[1;31mValueError\u001b[0m                                Traceback (most recent call last)",
      "Input \u001b[1;32mIn [20]\u001b[0m, in \u001b[0;36m<cell line: 3>\u001b[1;34m()\u001b[0m\n\u001b[0;32m      1\u001b[0m x \u001b[38;5;241m=\u001b[39m np\u001b[38;5;241m.\u001b[39mlinspace(\u001b[38;5;241m1\u001b[39m, K, \u001b[38;5;241m200\u001b[39m)\n\u001b[1;32m----> 3\u001b[0m \u001b[43mplt\u001b[49m\u001b[38;5;241;43m.\u001b[39;49m\u001b[43mplot\u001b[49m\u001b[43m(\u001b[49m\u001b[43mx\u001b[49m\u001b[38;5;241;43m*\u001b[39;49m\u001b[43mstep\u001b[49m\u001b[43m,\u001b[49m\u001b[43m \u001b[49m\u001b[43mnp\u001b[49m\u001b[38;5;241;43m.\u001b[39;49m\u001b[43mabs\u001b[49m\u001b[43m(\u001b[49m\u001b[43mfull_block_bound\u001b[49m\u001b[43m)\u001b[49m\u001b[43m,\u001b[49m\u001b[43m \u001b[49m\u001b[43mlabel\u001b[49m\u001b[43m \u001b[49m\u001b[38;5;241;43m=\u001b[39;49m\u001b[43m \u001b[49m\u001b[38;5;124;43m\"\u001b[39;49m\u001b[38;5;124;43mActual bound\u001b[39;49m\u001b[38;5;124;43m\"\u001b[39;49m\u001b[43m)\u001b[49m\n\u001b[0;32m      4\u001b[0m plt\u001b[38;5;241m.\u001b[39mplot(x\u001b[38;5;241m*\u001b[39mstep, np\u001b[38;5;241m.\u001b[39mabs(block_mid), label \u001b[38;5;241m=\u001b[39m \u001b[38;5;124m\"\u001b[39m\u001b[38;5;124mFirst step bound\u001b[39m\u001b[38;5;124m\"\u001b[39m)\n\u001b[0;32m      5\u001b[0m plt\u001b[38;5;241m.\u001b[39mplot(x\u001b[38;5;241m*\u001b[39mstep, np\u001b[38;5;241m.\u001b[39mabs(block_exact), label \u001b[38;5;241m=\u001b[39m \u001b[38;5;124m\"\u001b[39m\u001b[38;5;124mexact error\u001b[39m\u001b[38;5;124m\"\u001b[39m)\n",
      "File \u001b[1;32m~\\anaconda3\\lib\\site-packages\\matplotlib\\pyplot.py:2757\u001b[0m, in \u001b[0;36mplot\u001b[1;34m(scalex, scaley, data, *args, **kwargs)\u001b[0m\n\u001b[0;32m   2755\u001b[0m \u001b[38;5;129m@_copy_docstring_and_deprecators\u001b[39m(Axes\u001b[38;5;241m.\u001b[39mplot)\n\u001b[0;32m   2756\u001b[0m \u001b[38;5;28;01mdef\u001b[39;00m \u001b[38;5;21mplot\u001b[39m(\u001b[38;5;241m*\u001b[39margs, scalex\u001b[38;5;241m=\u001b[39m\u001b[38;5;28;01mTrue\u001b[39;00m, scaley\u001b[38;5;241m=\u001b[39m\u001b[38;5;28;01mTrue\u001b[39;00m, data\u001b[38;5;241m=\u001b[39m\u001b[38;5;28;01mNone\u001b[39;00m, \u001b[38;5;241m*\u001b[39m\u001b[38;5;241m*\u001b[39mkwargs):\n\u001b[1;32m-> 2757\u001b[0m     \u001b[38;5;28;01mreturn\u001b[39;00m gca()\u001b[38;5;241m.\u001b[39mplot(\n\u001b[0;32m   2758\u001b[0m         \u001b[38;5;241m*\u001b[39margs, scalex\u001b[38;5;241m=\u001b[39mscalex, scaley\u001b[38;5;241m=\u001b[39mscaley,\n\u001b[0;32m   2759\u001b[0m         \u001b[38;5;241m*\u001b[39m\u001b[38;5;241m*\u001b[39m({\u001b[38;5;124m\"\u001b[39m\u001b[38;5;124mdata\u001b[39m\u001b[38;5;124m\"\u001b[39m: data} \u001b[38;5;28;01mif\u001b[39;00m data \u001b[38;5;129;01mis\u001b[39;00m \u001b[38;5;129;01mnot\u001b[39;00m \u001b[38;5;28;01mNone\u001b[39;00m \u001b[38;5;28;01melse\u001b[39;00m {}), \u001b[38;5;241m*\u001b[39m\u001b[38;5;241m*\u001b[39mkwargs)\n",
      "File \u001b[1;32m~\\anaconda3\\lib\\site-packages\\matplotlib\\axes\\_axes.py:1632\u001b[0m, in \u001b[0;36mAxes.plot\u001b[1;34m(self, scalex, scaley, data, *args, **kwargs)\u001b[0m\n\u001b[0;32m   1390\u001b[0m \u001b[38;5;124;03m\"\"\"\u001b[39;00m\n\u001b[0;32m   1391\u001b[0m \u001b[38;5;124;03mPlot y versus x as lines and/or markers.\u001b[39;00m\n\u001b[0;32m   1392\u001b[0m \n\u001b[1;32m   (...)\u001b[0m\n\u001b[0;32m   1629\u001b[0m \u001b[38;5;124;03m(``'green'``) or hex strings (``'#008000'``).\u001b[39;00m\n\u001b[0;32m   1630\u001b[0m \u001b[38;5;124;03m\"\"\"\u001b[39;00m\n\u001b[0;32m   1631\u001b[0m kwargs \u001b[38;5;241m=\u001b[39m cbook\u001b[38;5;241m.\u001b[39mnormalize_kwargs(kwargs, mlines\u001b[38;5;241m.\u001b[39mLine2D)\n\u001b[1;32m-> 1632\u001b[0m lines \u001b[38;5;241m=\u001b[39m [\u001b[38;5;241m*\u001b[39m\u001b[38;5;28mself\u001b[39m\u001b[38;5;241m.\u001b[39m_get_lines(\u001b[38;5;241m*\u001b[39margs, data\u001b[38;5;241m=\u001b[39mdata, \u001b[38;5;241m*\u001b[39m\u001b[38;5;241m*\u001b[39mkwargs)]\n\u001b[0;32m   1633\u001b[0m \u001b[38;5;28;01mfor\u001b[39;00m line \u001b[38;5;129;01min\u001b[39;00m lines:\n\u001b[0;32m   1634\u001b[0m     \u001b[38;5;28mself\u001b[39m\u001b[38;5;241m.\u001b[39madd_line(line)\n",
      "File \u001b[1;32m~\\anaconda3\\lib\\site-packages\\matplotlib\\axes\\_base.py:312\u001b[0m, in \u001b[0;36m_process_plot_var_args.__call__\u001b[1;34m(self, data, *args, **kwargs)\u001b[0m\n\u001b[0;32m    310\u001b[0m     this \u001b[38;5;241m+\u001b[39m\u001b[38;5;241m=\u001b[39m args[\u001b[38;5;241m0\u001b[39m],\n\u001b[0;32m    311\u001b[0m     args \u001b[38;5;241m=\u001b[39m args[\u001b[38;5;241m1\u001b[39m:]\n\u001b[1;32m--> 312\u001b[0m \u001b[38;5;28;01myield from\u001b[39;00m \u001b[38;5;28;43mself\u001b[39;49m\u001b[38;5;241;43m.\u001b[39;49m\u001b[43m_plot_args\u001b[49m\u001b[43m(\u001b[49m\u001b[43mthis\u001b[49m\u001b[43m,\u001b[49m\u001b[43m \u001b[49m\u001b[43mkwargs\u001b[49m\u001b[43m)\u001b[49m\n",
      "File \u001b[1;32m~\\anaconda3\\lib\\site-packages\\matplotlib\\axes\\_base.py:498\u001b[0m, in \u001b[0;36m_process_plot_var_args._plot_args\u001b[1;34m(self, tup, kwargs, return_kwargs)\u001b[0m\n\u001b[0;32m    495\u001b[0m     \u001b[38;5;28mself\u001b[39m\u001b[38;5;241m.\u001b[39maxes\u001b[38;5;241m.\u001b[39myaxis\u001b[38;5;241m.\u001b[39mupdate_units(y)\n\u001b[0;32m    497\u001b[0m \u001b[38;5;28;01mif\u001b[39;00m x\u001b[38;5;241m.\u001b[39mshape[\u001b[38;5;241m0\u001b[39m] \u001b[38;5;241m!=\u001b[39m y\u001b[38;5;241m.\u001b[39mshape[\u001b[38;5;241m0\u001b[39m]:\n\u001b[1;32m--> 498\u001b[0m     \u001b[38;5;28;01mraise\u001b[39;00m \u001b[38;5;167;01mValueError\u001b[39;00m(\u001b[38;5;124mf\u001b[39m\u001b[38;5;124m\"\u001b[39m\u001b[38;5;124mx and y must have same first dimension, but \u001b[39m\u001b[38;5;124m\"\u001b[39m\n\u001b[0;32m    499\u001b[0m                      \u001b[38;5;124mf\u001b[39m\u001b[38;5;124m\"\u001b[39m\u001b[38;5;124mhave shapes \u001b[39m\u001b[38;5;132;01m{\u001b[39;00mx\u001b[38;5;241m.\u001b[39mshape\u001b[38;5;132;01m}\u001b[39;00m\u001b[38;5;124m and \u001b[39m\u001b[38;5;132;01m{\u001b[39;00my\u001b[38;5;241m.\u001b[39mshape\u001b[38;5;132;01m}\u001b[39;00m\u001b[38;5;124m\"\u001b[39m)\n\u001b[0;32m    500\u001b[0m \u001b[38;5;28;01mif\u001b[39;00m x\u001b[38;5;241m.\u001b[39mndim \u001b[38;5;241m>\u001b[39m \u001b[38;5;241m2\u001b[39m \u001b[38;5;129;01mor\u001b[39;00m y\u001b[38;5;241m.\u001b[39mndim \u001b[38;5;241m>\u001b[39m \u001b[38;5;241m2\u001b[39m:\n\u001b[0;32m    501\u001b[0m     \u001b[38;5;28;01mraise\u001b[39;00m \u001b[38;5;167;01mValueError\u001b[39;00m(\u001b[38;5;124mf\u001b[39m\u001b[38;5;124m\"\u001b[39m\u001b[38;5;124mx and y can be no greater than 2D, but have \u001b[39m\u001b[38;5;124m\"\u001b[39m\n\u001b[0;32m    502\u001b[0m                      \u001b[38;5;124mf\u001b[39m\u001b[38;5;124m\"\u001b[39m\u001b[38;5;124mshapes \u001b[39m\u001b[38;5;132;01m{\u001b[39;00mx\u001b[38;5;241m.\u001b[39mshape\u001b[38;5;132;01m}\u001b[39;00m\u001b[38;5;124m and \u001b[39m\u001b[38;5;132;01m{\u001b[39;00my\u001b[38;5;241m.\u001b[39mshape\u001b[38;5;132;01m}\u001b[39;00m\u001b[38;5;124m\"\u001b[39m)\n",
      "\u001b[1;31mValueError\u001b[0m: x and y must have same first dimension, but have shapes (200,) and (3,)"
     ]
    },
    {
     "data": {
      "image/png": "[encoded data removed]",
      "text/plain": [
       "<Figure size 1152x648 with 1 Axes>"
      ]
     },
     "metadata": {
      "needs_background": "light"
     },
     "output_type": "display_data"
    }
   ],
   "source": [
    "x = np.linspace(1, K, 200)\n",
    "\n",
    "plt.plot(x*step, np.abs(full_block_bound), label = \"Actual bound\")\n",
    "plt.plot(x*step, np.abs(block_mid), label = \"First step bound\")\n",
    "plt.plot(x*step, np.abs(block_exact), label = \"exact error\")\n",
    "\n",
    "\n",
    "plt.yscale('log')\n",
    "plt.xlabel(\"k\")\n",
    "plt.ylabel(\"error\")\n",
    "plt.legend()\n",
    "plt.show"
   ]
  },
  {
   "cell_type": "code",
   "execution_count": null,
   "id": "84f52a12",
   "metadata": {},
   "outputs": [],
   "source": [
    "b.shape"
   ]
  },
  {
   "cell_type": "code",
   "execution_count": null,
   "id": "21d89703",
   "metadata": {},
   "outputs": [],
   "source": []
  }
 ],
 "metadata": {
  "kernelspec": {
   "display_name": "Python 3 (ipykernel)",
   "language": "python",
   "name": "python3"
  },
  "language_info": {
   "codemirror_mode": {
    "name": "ipython",
    "version": 3
   },
   "file_extension": ".py",
   "mimetype": "text/x-python",
   "name": "python",
   "nbconvert_exporter": "python",
   "pygments_lexer": "ipython3",
   "version": "3.9.12"
  }
 },
 "nbformat": 4,
 "nbformat_minor": 5
}
