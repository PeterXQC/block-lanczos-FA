{
 "cells": [
  {
   "cell_type": "code",
   "execution_count": 1,
   "id": "3c8a52a9",
   "metadata": {
    "scrolled": true
   },
   "outputs": [],
   "source": [
    "import numpy as np\n",
    "import scipy as sp\n",
    "import matplotlib.pyplot as plt"
   ]
  },
  {
   "cell_type": "code",
   "execution_count": 2,
   "id": "16be4ff9",
   "metadata": {
    "scrolled": true
   },
   "outputs": [],
   "source": [
    "# Generate random real nxn block hermitian matrix with block size b\n",
    "def randHerm(n, d):\n",
    "    A = np.random.rand(n, d*n)\n",
    "    return (A@A.T)/n"
   ]
  },
  {
   "cell_type": "code",
   "execution_count": 3,
   "id": "71fe0139",
   "metadata": {
    "scrolled": true
   },
   "outputs": [],
   "source": [
    "def randVec(n, b = 1):\n",
    "    return np.random.rand(n, b)"
   ]
  },
  {
   "cell_type": "code",
   "execution_count": 4,
   "id": "0b29c0d1",
   "metadata": {
    "scrolled": true
   },
   "outputs": [],
   "source": [
    "def block_lanczos(H,V,k,reorth = 0):\n",
    "    \"\"\"\n",
    "    Input\n",
    "    -----\n",
    "    \n",
    "    H    : d x d matrix\n",
    "    V    : d x b starting block\n",
    "    k    : number of iterations\n",
    "    \n",
    "    Returns\n",
    "    -------\n",
    "    Q1k  : First k blocks of Lanczos vectors\n",
    "    Qkp1 : final block of Lanczos vetors\n",
    "    A    : diagonal blocks\n",
    "    B    : off diagonal blocks (incuding block for starting with non-orthogonal block)\n",
    "    \"\"\"\n",
    "\n",
    "    Z = np.copy(V)\n",
    "    d,b = Z.shape\n",
    "    \n",
    "    A = [np.zeros((b,b),dtype=H.dtype)] * k\n",
    "    B = [np.zeros((b,b),dtype=H.dtype)] * (k+1)\n",
    "    \n",
    "    Q = np.zeros((d,b*(k+1)),dtype=H.dtype)\n",
    "\n",
    "    # B[0] accounts for non-orthogonal V and is not part of tridiagonal matrix\n",
    "    Q[:,0:b],B[0] = np.linalg.qr(Z)\n",
    "    for j in range(0,k):\n",
    "        \n",
    "#       Qj is the next column of blocks\n",
    "        Qj = Q[:,j*b:(j+1)*b]\n",
    "\n",
    "        if j == 0:\n",
    "            Z = H@Qj\n",
    "        else:\n",
    "            Qjm1 = Q[:,(j-1)*b:j*b]\n",
    "            Z = H @ Qj - Qjm1 @ (B[j].conj().T)\n",
    "     \n",
    "        A[j] = Qj.conj().T @ Z\n",
    "        Z -= Qj @ A[j]\n",
    "        \n",
    "        # double reorthogonalization if needed\n",
    "        if reorth > j:\n",
    "            Z -= Q[:,:j * b] @ (Q[:,:j * b].conj().T @ Z)\n",
    "            Z -= Q[:,:j * b] @ (Q[:,:j * b].conj().T @ Z)\n",
    "        \n",
    "        Q[:,(j+1)*b:(j+2)*b],B[j + 1] = np.linalg.qr(Z)\n",
    "    \n",
    "    Q1k = Q[:,:b*k]\n",
    "    Qkp1 = Q[:,b*k:]\n",
    "\n",
    "    return Q1k, Qkp1, A, B"
   ]
  },
  {
   "cell_type": "code",
   "execution_count": 5,
   "id": "0acf0d52",
   "metadata": {
    "scrolled": true
   },
   "outputs": [],
   "source": [
    "def get_block_tridiag(A,B):\n",
    "    \"\"\"\n",
    "    Input\n",
    "    -----\n",
    "    \n",
    "    A  : diagonal blocks\n",
    "    B  : off diagonal blocks\n",
    "    \n",
    "    Returns\n",
    "    -------\n",
    "    T  : block tridiagonal matrix\n",
    "    \n",
    "    \"\"\"\n",
    "    \n",
    "    q = len(A)\n",
    "    b = len(A[0])\n",
    "    \n",
    "    T = np.zeros((q*b,q*b),dtype=A[0].dtype)\n",
    "\n",
    "    for k in range(q):\n",
    "        T[k*b:(k+1)*b,k*b:(k+1)*b] = A[k]\n",
    "\n",
    "    for k in range(q-1):\n",
    "        T[(k+1)*b:(k+2)*b,k*b:(k+1)*b] = B[k]\n",
    "        T[k*b:(k+1)*b,(k+1)*b:(k+2)*b] = B[k].conj().T\n",
    "    \n",
    "    return T"
   ]
  },
  {
   "cell_type": "code",
   "execution_count": 6,
   "id": "14e82e58",
   "metadata": {
    "scrolled": true
   },
   "outputs": [],
   "source": [
    "# k is number of blocks, b block size, i is the position of the identity matrix\n",
    "def Ei(n, b, i):\n",
    "    \"\"\"\n",
    "    Input\n",
    "    -----\n",
    "    \n",
    "    n  : matrix size\n",
    "    b  : block size\n",
    "    i  : position of diagonal block (the first block is when i = 1)\n",
    "    \n",
    "    Returns\n",
    "    -------\n",
    "    Ei  : block zero vector with identity in i-th position\n",
    "    \n",
    "    \"\"\"\n",
    "    if (i == 0 or i > n/b):\n",
    "        raise ValueError(\"Illegal Index\")\n",
    "    Ei = np.zeros((n,b))\n",
    "    Ei[(i-1)*b:i*b,:] = np.identity(b)\n",
    "    \n",
    "    return Ei"
   ]
  },
  {
   "cell_type": "code",
   "execution_count": 7,
   "id": "24a38e6a",
   "metadata": {
    "scrolled": true
   },
   "outputs": [],
   "source": [
    "def poly_func(order, coeff, x):\n",
    "    \"\"\"\n",
    "    Input\n",
    "    -----\n",
    "    \n",
    "    order  : order of the polynomial\n",
    "    coeff  : coefficient of the terms in increasing power\n",
    "    x  : the points x to evaluate at\n",
    "    \n",
    "    Returns\n",
    "    -------\n",
    "    y  : the polynomial evaluated at x\n",
    "    \n",
    "    \"\"\"\n",
    "    \n",
    "#     Note: Will randomize coefficient if the number of coefficients given does not match order of polynomial perfectly.\n",
    "    if (len(coeff) != order+1 or coeff == None):\n",
    "        coeff = np.random.rand(order+1)\n",
    "        \n",
    "    y = np.zeros(len(x)) + coeff[0]\n",
    "    for i in np.arange(order):\n",
    "        y += coeff[i+1]*x**(i+1)\n",
    "        \n",
    "    return y"
   ]
  },
  {
   "cell_type": "code",
   "execution_count": 8,
   "id": "0ccf96ec",
   "metadata": {
    "scrolled": true
   },
   "outputs": [],
   "source": [
    "def exp(x):\n",
    "    \"\"\"\n",
    "    Input\n",
    "    -----\n",
    "\n",
    "    x  : the points x to evaluate at\n",
    "    \n",
    "    Returns\n",
    "    -------\n",
    "    y  : the exponential function evaluated at x\n",
    "    \n",
    "    \"\"\"    \n",
    "    return np.exp(x)"
   ]
  },
  {
   "cell_type": "code",
   "execution_count": 9,
   "id": "d9ce7a2d",
   "metadata": {
    "scrolled": true
   },
   "outputs": [],
   "source": [
    "def x_inv(x):\n",
    "    \"\"\"\n",
    "    Input\n",
    "    -----\n",
    "\n",
    "    x  : the points x to evaluate at\n",
    "    \n",
    "    Returns\n",
    "    -------\n",
    "    y  : the exponential function evaluated at x\n",
    "    \n",
    "    \"\"\"    \n",
    "    return 1/x"
   ]
  },
  {
   "cell_type": "code",
   "execution_count": 10,
   "id": "3d1e8281",
   "metadata": {
    "scrolled": true
   },
   "outputs": [],
   "source": [
    "def check_Lanczos(Qk, T, Qkp1, B, H, k, thresh):\n",
    "    \"\"\"\n",
    "    Input\n",
    "    -----\n",
    "    \n",
    "    Qk, T, Qkp1, B, H  : Output of Block Lanczos Algorithm\n",
    "    \n",
    "    Returns\n",
    "    -------\n",
    "    raise value error if any of the two tests does not pass\n",
    "    \n",
    "    \"\"\"\n",
    "    t1val = np.linalg.norm(Qk.conj().T@Qk-np.identity(np.shape(Qk.T@Qk)[0]))\n",
    "    t2val = np.linalg.norm(Qk@T + Qkp1@B[k]@Ei(k*b, b, k).conj().T - H@Qk)\n",
    "    if (t1val > thresh):\n",
    "        raise ValueError(\"Qk*Qk = I test failed, error = \", t1val)\n",
    "\n",
    "    if (t2val > thresh):\n",
    "        raise ValueError(\"Three term recurrence test failed, error = \", t2val)"
   ]
  },
  {
   "cell_type": "code",
   "execution_count": 11,
   "id": "ab2a41b5",
   "metadata": {
    "scrolled": true
   },
   "outputs": [],
   "source": [
    "def makeApproximation(Q, T, f, B, b, k, C = -1):\n",
    "    \"\"\"\n",
    "    Input\n",
    "    -----\n",
    "            \n",
    "    Qk, T  : Output of Block Lanczos Algorithm\n",
    "    \n",
    "    f  : Desired function.\n",
    "    \n",
    "    C  : aditional arguments for function f i.e. coefficients of poly_func.\n",
    "        Poly: C[0] should be order, C[1] should be array of coefficients.\n",
    "    \n",
    "    Returns\n",
    "    -------\n",
    "    return the predicted result\n",
    "    \n",
    "    \"\"\"\n",
    "    if (f == poly_func):\n",
    "        if (len(C[1]) != C[0] + 1):\n",
    "            raise ValueError(\"Order of Polynomial does not match the dimension of given coefficients.\")\n",
    "    \n",
    "    Eval, Evec = np.linalg.eigh(T)\n",
    "    \n",
    "    if (f == poly_func):\n",
    "        fEval = f(C[0], C[1], Eval)\n",
    "    else:\n",
    "        fEval = f(Eval)\n",
    "\n",
    "    return Q@(Evec@(np.diag(fEval)@(Evec.conj().T@Ei(k*b, b, 1))))@B[0]"
   ]
  },
  {
   "cell_type": "code",
   "execution_count": 12,
   "id": "f7876295",
   "metadata": {
    "scrolled": true
   },
   "outputs": [],
   "source": [
    "# Hermitian matrix function\n",
    "def HMF(H, f, C = -1):\n",
    "    \"\"\"\n",
    "    Input\n",
    "    -----\n",
    "            \n",
    "    H  : Hermitian matrix to be evaluated\n",
    "    \n",
    "    f  : Desired function.\n",
    "    \n",
    "    C  : aditional arguments for function f i.e. coefficients of poly_func.\n",
    "        Poly: C[0] should be order, C[1] should be array of coefficients.\n",
    "    \n",
    "    Returns\n",
    "    -------\n",
    "    return f(H)\n",
    "    \n",
    "    \"\"\"\n",
    "    if (f == poly_func):\n",
    "        if (len(C[1]) != C[0] + 1):\n",
    "            raise ValueError(\"Order of Polynomial does not match the dimension of given coefficients.\")\n",
    "    \n",
    "    Eval, Evec = np.linalg.eigh(H)\n",
    "    \n",
    "    if (f == poly_func):\n",
    "        fEval = f(C[0], C[1], Eval)\n",
    "    else:\n",
    "        fEval = f(Eval)\n",
    "\n",
    "    return Evec@np.diag(fEval)@Evec.conj().T"
   ]
  },
  {
   "cell_type": "code",
   "execution_count": 16,
   "id": "bfc265f2",
   "metadata": {
    "scrolled": true
   },
   "outputs": [
    {
     "data": {
      "text/plain": [
       "[<matplotlib.lines.Line2D at 0x1f19d156100>]"
      ]
     },
     "execution_count": 16,
     "metadata": {},
     "output_type": "execute_result"
    },
    {
     "data": {
      "image/png": "[encoded data removed]",
      "text/plain": [
       "<Figure size 432x288 with 1 Axes>"
      ]
     },
     "metadata": {
      "needs_background": "light"
     },
     "output_type": "display_data"
    }
   ],
   "source": [
    "# Main script\n",
    "# iter <= n/b\n",
    "k = 100\n",
    "b = 2\n",
    "n = k*b\n",
    "itr = 70\n",
    "\n",
    "H = randHerm(n, b)\n",
    "V = randVec(n, b)\n",
    "    \n",
    "Q, Qkp1, M, B = block_lanczos(H, V, itr, itr+1)\n",
    "T = get_block_tridiag(M,B[1:])\n",
    "\n",
    "check_Lanczos(Q, T, Qkp1, B, H, itr, 1)\n",
    "\n",
    "real = HMF(H, x_inv)@V\n",
    "\n",
    "error = np.zeros(itr)\n",
    "x = np.arange(itr)+1\n",
    "for j in x:\n",
    "    approx = makeApproximation(Q[:,:j*b], T[0:j*b, 0:j*b], x_inv, B, b, j)\n",
    "    error[j-1] = np.linalg.norm(approx-real)\n",
    "    \n",
    "plt.plot(x, error)"
   ]
  },
  {
   "cell_type": "code",
   "execution_count": null,
   "id": "f2e506e9",
   "metadata": {
    "scrolled": true
   },
   "outputs": [],
   "source": []
  }
 ],
 "metadata": {
  "kernelspec": {
   "display_name": "Python 3 (ipykernel)",
   "language": "python",
   "name": "python3"
  },
  "language_info": {
   "codemirror_mode": {
    "name": "ipython",
    "version": 3
   },
   "file_extension": ".py",
   "mimetype": "text/x-python",
   "name": "python",
   "nbconvert_exporter": "python",
   "pygments_lexer": "ipython3",
   "version": "3.9.7"
  }
 },
 "nbformat": 4,
 "nbformat_minor": 5
}
