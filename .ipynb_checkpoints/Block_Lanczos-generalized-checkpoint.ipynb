{
 "cells": [
  {
   "cell_type": "code",
   "execution_count": 1,
   "id": "3c8a52a9",
   "metadata": {
    "scrolled": true
   },
   "outputs": [],
   "source": [
    "import block_methods as BM\n",
    "\n",
    "from Lanczos_FA.lanczos_bin import *\n",
    "\n",
    "import numpy as np\n",
    "import scipy as sp\n",
    "import matplotlib.pyplot as plt\n",
    "from scipy import integrate\n",
    "plt.rcParams[\"figure.figsize\"] = (16,9)"
   ]
  },
  {
   "cell_type": "code",
   "execution_count": 2,
   "id": "c6ee9ce6",
   "metadata": {},
   "outputs": [],
   "source": [
    "n = 1000\n",
    "bsize = 2\n",
    "w = 0\n",
    "step = 10\n",
    "K = 200\n",
    "lam = np.linspace(1e-2,1e2,n)\n",
    "\n",
    "A = np.diag(lam)\n",
    "\n",
    "b = np.ones((n, bsize))\n",
    "b /= np.linalg.norm(b)"
   ]
  },
  {
   "cell_type": "code",
   "execution_count": 3,
   "id": "48e19c13",
   "metadata": {},
   "outputs": [],
   "source": [
    "lmin = np.min(lam).astype(np.double)\n",
    "lmax = np.max(lam).astype(np.double)\n",
    "kappa = lmax / lmin\n",
    "\n",
    "lmin_ = lmin/2\n",
    "lmax_ = 2*lmax\n",
    "\n",
    "# norm to measure function approximation and linear system errors\n",
    "B = lam\n",
    "\n",
    "\n",
    "Q, Qkp1, a_, b_ = BM.block_lanczos(A, b, K, K+1)\n",
    "\n",
    "T = BM.get_block_tridiag(a_, b_[1:])\n",
    "\n",
    "# e1 = np.zeros(K+1)\n",
    "# e1[0] = 1"
   ]
  },
  {
   "cell_type": "code",
   "execution_count": 4,
   "id": "16be4ff9",
   "metadata": {
    "scrolled": true
   },
   "outputs": [],
   "source": [
    "def Gamma(t):\n",
    "    radius = lmax_ - lmin_/100\n",
    "\n",
    "    z = radius*np.exp(1j*t)+lmax_\n",
    "    dz = radius*1j*np.exp(1j*t)\n",
    "    \n",
    "    return z,dz\n",
    "\n",
    "def f(x):\n",
    "    return np.sqrt(x)"
   ]
  },
  {
   "cell_type": "code",
   "execution_count": 5,
   "id": "488b48ce",
   "metadata": {},
   "outputs": [],
   "source": [
    "# def get_a_posteriori_bound(f,gamma,endpts,a_,b_,w,lmin,lmax):\n",
    "#     \"\"\"\n",
    "#     (1/2pi) \\oint_{\\Gamma} |f(z)| |D_{k,w,z}| Q_{w,z} |dz|\n",
    "#     \"\"\"\n",
    "    \n",
    "#     theta = sp.linalg.eigvalsh_tridiagonal(a_,b_,tol=1e-30)\n",
    "\n",
    "#     def F(t):\n",
    "#         z,dz = gamma(t)\n",
    "        \n",
    "#         return (1/(2*np.pi)) * np.abs(f(z)) * np.abs(np.prod((theta-w)/(theta-z))) * Q_wz(w,z,lmin,lmax) * np.abs(dz)\n",
    "    \n",
    "#     integral = sp.integrate.quad(F,endpts[0],endpts[1],epsabs=0,limit=200) \n",
    "    \n",
    "#     return integral\n",
    "\n",
    "# this deals with h_wz\n",
    "def Q_wz(w,z,lmin,lmax):\n",
    "    \"\"\"\n",
    "    max_{x\\in[lmin,lmax]} |x-w|/|z-w|\n",
    "    \"\"\"\n",
    "    \n",
    "    if np.real(z) - w != 0:\n",
    "        b_hat = ( np.abs(z)**2 - np.real(z)*w ) / (np.real(z) - w)\n",
    "    else:\n",
    "        b_hat = np.inf\n",
    "    \n",
    "    if lmin < b_hat <= lmax:\n",
    "        return np.abs((z-w)/np.imag(z))\n",
    "    else:\n",
    "        return np.max([np.abs((lmax-w)/(lmax-z)), np.abs((lmin-w)/(lmin-z))])"
   ]
  },
  {
   "cell_type": "code",
   "execution_count": 6,
   "id": "df8182bd",
   "metadata": {},
   "outputs": [],
   "source": [
    "def get_cwinvcz(Eval, Evec, z, w, itr, b, B_0):\n",
    "    Dzinv = np.diag(1/(Eval-z))\n",
    "    Dwinv = np.diag(1/(Eval-w))\n",
    "        \n",
    "    if b == 1:\n",
    "        Cz = Evec@Dzinv@Evec.T@BM.Ei(itr, b, 1)*B_0\n",
    "        Cwinv = np.linalg.solve(-BM.Ei(itr, b, itr).T@Evec@Dwinv@Evec.T@BM.Ei(itr, b, 1)*B_0, -BM.Ei(itr, b, itr).T)\n",
    "    else:\n",
    "        Cz = Evec@Dzinv@Evec.T@BM.Ei(itr, b, 1)@B_0\n",
    "        Cwinv = np.linalg.solve(-BM.Ei(itr, b, itr//b).T@Evec@Dwinv@Evec.T@BM.Ei(itr, b, 1)@B_0, -BM.Ei(itr, b, itr//b).T)\n",
    "    \n",
    "    return Cwinv@Cz\n",
    "\n",
    "\n",
    "def block_a_posteriori_bound(T, f,gamma,endpts,w,lmin,lmax, itr, B_0):\n",
    "    \"\"\"\n",
    "    (1/2pi) \\oint_{\\Gamma} |f(z)| |D_{k,w,z}| Q_{w,z} |dz|\n",
    "    \"\"\"\n",
    "    Eval, Evec = np.linalg.eigh(T)\n",
    "    def F(t):\n",
    "        z,dz = gamma(t)\n",
    "        \n",
    "        return (1/(2*np.pi)) * np.abs(f(z)) * np.linalg.norm(get_cwinvcz(Eval, Evec, z, w, itr, np.shape(B_0)[0], B_0)) * Q_wz(w,z,lmin,lmax) * np.abs(dz)\n",
    "    \n",
    "    integral = sp.integrate.quad(F,endpts[0],endpts[1],epsabs=0,limit=200) \n",
    "    \n",
    "    return integral"
   ]
  },
  {
   "cell_type": "code",
   "execution_count": 7,
   "id": "a0f556f4",
   "metadata": {},
   "outputs": [],
   "source": [
    "# def comparison(w, z, a_, b_, itr, B_0):\n",
    "#     T = np.diag(a_.astype(np.double)) + np.diag(b_.astype(np.double), 1) + np.diag(b_.astype(np.double), -1)\n",
    "#     Eval, Evec = np.linalg.eigh(T)\n",
    "    \n",
    "#     theta = sp.linalg.eigvalsh_tridiagonal(a_,b_,tol=1e-30)\n",
    "    \n",
    "#     return (np.abs(np.linalg.norm(get_cwinvcz(Eval, Evec, z, w, itr, 1, B_0)) - np.abs(np.prod((theta-w)/(theta-z)))), np.linalg.norm(get_cwinvcz(Eval, Evec, z, w, itr, 1, B_0)))"
   ]
  },
  {
   "cell_type": "code",
   "execution_count": 8,
   "id": "d01b72f5",
   "metadata": {},
   "outputs": [],
   "source": [
    "# term_error = np.full(K,np.inf)\n",
    "# term = np.full(K,np.inf)\n",
    "# block_bound = np.full(K,np.inf)\n",
    "# old_bound = np.full(K,np.inf)\n",
    "\n",
    "\n",
    "# for k in range(1,int((K+1)/step)):\n",
    "#     B_0 = 1\n",
    "#     k = step*k\n",
    "#     term_error[int((k-1)/step)] = comparison(w, 1, a_[:k], b_[:k-1], k, B_0)[0]\n",
    "#     term[int((k-1)/step)] = comparison(w, 1, a_[:k], b_[:k-1], k, B_0)[1]\n",
    "#     block_bound[int((k-1)/step)] = block_a_posteriori_bound(f,Gamma,[0,np.pi],a_[:k],b_[:k-1],w,lmin_,lmax_, k, 1, B_0)[0]\n",
    "#     old_bound[int((k-1)/step)] = get_a_posteriori_bound(f,Gamma,[0,np.pi],a_[:k],b_[:k-1],w,lmin_,lmax_)[0]"
   ]
  },
  {
   "cell_type": "code",
   "execution_count": 9,
   "id": "1333b655",
   "metadata": {},
   "outputs": [],
   "source": [
    "# x = np.linspace(1, K, 200)\n",
    "# # plt.plot(x, a_posteriori_bound_circle_approx_spectrum, c='red')\n",
    "# # plt.plot(x, compare, c='green')\n",
    "# plt.plot(x*step, np.abs(block_bound-old_bound), label = \"Total absolute difference\")\n",
    "# plt.plot(x*step, np.abs(block_bound-old_bound)/block_bound, label = \"Total relative difference\")\n",
    "# plt.plot(x*step, term_error, label = \"New term absolute difference\")\n",
    "# plt.plot(x*step, term_error/term, label = \"New term relative difference\")\n",
    "# plt.yscale('log')\n",
    "# plt.xlabel(\"k\")\n",
    "# plt.ylabel(\"error\")\n",
    "# plt.legend()\n",
    "# plt.show"
   ]
  },
  {
   "cell_type": "code",
   "execution_count": 10,
   "id": "249fc82e",
   "metadata": {},
   "outputs": [],
   "source": [
    "def block_a_posteriori_bound_mid(T, f, gamma, endpts, Q, A, b, B_0):\n",
    "    \"\"\"\n",
    "    (1/2pi) \\oint_{\\Gamma} |f(z)| |D_{k,w,z}| Q_{w,z} |dz|\n",
    "    \"\"\"\n",
    "    \n",
    "    Eval, Evec = np.linalg.eigh(T)\n",
    "    def F(t):\n",
    "        z,dz = gamma(t)\n",
    "        \n",
    "        return (1/(2*np.pi)) * np.linalg.norm(f(z)* exact_err(z, A, b, Q, T, B_0)) * np.abs(dz)\n",
    "    \n",
    "    integral = sp.integrate.quad(F,endpts[0],endpts[1],epsabs=0,limit=200)\n",
    "    \n",
    "    return integral"
   ]
  },
  {
   "cell_type": "code",
   "execution_count": 11,
   "id": "b796a92e",
   "metadata": {},
   "outputs": [],
   "source": [
    "def block_a_posteriori_bound_exact(T, f, H, V, Q, B_0, bsize):\n",
    "    EvalH, EvecH = np.linalg.eigh(H)\n",
    "    fEvalH = f(EvalH)\n",
    "    fH = EvecH@np.diag(fEvalH)@EvecH.conj().T\n",
    "    \n",
    "    EvalT, EvecT = np.linalg.eigh(T)\n",
    "#     EvalT may be negative, and np.sqrt only let imaginary output when input is complex\n",
    "#     thus, we make first element of EvalT complex first. \n",
    "    EvalT = EvalT.astype(complex)\n",
    "    EvalT[0] = EvalT[0]+0j\n",
    "    \n",
    "    fEvalT = f(EvalT)\n",
    "    fT = EvecT@np.diag(fEvalT)@EvecT.conj().T\n",
    "    \n",
    "#     changed the line below, was:\n",
    "#   return np.linalg.norm(fH@V-(Q@fT)[:, 0]@B_0)\n",
    "#   reason: should keep the first column of block, as opposed to first col.\n",
    "    return np.linalg.norm(np.reshape(fH@V, (n, bsize)).T-((Q@fT)[:, :bsize]@B_0).T)"
   ]
  },
  {
   "cell_type": "code",
   "execution_count": 12,
   "id": "001ed48a",
   "metadata": {},
   "outputs": [],
   "source": [
    "# use linear solver as oppose to get inverse\n",
    "def exact_err(z, H, V, Q, T, B_0):\n",
    "    Hinv = 1/(np.diag(H)-z)\n",
    "#     HinvV2 = Hinv*V\n",
    "    \n",
    "#     NOTE: apparently this implementation further tanks performance as its nolonger \"vectorized\".\n",
    "#     Below is the new way of computing HinvV for better compatibility with block size larger than 1.\n",
    "#     Above commented out was the old code that only works with block size 1\n",
    "#     this if statement checks if V is 1d, aka block size = 1. If true, reshape to 2D format for compatibility\n",
    "    if (np.shape(np.shape(V))[0] == 1): \n",
    "        V = np.reshape(V, (len(V), 1))\n",
    "        \n",
    "    HinvV = np.zeros(np.shape(V),dtype = 'complex_')\n",
    "    for i in np.arange(np.shape(V)[1]):\n",
    "        HinvV[:, i] = Hinv*V[:, i]\n",
    "    \n",
    "#     due to mismatched shape, we do transpose\n",
    "    HinvV = HinvV.T\n",
    "    \n",
    "#     print(np.linalg.norm(HinvV-HinvV2))\n",
    "\n",
    "    E1 = BM.Ei(np.shape(T)[0], np.shape(B_0)[0], 1)\n",
    "#     E1_array = np.reshape(E1, len(E1))\n",
    "    TinvE = np.linalg.solve((T-z*np.eye(T.shape[0])), E1)\n",
    "#     This line below is changed\n",
    "    return HinvV.T - Q@TinvE@B_0"
   ]
  },
  {
   "cell_type": "code",
   "execution_count": 13,
   "id": "07c6af8f",
   "metadata": {},
   "outputs": [],
   "source": [
    "# k = 60\n",
    "# TinvE = np.linalg.solve((T[:, :k]-z*np.eye(T.shape[0])), E1_array)\n",
    "# Q@TinvE"
   ]
  },
  {
   "cell_type": "code",
   "execution_count": 14,
   "id": "eb9e85a4",
   "metadata": {
    "scrolled": true
   },
   "outputs": [
    {
     "ename": "LinAlgError",
     "evalue": "Singular matrix",
     "output_type": "error",
     "traceback": [
      "\u001b[1;31m---------------------------------------------------------------------------\u001b[0m",
      "\u001b[1;31mLinAlgError\u001b[0m                               Traceback (most recent call last)",
      "Input \u001b[1;32mIn [14]\u001b[0m, in \u001b[0;36m<cell line: 5>\u001b[1;34m()\u001b[0m\n\u001b[0;32m      8\u001b[0m block_mid[\u001b[38;5;28mint\u001b[39m((k\u001b[38;5;241m-\u001b[39m\u001b[38;5;241m1\u001b[39m)\u001b[38;5;241m/\u001b[39mstep)] \u001b[38;5;241m=\u001b[39m block_a_posteriori_bound_mid(T[:k, :k], f,Gamma,[\u001b[38;5;241m0\u001b[39m,np\u001b[38;5;241m.\u001b[39mpi], Q[:, :k], A, b\u001b[38;5;241m.\u001b[39mastype(np\u001b[38;5;241m.\u001b[39mdouble), B_0)[\u001b[38;5;241m0\u001b[39m]\n\u001b[0;32m      9\u001b[0m block_exact[\u001b[38;5;28mint\u001b[39m((k\u001b[38;5;241m-\u001b[39m\u001b[38;5;241m1\u001b[39m)\u001b[38;5;241m/\u001b[39mstep)] \u001b[38;5;241m=\u001b[39m block_a_posteriori_bound_exact(T[:k, :k], f,A\u001b[38;5;241m.\u001b[39mastype(np\u001b[38;5;241m.\u001b[39mdouble), b\u001b[38;5;241m.\u001b[39mastype(np\u001b[38;5;241m.\u001b[39mdouble),Q[:, :k], B_0, bsize)\n\u001b[1;32m---> 10\u001b[0m block_bound[\u001b[38;5;28mint\u001b[39m((k\u001b[38;5;241m-\u001b[39m\u001b[38;5;241m1\u001b[39m)\u001b[38;5;241m/\u001b[39mstep)] \u001b[38;5;241m=\u001b[39m \u001b[43mblock_a_posteriori_bound\u001b[49m\u001b[43m(\u001b[49m\u001b[43mT\u001b[49m\u001b[43m[\u001b[49m\u001b[43m:\u001b[49m\u001b[43mk\u001b[49m\u001b[43m,\u001b[49m\u001b[43m \u001b[49m\u001b[43m:\u001b[49m\u001b[43mk\u001b[49m\u001b[43m]\u001b[49m\u001b[43m,\u001b[49m\u001b[43m \u001b[49m\u001b[43mf\u001b[49m\u001b[43m,\u001b[49m\u001b[43mGamma\u001b[49m\u001b[43m,\u001b[49m\u001b[43m[\u001b[49m\u001b[38;5;241;43m0\u001b[39;49m\u001b[43m,\u001b[49m\u001b[43mnp\u001b[49m\u001b[38;5;241;43m.\u001b[39;49m\u001b[43mpi\u001b[49m\u001b[43m]\u001b[49m\u001b[43m,\u001b[49m\u001b[43mw\u001b[49m\u001b[43m,\u001b[49m\u001b[43mlmin_\u001b[49m\u001b[43m,\u001b[49m\u001b[43mlmax_\u001b[49m\u001b[43m,\u001b[49m\u001b[43m \u001b[49m\u001b[43mk\u001b[49m\u001b[43m,\u001b[49m\u001b[43m \u001b[49m\u001b[43mB_0\u001b[49m\u001b[43m)\u001b[49m[\u001b[38;5;241m0\u001b[39m]\n",
      "Input \u001b[1;32mIn [6]\u001b[0m, in \u001b[0;36mblock_a_posteriori_bound\u001b[1;34m(T, f, gamma, endpts, w, lmin, lmax, itr, B_0)\u001b[0m\n\u001b[0;32m     21\u001b[0m     z,dz \u001b[38;5;241m=\u001b[39m gamma(t)\n\u001b[0;32m     23\u001b[0m     \u001b[38;5;28;01mreturn\u001b[39;00m (\u001b[38;5;241m1\u001b[39m\u001b[38;5;241m/\u001b[39m(\u001b[38;5;241m2\u001b[39m\u001b[38;5;241m*\u001b[39mnp\u001b[38;5;241m.\u001b[39mpi)) \u001b[38;5;241m*\u001b[39m np\u001b[38;5;241m.\u001b[39mabs(f(z)) \u001b[38;5;241m*\u001b[39m np\u001b[38;5;241m.\u001b[39mlinalg\u001b[38;5;241m.\u001b[39mnorm(get_cwinvcz(Eval, Evec, z, w, itr, np\u001b[38;5;241m.\u001b[39mshape(B_0)[\u001b[38;5;241m0\u001b[39m], B_0)) \u001b[38;5;241m*\u001b[39m Q_wz(w,z,lmin,lmax) \u001b[38;5;241m*\u001b[39m np\u001b[38;5;241m.\u001b[39mabs(dz)\n\u001b[1;32m---> 25\u001b[0m integral \u001b[38;5;241m=\u001b[39m \u001b[43msp\u001b[49m\u001b[38;5;241;43m.\u001b[39;49m\u001b[43mintegrate\u001b[49m\u001b[38;5;241;43m.\u001b[39;49m\u001b[43mquad\u001b[49m\u001b[43m(\u001b[49m\u001b[43mF\u001b[49m\u001b[43m,\u001b[49m\u001b[43mendpts\u001b[49m\u001b[43m[\u001b[49m\u001b[38;5;241;43m0\u001b[39;49m\u001b[43m]\u001b[49m\u001b[43m,\u001b[49m\u001b[43mendpts\u001b[49m\u001b[43m[\u001b[49m\u001b[38;5;241;43m1\u001b[39;49m\u001b[43m]\u001b[49m\u001b[43m,\u001b[49m\u001b[43mepsabs\u001b[49m\u001b[38;5;241;43m=\u001b[39;49m\u001b[38;5;241;43m0\u001b[39;49m\u001b[43m,\u001b[49m\u001b[43mlimit\u001b[49m\u001b[38;5;241;43m=\u001b[39;49m\u001b[38;5;241;43m200\u001b[39;49m\u001b[43m)\u001b[49m \n\u001b[0;32m     27\u001b[0m \u001b[38;5;28;01mreturn\u001b[39;00m integral\n",
      "File \u001b[1;32mD:\\Anaconda\\lib\\site-packages\\scipy\\integrate\\quadpack.py:351\u001b[0m, in \u001b[0;36mquad\u001b[1;34m(func, a, b, args, full_output, epsabs, epsrel, limit, points, weight, wvar, wopts, maxp1, limlst)\u001b[0m\n\u001b[0;32m    348\u001b[0m flip, a, b \u001b[38;5;241m=\u001b[39m b \u001b[38;5;241m<\u001b[39m a, \u001b[38;5;28mmin\u001b[39m(a, b), \u001b[38;5;28mmax\u001b[39m(a, b)\n\u001b[0;32m    350\u001b[0m \u001b[38;5;28;01mif\u001b[39;00m weight \u001b[38;5;129;01mis\u001b[39;00m \u001b[38;5;28;01mNone\u001b[39;00m:\n\u001b[1;32m--> 351\u001b[0m     retval \u001b[38;5;241m=\u001b[39m \u001b[43m_quad\u001b[49m\u001b[43m(\u001b[49m\u001b[43mfunc\u001b[49m\u001b[43m,\u001b[49m\u001b[43m \u001b[49m\u001b[43ma\u001b[49m\u001b[43m,\u001b[49m\u001b[43m \u001b[49m\u001b[43mb\u001b[49m\u001b[43m,\u001b[49m\u001b[43m \u001b[49m\u001b[43margs\u001b[49m\u001b[43m,\u001b[49m\u001b[43m \u001b[49m\u001b[43mfull_output\u001b[49m\u001b[43m,\u001b[49m\u001b[43m \u001b[49m\u001b[43mepsabs\u001b[49m\u001b[43m,\u001b[49m\u001b[43m \u001b[49m\u001b[43mepsrel\u001b[49m\u001b[43m,\u001b[49m\u001b[43m \u001b[49m\u001b[43mlimit\u001b[49m\u001b[43m,\u001b[49m\n\u001b[0;32m    352\u001b[0m \u001b[43m                   \u001b[49m\u001b[43mpoints\u001b[49m\u001b[43m)\u001b[49m\n\u001b[0;32m    353\u001b[0m \u001b[38;5;28;01melse\u001b[39;00m:\n\u001b[0;32m    354\u001b[0m     \u001b[38;5;28;01mif\u001b[39;00m points \u001b[38;5;129;01mis\u001b[39;00m \u001b[38;5;129;01mnot\u001b[39;00m \u001b[38;5;28;01mNone\u001b[39;00m:\n",
      "File \u001b[1;32mD:\\Anaconda\\lib\\site-packages\\scipy\\integrate\\quadpack.py:463\u001b[0m, in \u001b[0;36m_quad\u001b[1;34m(func, a, b, args, full_output, epsabs, epsrel, limit, points)\u001b[0m\n\u001b[0;32m    461\u001b[0m \u001b[38;5;28;01mif\u001b[39;00m points \u001b[38;5;129;01mis\u001b[39;00m \u001b[38;5;28;01mNone\u001b[39;00m:\n\u001b[0;32m    462\u001b[0m     \u001b[38;5;28;01mif\u001b[39;00m infbounds \u001b[38;5;241m==\u001b[39m \u001b[38;5;241m0\u001b[39m:\n\u001b[1;32m--> 463\u001b[0m         \u001b[38;5;28;01mreturn\u001b[39;00m \u001b[43m_quadpack\u001b[49m\u001b[38;5;241;43m.\u001b[39;49m\u001b[43m_qagse\u001b[49m\u001b[43m(\u001b[49m\u001b[43mfunc\u001b[49m\u001b[43m,\u001b[49m\u001b[43ma\u001b[49m\u001b[43m,\u001b[49m\u001b[43mb\u001b[49m\u001b[43m,\u001b[49m\u001b[43margs\u001b[49m\u001b[43m,\u001b[49m\u001b[43mfull_output\u001b[49m\u001b[43m,\u001b[49m\u001b[43mepsabs\u001b[49m\u001b[43m,\u001b[49m\u001b[43mepsrel\u001b[49m\u001b[43m,\u001b[49m\u001b[43mlimit\u001b[49m\u001b[43m)\u001b[49m\n\u001b[0;32m    464\u001b[0m     \u001b[38;5;28;01melse\u001b[39;00m:\n\u001b[0;32m    465\u001b[0m         \u001b[38;5;28;01mreturn\u001b[39;00m _quadpack\u001b[38;5;241m.\u001b[39m_qagie(func,bound,infbounds,args,full_output,epsabs,epsrel,limit)\n",
      "Input \u001b[1;32mIn [6]\u001b[0m, in \u001b[0;36mblock_a_posteriori_bound.<locals>.F\u001b[1;34m(t)\u001b[0m\n\u001b[0;32m     20\u001b[0m \u001b[38;5;28;01mdef\u001b[39;00m \u001b[38;5;21mF\u001b[39m(t):\n\u001b[0;32m     21\u001b[0m     z,dz \u001b[38;5;241m=\u001b[39m gamma(t)\n\u001b[1;32m---> 23\u001b[0m     \u001b[38;5;28;01mreturn\u001b[39;00m (\u001b[38;5;241m1\u001b[39m\u001b[38;5;241m/\u001b[39m(\u001b[38;5;241m2\u001b[39m\u001b[38;5;241m*\u001b[39mnp\u001b[38;5;241m.\u001b[39mpi)) \u001b[38;5;241m*\u001b[39m np\u001b[38;5;241m.\u001b[39mabs(f(z)) \u001b[38;5;241m*\u001b[39m np\u001b[38;5;241m.\u001b[39mlinalg\u001b[38;5;241m.\u001b[39mnorm(\u001b[43mget_cwinvcz\u001b[49m\u001b[43m(\u001b[49m\u001b[43mEval\u001b[49m\u001b[43m,\u001b[49m\u001b[43m \u001b[49m\u001b[43mEvec\u001b[49m\u001b[43m,\u001b[49m\u001b[43m \u001b[49m\u001b[43mz\u001b[49m\u001b[43m,\u001b[49m\u001b[43m \u001b[49m\u001b[43mw\u001b[49m\u001b[43m,\u001b[49m\u001b[43m \u001b[49m\u001b[43mitr\u001b[49m\u001b[43m,\u001b[49m\u001b[43m \u001b[49m\u001b[43mnp\u001b[49m\u001b[38;5;241;43m.\u001b[39;49m\u001b[43mshape\u001b[49m\u001b[43m(\u001b[49m\u001b[43mB_0\u001b[49m\u001b[43m)\u001b[49m\u001b[43m[\u001b[49m\u001b[38;5;241;43m0\u001b[39;49m\u001b[43m]\u001b[49m\u001b[43m,\u001b[49m\u001b[43m \u001b[49m\u001b[43mB_0\u001b[49m\u001b[43m)\u001b[49m) \u001b[38;5;241m*\u001b[39m Q_wz(w,z,lmin,lmax) \u001b[38;5;241m*\u001b[39m np\u001b[38;5;241m.\u001b[39mabs(dz)\n",
      "Input \u001b[1;32mIn [6]\u001b[0m, in \u001b[0;36mget_cwinvcz\u001b[1;34m(Eval, Evec, z, w, itr, b, B_0)\u001b[0m\n\u001b[0;32m      8\u001b[0m \u001b[38;5;28;01melse\u001b[39;00m:\n\u001b[0;32m      9\u001b[0m     Cz \u001b[38;5;241m=\u001b[39m Evec\u001b[38;5;129m@Dzinv\u001b[39m\u001b[38;5;129m@Evec\u001b[39m\u001b[38;5;241m.\u001b[39mT\u001b[38;5;129m@BM\u001b[39m\u001b[38;5;241m.\u001b[39mEi(itr, b, \u001b[38;5;241m1\u001b[39m)\u001b[38;5;129m@B_0\u001b[39m\n\u001b[1;32m---> 10\u001b[0m     Cwinv \u001b[38;5;241m=\u001b[39m \u001b[43mnp\u001b[49m\u001b[38;5;241;43m.\u001b[39;49m\u001b[43mlinalg\u001b[49m\u001b[38;5;241;43m.\u001b[39;49m\u001b[43msolve\u001b[49m\u001b[43m(\u001b[49m\u001b[38;5;241;43m-\u001b[39;49m\u001b[43mBM\u001b[49m\u001b[38;5;241;43m.\u001b[39;49m\u001b[43mEi\u001b[49m\u001b[43m(\u001b[49m\u001b[43mitr\u001b[49m\u001b[43m,\u001b[49m\u001b[43m \u001b[49m\u001b[43mb\u001b[49m\u001b[43m,\u001b[49m\u001b[43m \u001b[49m\u001b[43mitr\u001b[49m\u001b[38;5;241;43m/\u001b[39;49m\u001b[38;5;241;43m/\u001b[39;49m\u001b[43mb\u001b[49m\u001b[43m)\u001b[49m\u001b[38;5;241;43m.\u001b[39;49m\u001b[43mT\u001b[49m\u001b[38;5;129;43m@Evec\u001b[39;49m\u001b[38;5;129;43m@Dwinv\u001b[39;49m\u001b[38;5;129;43m@Evec\u001b[39;49m\u001b[38;5;241;43m.\u001b[39;49m\u001b[43mT\u001b[49m\u001b[38;5;129;43m@BM\u001b[39;49m\u001b[38;5;241;43m.\u001b[39;49m\u001b[43mEi\u001b[49m\u001b[43m(\u001b[49m\u001b[43mitr\u001b[49m\u001b[43m,\u001b[49m\u001b[43m \u001b[49m\u001b[43mb\u001b[49m\u001b[43m,\u001b[49m\u001b[43m \u001b[49m\u001b[38;5;241;43m1\u001b[39;49m\u001b[43m)\u001b[49m\u001b[38;5;129;43m@B_0\u001b[39;49m\u001b[43m,\u001b[49m\u001b[43m \u001b[49m\u001b[38;5;241;43m-\u001b[39;49m\u001b[43mBM\u001b[49m\u001b[38;5;241;43m.\u001b[39;49m\u001b[43mEi\u001b[49m\u001b[43m(\u001b[49m\u001b[43mitr\u001b[49m\u001b[43m,\u001b[49m\u001b[43m \u001b[49m\u001b[43mb\u001b[49m\u001b[43m,\u001b[49m\u001b[43m \u001b[49m\u001b[43mitr\u001b[49m\u001b[38;5;241;43m/\u001b[39;49m\u001b[38;5;241;43m/\u001b[39;49m\u001b[43mb\u001b[49m\u001b[43m)\u001b[49m\u001b[38;5;241;43m.\u001b[39;49m\u001b[43mT\u001b[49m\u001b[43m)\u001b[49m\n\u001b[0;32m     12\u001b[0m \u001b[38;5;28;01mreturn\u001b[39;00m Cwinv\u001b[38;5;129m@Cz\u001b[39m\n",
      "File \u001b[1;32m<__array_function__ internals>:5\u001b[0m, in \u001b[0;36msolve\u001b[1;34m(*args, **kwargs)\u001b[0m\n",
      "File \u001b[1;32mD:\\Anaconda\\lib\\site-packages\\numpy\\linalg\\linalg.py:393\u001b[0m, in \u001b[0;36msolve\u001b[1;34m(a, b)\u001b[0m\n\u001b[0;32m    391\u001b[0m signature \u001b[38;5;241m=\u001b[39m \u001b[38;5;124m'\u001b[39m\u001b[38;5;124mDD->D\u001b[39m\u001b[38;5;124m'\u001b[39m \u001b[38;5;28;01mif\u001b[39;00m isComplexType(t) \u001b[38;5;28;01melse\u001b[39;00m \u001b[38;5;124m'\u001b[39m\u001b[38;5;124mdd->d\u001b[39m\u001b[38;5;124m'\u001b[39m\n\u001b[0;32m    392\u001b[0m extobj \u001b[38;5;241m=\u001b[39m get_linalg_error_extobj(_raise_linalgerror_singular)\n\u001b[1;32m--> 393\u001b[0m r \u001b[38;5;241m=\u001b[39m \u001b[43mgufunc\u001b[49m\u001b[43m(\u001b[49m\u001b[43ma\u001b[49m\u001b[43m,\u001b[49m\u001b[43m \u001b[49m\u001b[43mb\u001b[49m\u001b[43m,\u001b[49m\u001b[43m \u001b[49m\u001b[43msignature\u001b[49m\u001b[38;5;241;43m=\u001b[39;49m\u001b[43msignature\u001b[49m\u001b[43m,\u001b[49m\u001b[43m \u001b[49m\u001b[43mextobj\u001b[49m\u001b[38;5;241;43m=\u001b[39;49m\u001b[43mextobj\u001b[49m\u001b[43m)\u001b[49m\n\u001b[0;32m    395\u001b[0m \u001b[38;5;28;01mreturn\u001b[39;00m wrap(r\u001b[38;5;241m.\u001b[39mastype(result_t, copy\u001b[38;5;241m=\u001b[39m\u001b[38;5;28;01mFalse\u001b[39;00m))\n",
      "File \u001b[1;32mD:\\Anaconda\\lib\\site-packages\\numpy\\linalg\\linalg.py:88\u001b[0m, in \u001b[0;36m_raise_linalgerror_singular\u001b[1;34m(err, flag)\u001b[0m\n\u001b[0;32m     87\u001b[0m \u001b[38;5;28;01mdef\u001b[39;00m \u001b[38;5;21m_raise_linalgerror_singular\u001b[39m(err, flag):\n\u001b[1;32m---> 88\u001b[0m     \u001b[38;5;28;01mraise\u001b[39;00m LinAlgError(\u001b[38;5;124m\"\u001b[39m\u001b[38;5;124mSingular matrix\u001b[39m\u001b[38;5;124m\"\u001b[39m)\n",
      "\u001b[1;31mLinAlgError\u001b[0m: Singular matrix"
     ]
    }
   ],
   "source": [
    "block_mid = np.full(K,np.inf)\n",
    "block_exact = np.full(K,np.inf)\n",
    "block_bound = np.full(K,np.inf)\n",
    "\n",
    "for k in range(1,int((K+1)/step)):\n",
    "    k = step*k\n",
    "    B_0 = b_[0]\n",
    "    block_mid[int((k-1)/step)] = block_a_posteriori_bound_mid(T[:k, :k], f,Gamma,[0,np.pi], Q[:, :k], A, b.astype(np.double), B_0)[0]\n",
    "    block_exact[int((k-1)/step)] = block_a_posteriori_bound_exact(T[:k, :k], f,A.astype(np.double), b.astype(np.double),Q[:, :k], B_0, bsize)\n",
    "    block_bound[int((k-1)/step)] = block_a_posteriori_bound(T[:k, :k], f,Gamma,[0,np.pi],w,lmin_,lmax_, k, B_0)[0]"
   ]
  },
  {
   "cell_type": "code",
   "execution_count": null,
   "id": "d55451ad",
   "metadata": {},
   "outputs": [],
   "source": [
    "full_block_bound = np.full(K,np.inf)\n",
    "\n",
    "for k in range(1,int((K+1)/step)):\n",
    "    k = step*k\n",
    "    B_0 = b_[0]\n",
    "    full_block_bound[int((k-1)/step)] = block_bound[int((k-1)/step)]*np.linalg.norm(exact_err(w, A, b, Q[:, :k], T[:k, :k], B_0))"
   ]
  },
  {
   "cell_type": "code",
   "execution_count": null,
   "id": "ed3f342a",
   "metadata": {},
   "outputs": [],
   "source": [
    "x = np.linspace(1, K, 200)\n",
    "\n",
    "plt.plot(x*step, np.abs(full_block_bound), label = \"Actual bound\")\n",
    "plt.plot(x*step, np.abs(block_mid), label = \"First step bound\")\n",
    "plt.plot(x*step, np.abs(block_exact), label = \"exact error\")\n",
    "\n",
    "\n",
    "plt.yscale('log')\n",
    "plt.xlabel(\"k\")\n",
    "plt.ylabel(\"error\")\n",
    "plt.legend()\n",
    "plt.show"
   ]
  },
  {
   "cell_type": "code",
   "execution_count": null,
   "id": "84f52a12",
   "metadata": {},
   "outputs": [],
   "source": [
    "b.shape"
   ]
  },
  {
   "cell_type": "code",
   "execution_count": null,
   "id": "21d89703",
   "metadata": {},
   "outputs": [],
   "source": []
  }
 ],
 "metadata": {
  "kernelspec": {
   "display_name": "Python 3 (ipykernel)",
   "language": "python",
   "name": "python3"
  },
  "language_info": {
   "codemirror_mode": {
    "name": "ipython",
    "version": 3
   },
   "file_extension": ".py",
   "mimetype": "text/x-python",
   "name": "python",
   "nbconvert_exporter": "python",
   "pygments_lexer": "ipython3",
   "version": "3.9.12"
  }
 },
 "nbformat": 4,
 "nbformat_minor": 5
}
