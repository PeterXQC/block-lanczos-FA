{
 "cells": [
  {
   "cell_type": "code",
   "execution_count": 1,
   "id": "3c8a52a9",
   "metadata": {
    "scrolled": true
   },
   "outputs": [],
   "source": [
    "import block_methods as BM\n",
    "\n",
    "from Lanczos_FA.lanczos_bin import *\n",
    "\n",
    "import numpy as np\n",
    "import scipy as sp\n",
    "import matplotlib.pyplot as plt\n",
    "from scipy import integrate\n",
    "plt.rcParams[\"figure.figsize\"] = (16,9)"
   ]
  },
  {
   "cell_type": "code",
   "execution_count": 2,
   "id": "eed38807",
   "metadata": {},
   "outputs": [],
   "source": [
    "n = 1000 # matrix dimension\n",
    "b = 4 # block size\n",
    "K = 200 # max iter\n",
    "\n",
    "# set up matrix\n",
    "lam = np.linspace(1e-2,1,n)\n",
    "H = np.diag(lam)\n",
    "\n",
    "# set up vector\n",
    "V = np.random.randn(n,b)\n",
    "\n",
    "# w value\n",
    "w = 0\n",
    "\n",
    "# how many iterations per sample for plotting\n",
    "step = 2\n",
    "\n",
    "# define contour\n",
    "def Gamma(t):\n",
    "    radius = lmax_ - lmin_/100\n",
    "\n",
    "    z = radius*np.exp(1j*t)+lmax_\n",
    "    dz = radius*1j*np.exp(1j*t)\n",
    "    \n",
    "    return z,dz\n",
    "\n",
    "# define function\n",
    "def f(x):\n",
    "    return np.sqrt(x)"
   ]
  },
  {
   "cell_type": "code",
   "execution_count": 3,
   "id": "c6ee9ce6",
   "metadata": {},
   "outputs": [],
   "source": [
    "Q,Qkp1,A,B,B_0 = BM.block_lanczos(H, V, K, K+1)\n",
    "\n",
    "# generate tridiagonal matrix and get eigendecomp\n",
    "T = BM.get_block_tridiag(A,B)\n",
    "EvalT, EvecT = np.linalg.eigh(T)"
   ]
  },
  {
   "cell_type": "code",
   "execution_count": 4,
   "id": "48e19c13",
   "metadata": {},
   "outputs": [],
   "source": [
    "lmin = np.min(lam)\n",
    "lmax = np.max(lam)\n",
    "kappa = lmax / lmin\n",
    "\n",
    "lmin_ = lmin/2\n",
    "lmax_ = 2*lmax"
   ]
  },
  {
   "cell_type": "code",
   "execution_count": 5,
   "id": "488b48ce",
   "metadata": {},
   "outputs": [],
   "source": [
    "def Q_wz(w,z,lmin,lmax):\n",
    "    \"\"\"\n",
    "    max_{x\\in[lmin,lmax]} |x-w|/|z-w|\n",
    "    \"\"\"\n",
    "    \n",
    "    if np.real(z) - w != 0:\n",
    "        b_hat = ( np.abs(z)**2 - np.real(z)*w ) / (np.real(z) - w)\n",
    "    else:\n",
    "        b_hat = np.inf\n",
    "    \n",
    "    if lmin < b_hat <= lmax:\n",
    "        return np.abs((z-w)/np.imag(z))\n",
    "    else:\n",
    "        return np.max([np.abs((lmax-w)/(lmax-z)), np.abs((lmin-w)/(lmin-z))])"
   ]
  },
  {
   "cell_type": "code",
   "execution_count": 6,
   "id": "df8182bd",
   "metadata": {},
   "outputs": [],
   "source": [
    "def block_a_posteriori_bound(T, f,gamma,endpts,w,lmin,lmax, k, B_0):\n",
    "    \"\"\"\n",
    "    (1/2pi) \\oint_{\\Gamma} |f(z)| |D_{k,w,z}| Q_{w,z} |dz|\n",
    "    \"\"\"\n",
    "    Eval, Evec = np.linalg.eigh(T)\n",
    "    def F(t):\n",
    "        z,dz = gamma(t)\n",
    "        \n",
    "        return (1/(2*np.pi)) * np.abs(f(z)) * np.linalg.norm(BM.get_CwinvCz(Eval,Evec,z,w,np.shape(B_0)[0],B_0)) * Q_wz(w,z,lmin,lmax) * np.abs(dz)\n",
    "    \n",
    "    integral = sp.integrate.quad(F,endpts[0],endpts[1],epsabs=0,limit=200) \n",
    "    \n",
    "    return integral"
   ]
  },
  {
   "cell_type": "code",
   "execution_count": 7,
   "id": "249fc82e",
   "metadata": {},
   "outputs": [],
   "source": [
    "def block_a_posteriori_bound_mid(T, f, gamma, endpts, Q, H, V, B_0):\n",
    "    \"\"\"\n",
    "    (1/2pi) \\oint_{\\Gamma} |f(z)| |D_{k,w,z}| Q_{w,z} |dz|\n",
    "    \"\"\"\n",
    "    \n",
    "    Eval, Evec = np.linalg.eigh(T)\n",
    "    def F(t):\n",
    "        z,dz = gamma(t)\n",
    "        \n",
    "        return (1/(2*np.pi)) * np.linalg.norm(f(z)* exact_err(z, H, V, Q, T, B_0)) * np.abs(dz)\n",
    "    \n",
    "    integral = sp.integrate.quad(F,endpts[0],endpts[1],epsabs=0,limit=200)\n",
    "    \n",
    "    return integral"
   ]
  },
  {
   "cell_type": "code",
   "execution_count": 8,
   "id": "b796a92e",
   "metadata": {},
   "outputs": [],
   "source": [
    "def block_a_posteriori_bound_exact(T, f, H, V, Q, B_0, bsize):\n",
    "    EvalH, EvecH = np.linalg.eigh(H)\n",
    "    fEvalH = f(EvalH)\n",
    "    fH = EvecH@np.diag(fEvalH)@EvecH.conj().T\n",
    "    \n",
    "    EvalT, EvecT = np.linalg.eigh(T)\n",
    "#     EvalT may be negative, and np.sqrt only let imaginary output when input is complex\n",
    "#     thus, we make first element of EvalT complex first. \n",
    "    EvalT = EvalT.astype(complex)\n",
    "    EvalT[0] = EvalT[0]+0j\n",
    "    \n",
    "    fEvalT = f(EvalT)\n",
    "    fT = EvecT@np.diag(fEvalT)@EvecT.conj().T\n",
    "    \n",
    "#     changed the line below, was:\n",
    "#   return np.linalg.norm(fH@V-(Q@fT)[:, 0]@B_0)\n",
    "#   reason: should keep the first column of block, as opposed to first col.\n",
    "    return np.linalg.norm(np.reshape(fH@V, (n, bsize)).T-((Q@fT)[:, :bsize]@B_0).T)"
   ]
  },
  {
   "cell_type": "code",
   "execution_count": 9,
   "id": "001ed48a",
   "metadata": {},
   "outputs": [],
   "source": [
    "# use linear solver as oppose to get inverse\n",
    "def exact_err(z, H, V, Q, T, B_0):\n",
    "    Hinv = 1/(np.diag(H)-z)\n",
    "#     HinvV2 = Hinv*V\n",
    "    \n",
    "#     NOTE: apparently this implementation further tanks performance as its nolonger \"vectorized\".\n",
    "#     Below is the new way of computing HinvV for better compatibility with block size larger than 1.\n",
    "#     Above commented out was the old code that only works with block size 1\n",
    "#     this if statement checks if V is 1d, aka block size = 1. If true, reshape to 2D format for compatibility\n",
    "    if (np.shape(np.shape(V))[0] == 1): \n",
    "        V = np.reshape(V, (len(V), 1))\n",
    "        \n",
    "    HinvV = np.zeros(np.shape(V),dtype = 'complex_')\n",
    "    for i in np.arange(np.shape(V)[1]):\n",
    "        HinvV[:, i] = Hinv*V[:, i]\n",
    "    \n",
    "#     due to mismatched shape, we do transpose\n",
    "    HinvV = HinvV.T\n",
    "    \n",
    "#     print(np.linalg.norm(HinvV-HinvV2))\n",
    "\n",
    "    E1 = BM.Ei(np.shape(T)[0], np.shape(B_0)[0], 1)\n",
    "#     E1_array = np.reshape(E1, len(E1))\n",
    "    TinvE = np.linalg.solve((T-z*np.eye(T.shape[0])), E1)\n",
    "#     This line below is changed\n",
    "    return HinvV.T - Q@TinvE@B_0"
   ]
  },
  {
   "cell_type": "code",
   "execution_count": null,
   "id": "9a4002dd",
   "metadata": {},
   "outputs": [
    {
     "name": "stderr",
     "output_type": "stream",
     "text": [
      "C:\\Users\\qcx\\AppData\\Local\\Temp\\ipykernel_20792\\4243481732.py:12: IntegrationWarning: The maximum number of subdivisions (200) has been achieved.\n",
      "  If increasing the limit yields no improvement it is advised to analyze \n",
      "  the integrand in order to determine the difficulties.  If the position of a \n",
      "  local difficulty can be determined (singularity, discontinuity) one will \n",
      "  probably gain from splitting up the interval and calling the integrator \n",
      "  on the subranges.  Perhaps a special-purpose integrator should be used.\n",
      "  integral = sp.integrate.quad(F,endpts[0],endpts[1],epsabs=0,limit=200)\n",
      "C:\\Users\\qcx\\AppData\\Local\\Temp\\ipykernel_20792\\1825504721.py:11: IntegrationWarning: The maximum number of subdivisions (200) has been achieved.\n",
      "  If increasing the limit yields no improvement it is advised to analyze \n",
      "  the integrand in order to determine the difficulties.  If the position of a \n",
      "  local difficulty can be determined (singularity, discontinuity) one will \n",
      "  probably gain from splitting up the interval and calling the integrator \n",
      "  on the subranges.  Perhaps a special-purpose integrator should be used.\n",
      "  integral = sp.integrate.quad(F,endpts[0],endpts[1],epsabs=0,limit=200)\n"
     ]
    }
   ],
   "source": [
    "block_mid = np.full(K,np.inf)\n",
    "block_exact = np.full(K,np.inf)\n",
    "block_bound = np.full(K,np.inf)\n",
    "\n",
    "for k in range(1,int((K+1)/step)):\n",
    "    k = step*k\n",
    "#     unit is the number of rows/cols of Q and T to pass to the bound-finding-methods.\n",
    "    unit = k*b\n",
    "    block_mid[int((k-1)/step)] = block_a_posteriori_bound_mid(T[:unit, :unit], f,Gamma,[0,np.pi], Q[:, :unit], H, V, B_0)[0]\n",
    "    block_exact[int((k-1)/step)] = block_a_posteriori_bound_exact(T[:unit, :unit], f,H, V,Q[:, :unit], B_0, b)\n",
    "    block_bound[int((k-1)/step)] = block_a_posteriori_bound(T[:unit, :unit], f,Gamma,[0,np.pi],w,lmin_,lmax_, k, B_0)[0]"
   ]
  },
  {
   "cell_type": "code",
   "execution_count": null,
   "id": "d55451ad",
   "metadata": {},
   "outputs": [],
   "source": [
    "full_block_bound = np.full(K,np.inf)\n",
    "\n",
    "for k in range(1,int((K+1)/step)):\n",
    "    k = step*k\n",
    "    full_block_bound[int((k-1)/step)] = block_bound[int((k-1)/step)]*np.linalg.norm(exact_err(w, H, V, Q[:, :k], T[:k, :k], B_0))"
   ]
  },
  {
   "cell_type": "code",
   "execution_count": null,
   "id": "ed3f342a",
   "metadata": {},
   "outputs": [],
   "source": [
    "x = np.linspace(1, K, K)\n",
    "\n",
    "plt.plot(x*step, np.abs(full_block_bound), label = \"Actual bound\")\n",
    "plt.plot(x*step, np.abs(block_mid), label = \"First step bound\")\n",
    "plt.plot(x*step, np.abs(block_exact), label = \"exact error\")\n",
    "\n",
    "\n",
    "plt.yscale('log')\n",
    "plt.xlabel(\"k\")\n",
    "plt.ylabel(\"error\")\n",
    "plt.legend()\n",
    "plt.show"
   ]
  },
  {
   "cell_type": "code",
   "execution_count": null,
   "id": "af2eb917",
   "metadata": {},
   "outputs": [],
   "source": [
    "plt.savefig('b=4.png')"
   ]
  },
  {
   "cell_type": "code",
   "execution_count": null,
   "id": "71d32ffb",
   "metadata": {},
   "outputs": [],
   "source": []
  }
 ],
 "metadata": {
  "kernelspec": {
   "display_name": "Python 3 (ipykernel)",
   "language": "python",
   "name": "python3"
  },
  "language_info": {
   "codemirror_mode": {
    "name": "ipython",
    "version": 3
   },
   "file_extension": ".py",
   "mimetype": "text/x-python",
   "name": "python",
   "nbconvert_exporter": "python",
   "pygments_lexer": "ipython3",
   "version": "3.9.12"
  }
 },
 "nbformat": 4,
 "nbformat_minor": 5
}
