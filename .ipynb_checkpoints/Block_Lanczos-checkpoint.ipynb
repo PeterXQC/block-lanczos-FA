{
 "cells": [
  {
   "cell_type": "code",
   "execution_count": 1,
   "id": "3c8a52a9",
   "metadata": {
    "scrolled": true
   },
   "outputs": [],
   "source": [
    "import block_methods as BM\n",
    "\n",
    "import numpy as np\n",
    "import scipy as sp\n",
    "import matplotlib.pyplot as plt\n",
    "from scipy import integrate"
   ]
  },
  {
   "cell_type": "code",
   "execution_count": 2,
   "id": "16be4ff9",
   "metadata": {
    "scrolled": true
   },
   "outputs": [
    {
     "data": {
      "image/png": "[encoded data removed]",
      "text/plain": [
       "<Figure size 432x288 with 1 Axes>"
      ]
     },
     "metadata": {
      "needs_background": "light"
     },
     "output_type": "display_data"
    }
   ],
   "source": [
    "k = 100\n",
    "b = 2\n",
    "n = k*b\n",
    "itr = 70\n",
    "\n",
    "H = BM.randHerm(n, 1)\n",
    "V = BM.randVec(n, b)\n",
    "    \n",
    "error = BM.mkplt(H, V, itr, b, BM.exp)"
   ]
  },
  {
   "cell_type": "code",
   "execution_count": 15,
   "id": "488b48ce",
   "metadata": {},
   "outputs": [],
   "source": [
    "def const(t):\n",
    "    return 1"
   ]
  },
  {
   "cell_type": "code",
   "execution_count": 20,
   "id": "3eb01d5e",
   "metadata": {},
   "outputs": [],
   "source": [
    "def a_posteriori(f, z, n, b, k, h):\n",
    "    \n",
    "    \"\"\"\n",
    "    Input\n",
    "    -----\n",
    "    \n",
    "    f  : function to integrate over\n",
    "    n  : matrix size\n",
    "    b  : block size\n",
    "    k  : number of iteration\n",
    "    h  : bound of h_(w,z)(H)\n",
    "    \n",
    "    Returns\n",
    "    -------\n",
    "    value of the contour integral\n",
    "    \n",
    "    \"\"\"\n",
    "    Eval, Evec = np.linalg.eigh(T)\n",
    "    D = np.diag(1/(Eval-z))\n",
    "    \n",
    "    np.abs(f(z)) * h(z) * np.linalg.norm(-BM.Ei(n, b, k).T@Evec@D@Evec.T@BM.Ei(n, b, 1)@B_0)"
   ]
  },
  {
   "cell_type": "code",
   "execution_count": 16,
   "id": "df8182bd",
   "metadata": {},
   "outputs": [],
   "source": [
    "def contour_eval(f, contour, endpts, n, b, k, h):\n",
    "    \n",
    "    \"\"\"\n",
    "    Input\n",
    "    -----\n",
    "    \n",
    "    f  : function to integrate over\n",
    "    contour  : a already defined contour\n",
    "    endpts  : array of two endpoints for the integral\n",
    "    \n",
    "    Returns\n",
    "    -------\n",
    "    value of the contour integral\n",
    "    \n",
    "    \"\"\"\n",
    "        \n",
    "    def F(t):\n",
    "        z,dz = contour(t)\n",
    "        return a_posteriori(f, z, n, b, k, h) * dz\n",
    "    \n",
    "    return 1/(2*np.pi) * sp.integrate.quad(f, endpts[0], endpts[1], epsabs=0) * '''bound error here'''\n",
    "    "
   ]
  },
  {
   "cell_type": "code",
   "execution_count": 17,
   "id": "13fdf834",
   "metadata": {},
   "outputs": [],
   "source": [
    "def disks(t, c = 0, r = 1):\n",
    "    z = c + r*np.exp(t*1j)\n",
    "    dz = 1j*r*np.exp(t*1j)\n",
    "    return z, dz"
   ]
  },
  {
   "cell_type": "code",
   "execution_count": 19,
   "id": "180ff8d3",
   "metadata": {},
   "outputs": [
    {
     "name": "stdout",
     "output_type": "stream",
     "text": [
      "(3.141592653589793, 3.487868498008632e-14)\n"
     ]
    }
   ],
   "source": [
    "print(contour_eval(const, u_disks, [0, np.pi]))"
   ]
  },
  {
   "cell_type": "code",
   "execution_count": null,
   "id": "e535d3db",
   "metadata": {},
   "outputs": [],
   "source": []
  }
 ],
 "metadata": {
  "kernelspec": {
   "display_name": "Python 3 (ipykernel)",
   "language": "python",
   "name": "python3"
  },
  "language_info": {
   "codemirror_mode": {
    "name": "ipython",
    "version": 3
   },
   "file_extension": ".py",
   "mimetype": "text/x-python",
   "name": "python",
   "nbconvert_exporter": "python",
   "pygments_lexer": "ipython3",
   "version": "3.9.12"
  }
 },
 "nbformat": 4,
 "nbformat_minor": 5
}
