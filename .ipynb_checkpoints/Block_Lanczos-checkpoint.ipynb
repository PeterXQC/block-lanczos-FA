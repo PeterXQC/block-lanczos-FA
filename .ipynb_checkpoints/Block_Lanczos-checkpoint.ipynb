{
 "cells": [
  {
   "cell_type": "code",
   "execution_count": 1,
   "id": "3c8a52a9",
   "metadata": {
    "scrolled": true
   },
   "outputs": [],
   "source": [
    "import block_methods as BM\n",
    "\n",
    "from Lanczos_FA.lanczos_bin import *\n",
    "\n",
    "import numpy as np\n",
    "import scipy as sp\n",
    "import matplotlib.pyplot as plt\n",
    "from scipy import integrate"
   ]
  },
  {
   "cell_type": "code",
   "execution_count": 2,
   "id": "16be4ff9",
   "metadata": {
    "scrolled": true
   },
   "outputs": [
    {
     "data": {
      "image/png": "[encoded data removed]",
      "text/plain": [
       "<Figure size 432x288 with 1 Axes>"
      ]
     },
     "metadata": {
      "needs_background": "light"
     },
     "output_type": "display_data"
    }
   ],
   "source": [
    "k = 100\n",
    "b = 2\n",
    "n = k*b\n",
    "itr = 70\n",
    "\n",
    "H = BM.randHerm(n, 1)\n",
    "V = BM.randVec(n, b)\n",
    "    \n",
    "error = BM.mkplt(H, V, itr, b, BM.exp)"
   ]
  },
  {
   "cell_type": "code",
   "execution_count": 3,
   "id": "488b48ce",
   "metadata": {},
   "outputs": [],
   "source": [
    "def const(t):\n",
    "    return 1"
   ]
  },
  {
   "cell_type": "code",
   "execution_count": 4,
   "id": "3eb01d5e",
   "metadata": {},
   "outputs": [],
   "source": [
    "def a_posteriori(f, z, b, itr, h, T, w, B):\n",
    "    \n",
    "    \"\"\"\n",
    "    Input\n",
    "    -----\n",
    "    \n",
    "    f  : function to integrate over\n",
    "    n  : matrix size\n",
    "    b  : block size\n",
    "    itr  : number of iteration\n",
    "    h  : bound of h_(w,z)(H)\n",
    "    \n",
    "    Returns\n",
    "    -------\n",
    "    value of the contour integral\n",
    "    \n",
    "    \"\"\"\n",
    "    Eval, Evec = np.linalg.eigh(T)\n",
    "    Dzinv = np.diag(1/(Eval-z))\n",
    "    Dwinv = np.diag(1/(Eval-w))\n",
    "    if b == 1:\n",
    "        Cz = -BM.Ei(itr*b, b, itr).T@Evec@Dzinv@Evec.T@BM.Ei(itr*b, b, 1)*B[0]\n",
    "        Cwinv = np.linalg.inv(-BM.Ei(itr*b, b, itr).T@Evec@Dwinv@Evec.T@BM.Ei(itr*b, b, 1)*B[0]) \n",
    "    else:\n",
    "        Cz = -BM.Ei(itr*b, b, itr).T@Evec@Dzinv@Evec.T@BM.Ei(itr*b, b, 1)@B[0]\n",
    "        Cwinv = np.linalg.inv(-BM.Ei(itr*b, b, itr).T@Evec@Dwinv@Evec.T@BM.Ei(itr*b, b, 1)@B[0])\n",
    "    \n",
    "#     print(np.shape(BM.Ei(n, b, k)))\n",
    "    \n",
    "    return np.abs(f(z)) * h(z) * np.linalg.norm(Cwinv@Cz)"
   ]
  },
  {
   "cell_type": "code",
   "execution_count": 5,
   "id": "df8182bd",
   "metadata": {},
   "outputs": [],
   "source": [
    "def contour_eval(f, contour, endpts, b, itr, h, T, w, B):\n",
    "    \n",
    "    \"\"\"\n",
    "    Input\n",
    "    -----\n",
    "    \n",
    "    f  : function to integrate over\n",
    "    contour  : a already defined contour\n",
    "    endpts  : array of two endpoints for the integral\n",
    "    \n",
    "    Returns\n",
    "    -------\n",
    "    value of the contour integral\n",
    "    \n",
    "    \"\"\"\n",
    "        \n",
    "    def F(t):\n",
    "        z,dz = contour(t)\n",
    "        return a_posteriori(f, z, b, itr, h, T, w, B) * dz\n",
    "    \n",
    "    \n",
    "    integral = sp.integrate.quad(F, endpts[0], endpts[1], epsabs=0)[0]\n",
    "    return (1/(2*np.pi))*integral"
   ]
  },
  {
   "cell_type": "code",
   "execution_count": 6,
   "id": "13fdf834",
   "metadata": {},
   "outputs": [],
   "source": [
    "def u_disks(t):\n",
    "    z = np.exp(t*1j)\n",
    "    dz = 1j*np.exp(t*1j)\n",
    "    return z, dz"
   ]
  },
  {
   "cell_type": "code",
   "execution_count": 7,
   "id": "b2b96b57",
   "metadata": {},
   "outputs": [],
   "source": [
    "k = 100\n",
    "b = 1\n",
    "n = k*b\n",
    "itr = 6\n",
    "\n",
    "H = BM.randHerm(n,b)\n",
    "V = BM.randVec(n, b)"
   ]
  },
  {
   "cell_type": "code",
   "execution_count": 8,
   "id": "5d1ba0c0",
   "metadata": {},
   "outputs": [],
   "source": [
    "Q1k, Qkp1, A, B = BM.block_lanczos(H, V, itr, itr + 1)\n",
    "T = BM.get_block_tridiag(A,B)"
   ]
  },
  {
   "cell_type": "code",
   "execution_count": 9,
   "id": "180ff8d3",
   "metadata": {},
   "outputs": [
    {
     "name": "stdout",
     "output_type": "stream",
     "text": [
      "-2.70745747158901\n"
     ]
    },
    {
     "name": "stderr",
     "output_type": "stream",
     "text": [
      "E:\\Anaconda\\lib\\site-packages\\scipy\\integrate\\quadpack.py:463: ComplexWarning: Casting complex values to real discards the imaginary part\n",
      "  return _quadpack._qagse(func,a,b,args,full_output,epsabs,epsrel,limit)\n"
     ]
    }
   ],
   "source": [
    "print(contour_eval(const, u_disks, [0, np.pi], b, itr, const, T, 5, B))"
   ]
  },
  {
   "cell_type": "code",
   "execution_count": 10,
   "id": "c43c7fdd",
   "metadata": {},
   "outputs": [],
   "source": [
    "n = 3000\n",
    "m = 2*n\n",
    "X = np.random.randn(n,m)/np.sqrt(2*n)\n",
    "A = X@X.T\n",
    "lam = np.linalg.eigvalsh(A)\n",
    "#lam = np.load('matrices/Erdos992_eigs.npy')\n",
    "#lam /= np.min(np.abs(lam))\n",
    "n = len(lam)\n",
    "\n",
    "b = np.ones(n,dtype=np.longdouble)\n",
    "b /= np.linalg.norm(b)\n",
    "\n",
    "lmin = np.min(lam).astype(np.double)\n",
    "lmax = np.max(lam).astype(np.double)\n",
    "kappa = lmax / lmin\n",
    "\n",
    "w = 0\n",
    "\n",
    "# norm to measure function approximation and linear system errors\n",
    "B = np.ones(n)\n",
    "\n",
    "K = 40\n",
    "reorth=True\n",
    "Q,(a_,b_) = exact_lanczos(lam.astype(np.longdouble),b.astype(np.longdouble),K+1,reorth=reorth)\n",
    "\n",
    "e1 = np.zeros(K+1)\n",
    "e1[0] = 1\n",
    "def get_a_posteriori_bound_Qz(f,gamma,endpts,a_,b_,w,lmin,lmax):\n",
    "    \"\"\"\n",
    "    (1/2pi) \\oint_{\\Gamma} |f(z)| |D_{k,z}| Q_{w,z} |dz|\n",
    "    \"\"\"\n",
    "    \n",
    "    theta = sp.linalg.eigvalsh_tridiagonal(a_,b_,tol=1e-30)\n",
    "\n",
    "    def F(t):\n",
    "        z,dz = gamma(t)\n",
    "        \n",
    "        return (1/(2*np.pi)) * np.abs(f(z)) * np.abs(np.prod((theta-w)/(theta-z)))**2 * Q_z(z,lmin,lmax) * np.abs(dz)\n",
    "    \n",
    "    integral = sp.integrate.quad(F,endpts[0],endpts[1],epsabs=0,limit=200) \n",
    "    \n",
    "    return integral\n",
    "\n",
    "a_posteriori_bound = np.full(K,np.inf)\n",
    "\n",
    "def Gamma1(t):\n",
    "    z = lmin/100*(np.cos(t)+np.sin(t)*1j)\n",
    "    dz = lmin/100*(-np.sin(t)+np.cos(t)*1j)\n",
    "    \n",
    "    return z,dz\n",
    "\n",
    "def Gamma2(t):\n",
    "    z = lmin/100*1j*t\n",
    "    dz = lmin/100*1j\n",
    "    \n",
    "    return z,dz\n",
    "\n",
    "def f(x):\n",
    "    return np.log(x)\n",
    "\n",
    "fAb = f(lam)*b\n",
    "\n",
    "for k in range(1,K):\n",
    "    a_posteriori_bound[k-1] = get_a_posteriori_bound_Qz(f,Gamma1,[0,np.pi/2],a_[:k],b_[:k-1],w,lmin,lmax)[0]"
   ]
  },
  {
   "cell_type": "code",
   "execution_count": 11,
   "id": "47d991b4",
   "metadata": {},
   "outputs": [
    {
     "data": {
      "text/plain": [
       "array([0.0179204 , 0.01794984, 0.01798428, 0.01802129, 0.01805968,\n",
       "       0.01809876, 0.01813825, 0.01817801, 0.01821802, 0.01825813,\n",
       "       0.01829838, 0.01833878, 0.01837933, 0.01842007, 0.01846093,\n",
       "       0.01850191, 0.0185429 , 0.01858405, 0.01862533, 0.01866675,\n",
       "       0.01870838, 0.01875006, 0.01879199, 0.01883401, 0.01887609,\n",
       "       0.01891823, 0.01896063, 0.01900305, 0.01904571, 0.01908836,\n",
       "       0.01913106, 0.01917391, 0.01921705, 0.0192605 , 0.01930407,\n",
       "       0.01934771, 0.01939134, 0.01943491, 0.01947871,        inf])"
      ]
     },
     "execution_count": 11,
     "metadata": {},
     "output_type": "execute_result"
    }
   ],
   "source": [
    "a_posteriori_bound"
   ]
  },
  {
   "cell_type": "code",
   "execution_count": 13,
   "id": "51f17431",
   "metadata": {},
   "outputs": [],
   "source": [
    "compare = np.full(K,np.inf)\n",
    "T = np.diag(a_.astype(np.double)) + np.diag(b_.astype(np.double), 1) + np.diag(b_.astype(np.double), -1)\n",
    "\n",
    "for k in range(1,K):\n",
    "    compare[k-1] = contour_eval(f, Gamma1, [0,np.pi/2], 1, k, const, T[:k, :k], w, b_)"
   ]
  },
  {
   "cell_type": "code",
   "execution_count": 14,
   "id": "6051c697",
   "metadata": {},
   "outputs": [
    {
     "data": {
      "text/plain": [
       "array([-0.00097873, -0.00097936, -0.00098009, -0.00098088, -0.0009817 ,\n",
       "       -0.00098253, -0.00098336, -0.00098421, -0.00098505, -0.0009859 ,\n",
       "       -0.00098675, -0.0009876 , -0.00098845, -0.0009893 , -0.00099016,\n",
       "       -0.00099101, -0.00099187, -0.00099273, -0.00099358, -0.00099444,\n",
       "       -0.00099531, -0.00099617, -0.00099704, -0.0009979 , -0.00099877,\n",
       "       -0.00099964, -0.00100051, -0.00100138, -0.00100225, -0.00100312,\n",
       "       -0.001004  , -0.00100487, -0.00100575, -0.00100663, -0.00100751,\n",
       "       -0.0010084 , -0.00100928, -0.00101016, -0.00101104,         inf])"
      ]
     },
     "execution_count": 14,
     "metadata": {},
     "output_type": "execute_result"
    }
   ],
   "source": [
    "compare"
   ]
  },
  {
   "cell_type": "code",
   "execution_count": null,
   "id": "cbc2e0bb",
   "metadata": {},
   "outputs": [],
   "source": [
    "BM.Ei(itr*b, b, itr).T@Evec@Dzinv@Evec.T@BM.Ei(itr*b, b, 1)@b_[0]"
   ]
  },
  {
   "cell_type": "code",
   "execution_count": null,
   "id": "28dab9e1",
   "metadata": {},
   "outputs": [],
   "source": [
    "Evec.shape"
   ]
  },
  {
   "cell_type": "code",
   "execution_count": null,
   "id": "e7a48218",
   "metadata": {},
   "outputs": [],
   "source": [
    "Dzinv.shape"
   ]
  },
  {
   "cell_type": "code",
   "execution_count": null,
   "id": "75628ffb",
   "metadata": {},
   "outputs": [],
   "source": [
    "Evec.T.shape"
   ]
  },
  {
   "cell_type": "code",
   "execution_count": null,
   "id": "25c10637",
   "metadata": {},
   "outputs": [],
   "source": [
    "BM.Ei(itr*b, b, 1).shape"
   ]
  },
  {
   "cell_type": "code",
   "execution_count": null,
   "id": "9ac544fa",
   "metadata": {},
   "outputs": [],
   "source": [
    "b_[0]"
   ]
  },
  {
   "cell_type": "code",
   "execution_count": null,
   "id": "0ee0d157",
   "metadata": {},
   "outputs": [],
   "source": []
  }
 ],
 "metadata": {
  "kernelspec": {
   "display_name": "Python 3 (ipykernel)",
   "language": "python",
   "name": "python3"
  },
  "language_info": {
   "codemirror_mode": {
    "name": "ipython",
    "version": 3
   },
   "file_extension": ".py",
   "mimetype": "text/x-python",
   "name": "python",
   "nbconvert_exporter": "python",
   "pygments_lexer": "ipython3",
   "version": "3.9.12"
  }
 },
 "nbformat": 4,
 "nbformat_minor": 5
}
