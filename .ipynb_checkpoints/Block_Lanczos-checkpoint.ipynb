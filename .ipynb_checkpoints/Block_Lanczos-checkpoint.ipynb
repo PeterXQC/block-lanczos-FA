{
 "cells": [
  {
   "cell_type": "code",
   "execution_count": 1,
   "id": "3c8a52a9",
   "metadata": {
    "scrolled": true
   },
   "outputs": [],
   "source": [
    "import block_methods as BM\n",
    "\n",
    "import numpy as np\n",
    "import scipy as sp\n",
    "import matplotlib.pyplot as plt\n",
    "from scipy import integrate"
   ]
  },
  {
   "cell_type": "code",
   "execution_count": 2,
   "id": "16be4ff9",
   "metadata": {
    "scrolled": true
   },
   "outputs": [
    {
     "data": {
      "image/png": "[encoded data removed]",
      "text/plain": [
       "<Figure size 432x288 with 1 Axes>"
      ]
     },
     "metadata": {
      "needs_background": "light"
     },
     "output_type": "display_data"
    }
   ],
   "source": [
    "k = 100\n",
    "b = 2\n",
    "n = k*b\n",
    "itr = 70\n",
    "\n",
    "H = BM.randHerm(n, 1)\n",
    "V = BM.randVec(n, b)\n",
    "    \n",
    "error = BM.mkplt(H, V, itr, b, BM.exp)"
   ]
  },
  {
   "cell_type": "code",
   "execution_count": 3,
   "id": "488b48ce",
   "metadata": {},
   "outputs": [],
   "source": [
    "def const(t):\n",
    "    return 1"
   ]
  },
  {
   "cell_type": "code",
   "execution_count": 4,
   "id": "3eb01d5e",
   "metadata": {},
   "outputs": [],
   "source": [
    "def a_posteriori(f, z, b, itr, h, T, w):\n",
    "    \n",
    "    \"\"\"\n",
    "    Input\n",
    "    -----\n",
    "    \n",
    "    f  : function to integrate over\n",
    "    n  : matrix size\n",
    "    b  : block size\n",
    "    itr  : number of iteration\n",
    "    h  : bound of h_(w,z)(H)\n",
    "    \n",
    "    Returns\n",
    "    -------\n",
    "    value of the contour integral\n",
    "    \n",
    "    \"\"\"\n",
    "    Eval, Evec = np.linalg.eigh(T)\n",
    "    Dzinv = np.diag(1/(Eval-z))\n",
    "    Dwinv = np.diag(1/(Eval-w))\n",
    "    Cz = -BM.Ei(itr*b, b, itr).T@Evec@Dzinv@Evec.T@BM.Ei(itr*b, b, 1)@B[0]\n",
    "    Cwinv = np.linalg.inv(-BM.Ei(itr*b, b, itr).T@Evec@Dwinv@Evec.T@BM.Ei(itr*b, b, 1)@B[0])\n",
    "    \n",
    "#     print(np.shape(BM.Ei(n, b, k)))\n",
    "    \n",
    "    return np.abs(f(z)) * h(z) * np.linalg.norm(Cwinv@Cz)"
   ]
  },
  {
   "cell_type": "code",
   "execution_count": 5,
   "id": "df8182bd",
   "metadata": {},
   "outputs": [],
   "source": [
    "def contour_eval(f, contour, endpts, b, itr, h, T, w):\n",
    "    \n",
    "    \"\"\"\n",
    "    Input\n",
    "    -----\n",
    "    \n",
    "    f  : function to integrate over\n",
    "    contour  : a already defined contour\n",
    "    endpts  : array of two endpoints for the integral\n",
    "    \n",
    "    Returns\n",
    "    -------\n",
    "    value of the contour integral\n",
    "    \n",
    "    \"\"\"\n",
    "        \n",
    "    def F(t):\n",
    "        z,dz = contour(t)\n",
    "        return a_posteriori(f, z, b, itr, h, T, w) * dz\n",
    "    \n",
    "    \n",
    "    return sp.integrate.quad(F, endpts[0], endpts[1], epsabs=0)"
   ]
  },
  {
   "cell_type": "code",
   "execution_count": 6,
   "id": "13fdf834",
   "metadata": {},
   "outputs": [],
   "source": [
    "def u_disks(t):\n",
    "    z = np.exp(t*1j)\n",
    "    dz = 1j*np.exp(t*1j)\n",
    "    return z, dz"
   ]
  },
  {
   "cell_type": "code",
   "execution_count": 47,
   "id": "b2b96b57",
   "metadata": {},
   "outputs": [],
   "source": [
    "k = 100\n",
    "b = 1\n",
    "n = k*b\n",
    "itr = 6\n",
    "\n",
    "H = BM.randHerm(n,b)\n",
    "V = BM.randVec(n, b)"
   ]
  },
  {
   "cell_type": "code",
   "execution_count": 48,
   "id": "5d1ba0c0",
   "metadata": {},
   "outputs": [],
   "source": [
    "Q1k, Qkp1, A, B = BM.block_lanczos(H, V, itr, itr + 1)\n",
    "T = BM.get_block_tridiag(A,B)"
   ]
  },
  {
   "cell_type": "code",
   "execution_count": 56,
   "id": "180ff8d3",
   "metadata": {},
   "outputs": [
    {
     "name": "stdout",
     "output_type": "stream",
     "text": [
      "(-31.898554161212843, 5.827826537405925e-09)\n"
     ]
    }
   ],
   "source": [
    "print(contour_eval(const, u_disks, [0, np.pi], b, itr, const, T, 5))"
   ]
  },
  {
   "cell_type": "code",
   "execution_count": null,
   "id": "064cb711",
   "metadata": {},
   "outputs": [],
   "source": []
  }
 ],
 "metadata": {
  "kernelspec": {
   "display_name": "Python 3 (ipykernel)",
   "language": "python",
   "name": "python3"
  },
  "language_info": {
   "codemirror_mode": {
    "name": "ipython",
    "version": 3
   },
   "file_extension": ".py",
   "mimetype": "text/x-python",
   "name": "python",
   "nbconvert_exporter": "python",
   "pygments_lexer": "ipython3",
   "version": "3.9.7"
  }
 },
 "nbformat": 4,
 "nbformat_minor": 5
}
